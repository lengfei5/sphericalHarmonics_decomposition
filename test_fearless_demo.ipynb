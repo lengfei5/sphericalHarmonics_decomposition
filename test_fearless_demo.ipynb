{
 "cells": [
  {
   "cell_type": "code",
   "execution_count": 1,
   "id": "d07aafaa-5631-414c-9e36-12ea69a5527b",
   "metadata": {
    "tags": []
   },
   "outputs": [],
   "source": [
    "###########################\n",
    "# test https://github.com/gioda/FeARLesS/blob/main/SimpleImplementation/SH-demo.py\n",
    "###########################\n",
    "import numpy as np\n",
    "import os\n",
    "from scipy.spatial.transform import Rotation as R\n",
    "from scipy.interpolate import griddata\n",
    "import pyshtools as shtools\n",
    "import trimesh\n",
    "from tqdm import tqdm\n",
    "import vtk\n",
    "import pyvista as pv\n",
    "#import trame\n",
    "#from trame.app import get_server"
   ]
  },
  {
   "cell_type": "code",
   "execution_count": 3,
   "id": "f0acdbc9-451c-4ba2-a4a6-effa148293c9",
   "metadata": {
    "tags": []
   },
   "outputs": [],
   "source": [
    "#CLIENT_TYPE"
   ]
  },
  {
   "cell_type": "code",
   "execution_count": 4,
   "id": "793fac23-4fa1-4eb9-979e-ad9f9c663487",
   "metadata": {
    "tags": []
   },
   "outputs": [],
   "source": [
    "#CLIENT_TYPE = get_server().client_type\n",
    "#if CLIENT_TYPE == 'vue2':\n",
    "#    from trame.widgets import vuetify\n",
    "#else:\n",
    "#    from trame.widgets import vuetify3 as vuetify"
   ]
  },
  {
   "cell_type": "code",
   "execution_count": 5,
   "id": "a111112a-f1bf-4095-85da-b6af655e341a",
   "metadata": {
    "tags": []
   },
   "outputs": [],
   "source": [
    "#pv.set_jupyter_backend('trame')\n",
    "#DataPath = '/Users/jingkui.wang/workspace/imp/image_analysis/S-BIAD441/limbs/limbs-noFlank/'"
   ]
  },
  {
   "cell_type": "code",
   "execution_count": 2,
   "id": "eab11959-9d88-4448-b607-2a76f123ae41",
   "metadata": {
    "tags": []
   },
   "outputs": [
    {
     "data": {
      "application/vnd.jupyter.widget-view+json": {
       "model_id": "c4218965329c445fa54ca324582bb2ce",
       "version_major": 2,
       "version_minor": 0
      },
      "text/plain": [
       "Widget(value='<iframe src=\"http://localhost:55846/index.html?ui=P_0x32a955a90_0&reconnect=auto\" class=\"pyvista…"
      ]
     },
     "metadata": {},
     "output_type": "display_data"
    }
   ],
   "source": [
    "# mesh points\n",
    "vertices = np.array([[0, 0, 0], [1, 0, 0], [1, 1, 0], [0, 1, 0], [0.5, 0.5, -1]])\n",
    "\n",
    "# mesh faces\n",
    "faces = np.hstack(\n",
    "    [\n",
    "        [4, 0, 1, 2, 3],  # square\n",
    "        [3, 0, 1, 4],  # triangle\n",
    "        [3, 1, 2, 4],  # triangle\n",
    "    ],\n",
    ")\n",
    "\n",
    "surf = pv.PolyData(vertices, faces)\n",
    "\n",
    "# plot each face with a different color\n",
    "surf.plot(\n",
    "    scalars=np.arange(3),\n",
    "    cpos=[-1, 1, 0.5],\n",
    "    show_scalar_bar=False,\n",
    "    show_edges=True,\n",
    "    line_width=5,\n",
    ")"
   ]
  },
  {
   "cell_type": "code",
   "execution_count": null,
   "id": "8540eadc-c230-4f4f-9280-e2f2e094a51f",
   "metadata": {},
   "outputs": [],
   "source": []
  },
  {
   "cell_type": "code",
   "execution_count": 3,
   "id": "f6b5de5e-2934-4345-87a5-076c69d1135e",
   "metadata": {
    "tags": []
   },
   "outputs": [],
   "source": [
    "# Parameters\n",
    "lmax = 50       # Maximum degree of spherical harmonics\n",
    "N = 500         # Number of grid points\n",
    "rmax = 1400     # Maximum radius for reconstruction\n",
    "## Data download from https://www.ebi.ac.uk/biostudies/bioimages/studies/S-BIAD441\n",
    "input_path = '/Users/jingkui.wang/workspace/imp/image_analysis/S-BIAD441/hearts/'\n",
    "output_path = \"/Users/jingkui.wang/workspace/imp/image_analysis/S-BIAD441/hearts/output/reconstructed_shapes/\"\n",
    "intensity_path = \"/Users/jingkui.wang/workspace/imp/image_analysis/S-BIAD441/hearts/output/voxel_intensities/\"\n",
    "os.makedirs(output_path, exist_ok=True)\n",
    "os.makedirs(intensity_path, exist_ok=True)\n",
    "\n",
    "def pathExists(path):\n",
    "    if not os.path.exists(path):\n",
    "        os.makedirs(path)"
   ]
  },
  {
   "cell_type": "code",
   "execution_count": 4,
   "id": "5183c34c-b3a9-45b3-94a8-3b57af624037",
   "metadata": {
    "tags": []
   },
   "outputs": [],
   "source": [
    "volume_files = [f for f in os.listdir(input_path) if f.endswith('.vti')]"
   ]
  },
  {
   "cell_type": "code",
   "execution_count": 5,
   "id": "8afb481d-b574-44e6-87f8-278f514c2c7c",
   "metadata": {
    "tags": []
   },
   "outputs": [
    {
     "data": {
      "text/plain": [
       "27"
      ]
     },
     "execution_count": 5,
     "metadata": {},
     "output_type": "execute_result"
    }
   ],
   "source": [
    "len(volume_files)\n",
    "#tqdm(volume_files, desc=\"Processing volumes\")"
   ]
  },
  {
   "cell_type": "code",
   "execution_count": 13,
   "id": "d2598dc8-2af0-4682-8e0e-ef83d7dc6529",
   "metadata": {
    "tags": []
   },
   "outputs": [
    {
     "data": {
      "application/vnd.jupyter.widget-view+json": {
       "model_id": "bdf748e09d4c44b8bdf27e18fc92fea2",
       "version_major": 2,
       "version_minor": 0
      },
      "text/plain": [
       "Widget(value='<iframe src=\"http://localhost:55846/index.html?ui=P_0x359e1e2e0_6&reconnect=auto\" class=\"pyvista…"
      ]
     },
     "metadata": {},
     "output_type": "display_data"
    }
   ],
   "source": [
    "vol_path = os.path.join(input_path, volume_files[18])\n",
    "vol = pv.read(vol_path)\n",
    "vol\n",
    "vol.plot()"
   ]
  },
  {
   "cell_type": "code",
   "execution_count": null,
   "id": "4be7a095-3d2c-475e-a5cc-c5e35601dd70",
   "metadata": {
    "tags": []
   },
   "outputs": [],
   "source": []
  },
  {
   "cell_type": "code",
   "execution_count": 14,
   "id": "3a1cc5e7-d46a-409d-95ea-600aaa9500ce",
   "metadata": {
    "tags": []
   },
   "outputs": [],
   "source": [
    "#rmax = 1\n",
    "#N = 100\n",
    "expo = 1.0"
   ]
  },
  {
   "cell_type": "code",
   "execution_count": 15,
   "id": "7562b68b-e2f9-4bdb-b0ba-bfe2cf54387b",
   "metadata": {
    "tags": []
   },
   "outputs": [],
   "source": [
    "radiusDiscretisation = rmax\n",
    "grid_x = np.linspace(-1, 1, N) * radiusDiscretisation\n",
    "grid_y = np.linspace(-1, 1, N) * radiusDiscretisation\n",
    "grid_z = np.linspace(-1, 1, N) * radiusDiscretisation"
   ]
  },
  {
   "cell_type": "code",
   "execution_count": 17,
   "id": "047b2e19-bcd3-42b6-87c5-be27670be36f",
   "metadata": {
    "tags": []
   },
   "outputs": [],
   "source": [
    "grid_x;\n",
    "grid_y;"
   ]
  },
  {
   "cell_type": "code",
   "execution_count": 18,
   "id": "7f15cb32-61fb-4e71-8d9a-3cc47c7a511c",
   "metadata": {
    "tags": []
   },
   "outputs": [],
   "source": [
    "grid_x, grid_y, grid_z = np.meshgrid(grid_x, grid_y, grid_z, indexing=\"ij\")"
   ]
  },
  {
   "cell_type": "code",
   "execution_count": 19,
   "id": "ac3d72dc-e428-4d37-86ef-e3997604b6ac",
   "metadata": {
    "tags": []
   },
   "outputs": [
    {
     "data": {
      "text/plain": [
       "125000000"
      ]
     },
     "execution_count": 19,
     "metadata": {},
     "output_type": "execute_result"
    }
   ],
   "source": [
    "grid_x.size\n",
    "#pv.RectilinearGrid.meshgrid()"
   ]
  },
  {
   "cell_type": "code",
   "execution_count": 23,
   "id": "b19d00fd-2e60-49f4-ba69-17f401db14ca",
   "metadata": {
    "tags": []
   },
   "outputs": [],
   "source": [
    "#intensities = expo * vol.sample((grid_x, grid_y, grid_z))"
   ]
  },
  {
   "cell_type": "code",
   "execution_count": 17,
   "id": "2731dcee-5234-4dcf-a239-0b6cbaaa48be",
   "metadata": {
    "tags": []
   },
   "outputs": [],
   "source": [
    "#pv.StructuredGrid(grid_x, grid_y, grid_z)\n",
    "#data_to_probe = pv.RectilinearGrid(grid_x, grid_y, grid_z)\n",
    "data_to_probe = pv.StructuredGrid(grid_x, grid_y, grid_z)\n",
    "\n",
    "#data_to_probe = pv.RectilinearGrid(grid_x, grid_y, grid_z)"
   ]
  },
  {
   "cell_type": "code",
   "execution_count": 25,
   "id": "87f20a8c-f5fa-4cfa-a65c-858ac3e34a55",
   "metadata": {
    "tags": []
   },
   "outputs": [
    {
     "ename": "TypeError",
     "evalue": "`target` must be a PyVista mesh type.",
     "output_type": "error",
     "traceback": [
      "\u001b[0;31m---------------------------------------------------------------------------\u001b[0m",
      "\u001b[0;31mTypeError\u001b[0m                                 Traceback (most recent call last)",
      "Cell \u001b[0;32mIn[25], line 5\u001b[0m\n\u001b[1;32m      1\u001b[0m \u001b[38;5;66;03m# Compute intensities using the given volume data\u001b[39;00m\n\u001b[1;32m      2\u001b[0m \u001b[38;5;66;03m#grid = pv.StructuredGrid()\u001b[39;00m\n\u001b[1;32m      3\u001b[0m \u001b[38;5;66;03m#grid.points = (grid_x, grid_y, grid_z)\u001b[39;00m\n\u001b[1;32m      4\u001b[0m \u001b[38;5;66;03m#intensities = expo * vol.sample(target = np.meshgrid(grid_x, grid_y, grid_z, indexing=\"ij\"))\u001b[39;00m\n\u001b[0;32m----> 5\u001b[0m intensities \u001b[38;5;241m=\u001b[39m expo \u001b[38;5;241m*\u001b[39m \u001b[43mvol\u001b[49m\u001b[38;5;241;43m.\u001b[39;49m\u001b[43msample\u001b[49m\u001b[43m(\u001b[49m\u001b[43m(\u001b[49m\u001b[43mgrid_x\u001b[49m\u001b[43m,\u001b[49m\u001b[43m \u001b[49m\u001b[43mgrid_y\u001b[49m\u001b[43m,\u001b[49m\u001b[43m \u001b[49m\u001b[43mgrid_z\u001b[49m\u001b[43m)\u001b[49m\u001b[43m)\u001b[49m\n\u001b[1;32m      6\u001b[0m \u001b[38;5;66;03m#intensities = expo * vol.sample(target = data_to_probe) \u001b[39;00m\n\u001b[1;32m      7\u001b[0m \u001b[38;5;66;03m#intensities.plot()\u001b[39;00m\n\u001b[1;32m      8\u001b[0m \u001b[38;5;66;03m#vol.sample()\u001b[39;00m\n\u001b[1;32m      9\u001b[0m \u001b[38;5;66;03m#allIntensities = voxelIntensity(vol, expo, N, radiusDiscretisation)\u001b[39;00m\n",
      "File \u001b[0;32m~/miniforge3/envs/image_env/lib/python3.9/site-packages/pyvista/core/filters/data_set.py:3652\u001b[0m, in \u001b[0;36mDataSetFilters.sample\u001b[0;34m(self, target, tolerance, pass_cell_data, pass_point_data, categorical, progress_bar, locator, pass_field_data, mark_blank, snap_to_closest_point)\u001b[0m\n\u001b[1;32m   3555\u001b[0m \u001b[38;5;250m\u001b[39m\u001b[38;5;124;03m\"\"\"Resample array data from a passed mesh onto this mesh.\u001b[39;00m\n\u001b[1;32m   3556\u001b[0m \n\u001b[1;32m   3557\u001b[0m \u001b[38;5;124;03mFor `mesh1.sample(mesh2)`, the arrays from `mesh2` are sampled onto\u001b[39;00m\n\u001b[0;32m   (...)\u001b[0m\n\u001b[1;32m   3649\u001b[0m \n\u001b[1;32m   3650\u001b[0m \u001b[38;5;124;03m\"\"\"\u001b[39;00m\n\u001b[1;32m   3651\u001b[0m \u001b[38;5;28;01mif\u001b[39;00m \u001b[38;5;129;01mnot\u001b[39;00m pyvista\u001b[38;5;241m.\u001b[39mis_pyvista_dataset(target):\n\u001b[0;32m-> 3652\u001b[0m     \u001b[38;5;28;01mraise\u001b[39;00m \u001b[38;5;167;01mTypeError\u001b[39;00m(\u001b[38;5;124m'\u001b[39m\u001b[38;5;124m`target` must be a PyVista mesh type.\u001b[39m\u001b[38;5;124m'\u001b[39m)\n\u001b[1;32m   3653\u001b[0m alg \u001b[38;5;241m=\u001b[39m _vtk\u001b[38;5;241m.\u001b[39mvtkResampleWithDataSet()  \u001b[38;5;66;03m# Construct the ResampleWithDataSet object\u001b[39;00m\n\u001b[1;32m   3654\u001b[0m alg\u001b[38;5;241m.\u001b[39mSetInputData(\u001b[38;5;28mself\u001b[39m)  \u001b[38;5;66;03m# Set the Input data (actually the source i.e. where to sample from)\u001b[39;00m\n",
      "\u001b[0;31mTypeError\u001b[0m: `target` must be a PyVista mesh type."
     ]
    }
   ],
   "source": [
    "# Compute intensities using the given volume data\n",
    "#grid = pv.StructuredGrid()\n",
    "#grid.points = (grid_x, grid_y, grid_z)\n",
    "#intensities = expo * vol.sample(target = np.meshgrid(grid_x, grid_y, grid_z, indexing=\"ij\"))\n",
    "intensities = expo * vol.sample((grid_x, grid_y, grid_z))\n",
    "#intensities = expo * vol.sample(target = data_to_probe) \n",
    "#intensities.plot()\n",
    "#vol.sample()\n",
    "#allIntensities = voxelIntensity(vol, expo, N, radiusDiscretisation)"
   ]
  },
  {
   "cell_type": "code",
   "execution_count": null,
   "id": "212383cc-074f-4d34-97ac-311776b29dc2",
   "metadata": {
    "tags": []
   },
   "outputs": [],
   "source": []
  },
  {
   "cell_type": "code",
   "execution_count": 22,
   "id": "8e3b3e72-f4aa-447c-b0a9-6cfb52974a5f",
   "metadata": {
    "tags": []
   },
   "outputs": [
    {
     "data": {
      "application/vnd.jupyter.widget-view+json": {
       "model_id": "f666050c270046a98ff0c048d2d77335",
       "version_major": 2,
       "version_minor": 0
      },
      "text/plain": [
       "Widget(value='<iframe src=\"http://localhost:55846/index.html?ui=P_0x43e090520_7&reconnect=auto\" class=\"pyvista…"
      ]
     },
     "metadata": {},
     "output_type": "display_data"
    }
   ],
   "source": [
    "from pyvista import examples\n",
    "mesh = pv.Sphere(center=(4.5, 4.5, 4.5), radius=4.5)\n",
    "data_to_probe = examples.load_uniform()\n",
    "result = mesh.sample(data_to_probe)\n",
    "result.plot(scalars=\"Spatial Point Data\")"
   ]
  },
  {
   "cell_type": "code",
   "execution_count": 11,
   "id": "463272d8-b59d-4eeb-856c-0f29c4af5386",
   "metadata": {
    "tags": []
   },
   "outputs": [
    {
     "data": {
      "text/html": [
       "<table style='width: 100%;'><tr><th>Header</th><th>Data Arrays</th></tr><tr><td>\n",
       "<table style='width: 100%;'>\n",
       "<tr><th>ImageData</th><th>Information</th></tr>\n",
       "<tr><td>N Cells</td><td>729</td></tr>\n",
       "<tr><td>N Points</td><td>1000</td></tr>\n",
       "<tr><td>X Bounds</td><td>0.000e+00, 9.000e+00</td></tr>\n",
       "<tr><td>Y Bounds</td><td>0.000e+00, 9.000e+00</td></tr>\n",
       "<tr><td>Z Bounds</td><td>0.000e+00, 9.000e+00</td></tr>\n",
       "<tr><td>Dimensions</td><td>10, 10, 10</td></tr>\n",
       "<tr><td>Spacing</td><td>1.000e+00, 1.000e+00, 1.000e+00</td></tr>\n",
       "<tr><td>N Arrays</td><td>2</td></tr>\n",
       "</table>\n",
       "\n",
       "</td><td>\n",
       "<table style='width: 100%;'>\n",
       "<tr><th>Name</th><th>Field</th><th>Type</th><th>N Comp</th><th>Min</th><th>Max</th></tr>\n",
       "<tr><td><b>Spatial Point Data</b></td><td>Points</td><td>float64</td><td>1</td><td>0.000e+00</td><td>7.290e+02</td></tr>\n",
       "<tr><td>Spatial Cell Data</td><td>Cells</td><td>float64</td><td>1</td><td>0.000e+00</td><td>5.120e+02</td></tr>\n",
       "</table>\n",
       "\n",
       "</td></tr> </table>"
      ],
      "text/plain": [
       "ImageData (0x3d88944c0)\n",
       "  N Cells:      729\n",
       "  N Points:     1000\n",
       "  X Bounds:     0.000e+00, 9.000e+00\n",
       "  Y Bounds:     0.000e+00, 9.000e+00\n",
       "  Z Bounds:     0.000e+00, 9.000e+00\n",
       "  Dimensions:   10, 10, 10\n",
       "  Spacing:      1.000e+00, 1.000e+00, 1.000e+00\n",
       "  N Arrays:     2"
      ]
     },
     "execution_count": 11,
     "metadata": {},
     "output_type": "execute_result"
    }
   ],
   "source": [
    "data_to_probe"
   ]
  },
  {
   "cell_type": "code",
   "execution_count": null,
   "id": "098b2059-ef24-4f30-9d15-397f9169f658",
   "metadata": {},
   "outputs": [],
   "source": []
  },
  {
   "cell_type": "code",
   "execution_count": 8,
   "id": "d3a001bb-5617-40d5-940f-b5d6de74eb7b",
   "metadata": {
    "tags": []
   },
   "outputs": [],
   "source": [
    "def voxelIntensity(vol, expo, N, radiusDiscretisation):\n",
    "    '''\n",
    "    Compute voxel intensities for a volume.\n",
    "    '''\n",
    "    grid_x = np.linspace(-1, 1, N) * radiusDiscretisation\n",
    "    grid_y = np.linspace(-1, 1, N) * radiusDiscretisation\n",
    "    grid_z = np.linspace(-1, 1, N) * radiusDiscretisation\n",
    "    grid_x, grid_y, grid_z = np.meshgrid(grid_x, grid_y, grid_z, indexing=\"ij\")\n",
    "    \n",
    "    \n",
    "    # Compute intensities using the given volume data\n",
    "    grid = pv.StructuredGrid(grid_x, grid_y, grid_z)\n",
    "    #intensities = expo * vol.sample(grid)\n",
    "    #intensities = vol.sample(grid)\n",
    "    \n",
    "    return intensities\n",
    "\n",
    "def process_volumes(input_path, intensity_path, N, radiusDiscretisation, expo):\n",
    "    '''\n",
    "    Compute and save voxel intensities for volumetric datasets.\n",
    "    '''\n",
    "    volume_files = [f for f in os.listdir(input_path) if f.endswith('.vti')]\n",
    "\n",
    "    for volume_file in tqdm(volume_files, desc=\"Processing volumes\"):\n",
    "        vol_path = os.path.join(input_path, volume_file)\n",
    "        vol = pv.read(vol_path)\n",
    "\n",
    "        allIntensities = voxelIntensity(vol, expo, N, radiusDiscretisation)\n",
    "\n",
    "        name = f\"intensities_{os.path.splitext(volume_file)[0]}.npy\"\n",
    "        np.save(os.path.join(intensity_path, name), allIntensities)\n",
    "        print(f\"Voxel intensities saved: {name}\")\n",
    "\n",
    "        shape_file = f\"shape_{os.path.splitext(volume_file)[0]}.npy\"\n",
    "        np.save(os.path.join(intensity_path, shape_file), allIntensities.shape)\n",
    "        print(f\"Voxel intensity shape saved: {shape_file}\")\n",
    "\n",
    "# Forward transformation (spherical harmonics fitting)\n",
    "def forwardTransformation(points, values, N, lmax):\n",
    "    theta = np.arccos(points[:, 2] / np.linalg.norm(points, axis=1))\n",
    "    phi = np.arctan2(points[:, 1], points[:, 0])\n",
    "\n",
    "    grid = np.zeros((N, N))\n",
    "    for t, p, v in zip(theta, phi, values):\n",
    "        grid[int(t / np.pi * N), int(p / (2 * np.pi) * N)] = v\n",
    "\n",
    "    sh_grid = shtools.SHGrid.from_array(grid)\n",
    "    return sh_grid.expand(lmax=lmax)\n",
    "\n",
    "# Inverse transformation (reconstruction)\n",
    "def inverseTransformations(clm, shape, N, lmax):\n",
    "    sh_grid = clm.expand(lmax=lmax)\n",
    "    grid = sh_grid.to_array()\n",
    "    x = np.linspace(-1, 1, shape[0])\n",
    "    y = np.linspace(-1, 1, shape[1])\n",
    "    z = np.linspace(-1, 1, shape[2])\n",
    "    values = griddata((x, y, z), grid.flatten(), (x, y, z), method='linear')\n",
    "    return values\n",
    "\n",
    "# Function to compute spherical harmonic coefficients\n",
    "def compute_spherical_harmonics(mesh, rmax, N, center):\n",
    "    theta = np.linspace(0, np.pi, N, endpoint=False)\n",
    "    phi = np.linspace(0, 2 * np.pi, N, endpoint=False)\n",
    "    grid_theta, grid_phi = np.meshgrid(theta, phi, indexing='ij')\n",
    "\n",
    "    radii = np.full(grid_theta.shape, rmax)\n",
    "    for i in range(grid_theta.shape[0]):\n",
    "        for j in range(grid_theta.shape[1]):\n",
    "            direction = R.from_euler('zy', [grid_phi[i, j], grid_theta[i, j]]).apply([1, 0, 0])\n",
    "            ray_origin = center\n",
    "            locations = mesh.ray.intersects_location(\n",
    "                ray_origins=[ray_origin], ray_directions=[direction]\n",
    "            )\n",
    "            if len(locations) > 0:\n",
    "                radii[i, j] = np.linalg.norm(locations[0] - center)\n",
    "\n",
    "    grid = shtools.SHGrid.from_array(radii)\n",
    "    return grid.expand()\n",
    "\n",
    "def reconstruct_shape(coeffs, lmax, rmax):\n",
    "    # Directly use the SHRealCoeffs object to expand into a grid\n",
    "    grid = coeffs.expand(lmax=lmax).to_array()\n",
    "\n",
    "    # Convert spherical grid to Cartesian coordinates\n",
    "    theta = np.linspace(0, np.pi, grid.shape[0], endpoint=True)\n",
    "    phi = np.linspace(0, 2 * np.pi, grid.shape[1], endpoint=True)\n",
    "    points = []\n",
    "    for i, t in enumerate(theta):\n",
    "        for j, p in enumerate(phi):\n",
    "            r = grid[i, j]\n",
    "            x = r * np.sin(t) * np.cos(p)\n",
    "            y = r * np.sin(t) * np.sin(p)\n",
    "            z = r * np.cos(t)\n",
    "            points.append([x, y, z])\n",
    "\n",
    "    return trimesh.points.PointCloud(np.array(points))\n",
    "\n",
    "\n",
    "def process_all_meshes(input_path, output_path, lmax, rmax, N):\n",
    "    mesh_files = [f for f in os.listdir(input_path) if f.endswith('.obj') or f.endswith('.stl') or f.endswith('.vtk')]\n",
    "\n",
    "    for mesh_file in tqdm(mesh_files, desc=\"Processing meshes\"):\n",
    "        mesh_path = os.path.join(input_path, mesh_file)\n",
    "        if mesh_file.endswith('.vtk'):\n",
    "            # Convert VTK to trimesh-compatible format using pyvista\n",
    "            pv_mesh = pv.read(mesh_path)\n",
    "            vertices = np.array(pv_mesh.points)\n",
    "            faces = np.array(pv_mesh.faces).reshape(-1, 4)[:, 1:]\n",
    "            mesh = trimesh.Trimesh(vertices=vertices, faces=faces)\n",
    "        else:\n",
    "            mesh = trimesh.load_mesh(mesh_path)\n",
    "\n",
    "        center = mesh.centroid\n",
    "\n",
    "        coeffs = compute_spherical_harmonics(mesh, rmax, N, center)\n",
    "\n",
    "        coeffs_file = os.path.join(output_path, mesh_file.replace('.obj', '.npy').replace('.stl', '.npy').replace('.vtk', '.npy'))\n",
    "        np.save(coeffs_file, coeffs.to_array())\n",
    "\n",
    "        reconstructed_mesh = reconstruct_shape(coeffs, lmax, rmax)\n",
    "        output_file = os.path.join(output_path, mesh_file.replace('.obj', '_reconstructed.ply').replace('.stl', '_reconstructed.ply').replace('.vtk', '_reconstructed.ply'))\n",
    "        reconstructed_mesh.export(output_file)\n",
    "        \n",
    "        "
   ]
  },
  {
   "cell_type": "code",
   "execution_count": 9,
   "id": "1ee84747-1369-45e6-b8c1-1ed6ff73a699",
   "metadata": {
    "tags": []
   },
   "outputs": [
    {
     "name": "stderr",
     "output_type": "stream",
     "text": [
      "Processing volumes:   0%|                                                                                                                  | 0/27 [00:11<?, ?it/s]"
     ]
    },
    {
     "name": "stdout",
     "output_type": "stream",
     "text": [
      "Voxel intensities saved: intensities_heart_1819_1.npy\n"
     ]
    },
    {
     "name": "stderr",
     "output_type": "stream",
     "text": [
      "\n"
     ]
    },
    {
     "ename": "AttributeError",
     "evalue": "'ImageData' object has no attribute 'shape'",
     "output_type": "error",
     "traceback": [
      "\u001b[0;31m---------------------------------------------------------------------------\u001b[0m",
      "\u001b[0;31mAttributeError\u001b[0m                            Traceback (most recent call last)",
      "Cell \u001b[0;32mIn[9], line 1\u001b[0m\n\u001b[0;32m----> 1\u001b[0m \u001b[43mprocess_volumes\u001b[49m\u001b[43m(\u001b[49m\u001b[43minput_path\u001b[49m\u001b[43m,\u001b[49m\u001b[43m \u001b[49m\u001b[43mintensity_path\u001b[49m\u001b[43m,\u001b[49m\u001b[43m \u001b[49m\u001b[43mN\u001b[49m\u001b[43m,\u001b[49m\u001b[43m \u001b[49m\u001b[43mrmax\u001b[49m\u001b[43m,\u001b[49m\u001b[43m \u001b[49m\u001b[38;5;241;43m1.0\u001b[39;49m\u001b[43m)\u001b[49m\n",
      "Cell \u001b[0;32mIn[8], line 35\u001b[0m, in \u001b[0;36mprocess_volumes\u001b[0;34m(input_path, intensity_path, N, radiusDiscretisation, expo)\u001b[0m\n\u001b[1;32m     32\u001b[0m \u001b[38;5;28mprint\u001b[39m(\u001b[38;5;124mf\u001b[39m\u001b[38;5;124m\"\u001b[39m\u001b[38;5;124mVoxel intensities saved: \u001b[39m\u001b[38;5;132;01m{\u001b[39;00mname\u001b[38;5;132;01m}\u001b[39;00m\u001b[38;5;124m\"\u001b[39m)\n\u001b[1;32m     34\u001b[0m shape_file \u001b[38;5;241m=\u001b[39m \u001b[38;5;124mf\u001b[39m\u001b[38;5;124m\"\u001b[39m\u001b[38;5;124mshape_\u001b[39m\u001b[38;5;132;01m{\u001b[39;00mos\u001b[38;5;241m.\u001b[39mpath\u001b[38;5;241m.\u001b[39msplitext(volume_file)[\u001b[38;5;241m0\u001b[39m]\u001b[38;5;132;01m}\u001b[39;00m\u001b[38;5;124m.npy\u001b[39m\u001b[38;5;124m\"\u001b[39m\n\u001b[0;32m---> 35\u001b[0m np\u001b[38;5;241m.\u001b[39msave(os\u001b[38;5;241m.\u001b[39mpath\u001b[38;5;241m.\u001b[39mjoin(intensity_path, shape_file), \u001b[43mallIntensities\u001b[49m\u001b[38;5;241;43m.\u001b[39;49m\u001b[43mshape\u001b[49m)\n\u001b[1;32m     36\u001b[0m \u001b[38;5;28mprint\u001b[39m(\u001b[38;5;124mf\u001b[39m\u001b[38;5;124m\"\u001b[39m\u001b[38;5;124mVoxel intensity shape saved: \u001b[39m\u001b[38;5;132;01m{\u001b[39;00mshape_file\u001b[38;5;132;01m}\u001b[39;00m\u001b[38;5;124m\"\u001b[39m)\n",
      "File \u001b[0;32m~/miniforge3/envs/image_env/lib/python3.9/site-packages/pyvista/core/dataset.py:131\u001b[0m, in \u001b[0;36mDataSet.__getattr__\u001b[0;34m(self, item)\u001b[0m\n\u001b[1;32m    129\u001b[0m \u001b[38;5;28;01mdef\u001b[39;00m \u001b[38;5;21m__getattr__\u001b[39m(\u001b[38;5;28mself\u001b[39m, item) \u001b[38;5;241m-\u001b[39m\u001b[38;5;241m>\u001b[39m Any:\n\u001b[1;32m    130\u001b[0m \u001b[38;5;250m    \u001b[39m\u001b[38;5;124;03m\"\"\"Get attribute from base class if not found.\"\"\"\u001b[39;00m\n\u001b[0;32m--> 131\u001b[0m     \u001b[38;5;28;01mreturn\u001b[39;00m \u001b[38;5;28;43msuper\u001b[39;49m\u001b[43m(\u001b[49m\u001b[43m)\u001b[49m\u001b[38;5;241;43m.\u001b[39;49m\u001b[38;5;21;43m__getattribute__\u001b[39;49m\u001b[43m(\u001b[49m\u001b[43mitem\u001b[49m\u001b[43m)\u001b[49m\n",
      "\u001b[0;31mAttributeError\u001b[0m: 'ImageData' object has no attribute 'shape'"
     ]
    }
   ],
   "source": [
    "process_volumes(input_path, intensity_path, N, rmax, 1.0)"
   ]
  },
  {
   "cell_type": "code",
   "execution_count": 7,
   "id": "48bc32a9-4a31-4fe5-906f-3e2472e146e4",
   "metadata": {},
   "outputs": [
    {
     "name": "stderr",
     "output_type": "stream",
     "text": [
      "Processing meshes:   9%|█████████▏                                                                                               | 6/69 [07:55<1:23:14, 79.28s/it]\n"
     ]
    },
    {
     "ename": "KeyboardInterrupt",
     "evalue": "",
     "output_type": "error",
     "traceback": [
      "\u001b[0;31m---------------------------------------------------------------------------\u001b[0m",
      "\u001b[0;31mKeyboardInterrupt\u001b[0m                         Traceback (most recent call last)",
      "Cell \u001b[0;32mIn[7], line 1\u001b[0m\n\u001b[0;32m----> 1\u001b[0m \u001b[43mprocess_all_meshes\u001b[49m\u001b[43m(\u001b[49m\u001b[43minput_path\u001b[49m\u001b[43m,\u001b[49m\u001b[43m \u001b[49m\u001b[43moutput_path\u001b[49m\u001b[43m,\u001b[49m\u001b[43m \u001b[49m\u001b[43mlmax\u001b[49m\u001b[43m,\u001b[49m\u001b[43m \u001b[49m\u001b[43mrmax\u001b[49m\u001b[43m,\u001b[49m\u001b[43m \u001b[49m\u001b[43mN\u001b[49m\u001b[43m)\u001b[49m\n",
      "Cell \u001b[0;32mIn[4], line 112\u001b[0m, in \u001b[0;36mprocess_all_meshes\u001b[0;34m(input_path, output_path, lmax, rmax, N)\u001b[0m\n\u001b[1;32m    108\u001b[0m     mesh \u001b[38;5;241m=\u001b[39m trimesh\u001b[38;5;241m.\u001b[39mload_mesh(mesh_path)\n\u001b[1;32m    110\u001b[0m center \u001b[38;5;241m=\u001b[39m mesh\u001b[38;5;241m.\u001b[39mcentroid\n\u001b[0;32m--> 112\u001b[0m coeffs \u001b[38;5;241m=\u001b[39m \u001b[43mcompute_spherical_harmonics\u001b[49m\u001b[43m(\u001b[49m\u001b[43mmesh\u001b[49m\u001b[43m,\u001b[49m\u001b[43m \u001b[49m\u001b[43mrmax\u001b[49m\u001b[43m,\u001b[49m\u001b[43m \u001b[49m\u001b[43mN\u001b[49m\u001b[43m,\u001b[49m\u001b[43m \u001b[49m\u001b[43mcenter\u001b[49m\u001b[43m)\u001b[49m\n\u001b[1;32m    114\u001b[0m coeffs_file \u001b[38;5;241m=\u001b[39m os\u001b[38;5;241m.\u001b[39mpath\u001b[38;5;241m.\u001b[39mjoin(output_path, mesh_file\u001b[38;5;241m.\u001b[39mreplace(\u001b[38;5;124m'\u001b[39m\u001b[38;5;124m.obj\u001b[39m\u001b[38;5;124m'\u001b[39m, \u001b[38;5;124m'\u001b[39m\u001b[38;5;124m.npy\u001b[39m\u001b[38;5;124m'\u001b[39m)\u001b[38;5;241m.\u001b[39mreplace(\u001b[38;5;124m'\u001b[39m\u001b[38;5;124m.stl\u001b[39m\u001b[38;5;124m'\u001b[39m, \u001b[38;5;124m'\u001b[39m\u001b[38;5;124m.npy\u001b[39m\u001b[38;5;124m'\u001b[39m)\u001b[38;5;241m.\u001b[39mreplace(\u001b[38;5;124m'\u001b[39m\u001b[38;5;124m.vtk\u001b[39m\u001b[38;5;124m'\u001b[39m, \u001b[38;5;124m'\u001b[39m\u001b[38;5;124m.npy\u001b[39m\u001b[38;5;124m'\u001b[39m))\n\u001b[1;32m    115\u001b[0m np\u001b[38;5;241m.\u001b[39msave(coeffs_file, coeffs\u001b[38;5;241m.\u001b[39mto_array())\n",
      "Cell \u001b[0;32mIn[4], line 68\u001b[0m, in \u001b[0;36mcompute_spherical_harmonics\u001b[0;34m(mesh, rmax, N, center)\u001b[0m\n\u001b[1;32m     66\u001b[0m direction \u001b[38;5;241m=\u001b[39m R\u001b[38;5;241m.\u001b[39mfrom_euler(\u001b[38;5;124m'\u001b[39m\u001b[38;5;124mzy\u001b[39m\u001b[38;5;124m'\u001b[39m, [grid_phi[i, j], grid_theta[i, j]])\u001b[38;5;241m.\u001b[39mapply([\u001b[38;5;241m1\u001b[39m, \u001b[38;5;241m0\u001b[39m, \u001b[38;5;241m0\u001b[39m])\n\u001b[1;32m     67\u001b[0m ray_origin \u001b[38;5;241m=\u001b[39m center\n\u001b[0;32m---> 68\u001b[0m locations \u001b[38;5;241m=\u001b[39m \u001b[43mmesh\u001b[49m\u001b[38;5;241;43m.\u001b[39;49m\u001b[43mray\u001b[49m\u001b[38;5;241;43m.\u001b[39;49m\u001b[43mintersects_location\u001b[49m\u001b[43m(\u001b[49m\n\u001b[1;32m     69\u001b[0m \u001b[43m    \u001b[49m\u001b[43mray_origins\u001b[49m\u001b[38;5;241;43m=\u001b[39;49m\u001b[43m[\u001b[49m\u001b[43mray_origin\u001b[49m\u001b[43m]\u001b[49m\u001b[43m,\u001b[49m\u001b[43m \u001b[49m\u001b[43mray_directions\u001b[49m\u001b[38;5;241;43m=\u001b[39;49m\u001b[43m[\u001b[49m\u001b[43mdirection\u001b[49m\u001b[43m]\u001b[49m\n\u001b[1;32m     70\u001b[0m \u001b[43m\u001b[49m\u001b[43m)\u001b[49m\n\u001b[1;32m     71\u001b[0m \u001b[38;5;28;01mif\u001b[39;00m \u001b[38;5;28mlen\u001b[39m(locations) \u001b[38;5;241m>\u001b[39m \u001b[38;5;241m0\u001b[39m:\n\u001b[1;32m     72\u001b[0m     radii[i, j] \u001b[38;5;241m=\u001b[39m np\u001b[38;5;241m.\u001b[39mlinalg\u001b[38;5;241m.\u001b[39mnorm(locations[\u001b[38;5;241m0\u001b[39m] \u001b[38;5;241m-\u001b[39m center)\n",
      "File \u001b[0;32m~/miniforge3/envs/image_env/lib/python3.9/site-packages/trimesh/ray/ray_triangle.py:93\u001b[0m, in \u001b[0;36mRayMeshIntersector.intersects_location\u001b[0;34m(self, ray_origins, ray_directions, **kwargs)\u001b[0m\n\u001b[1;32m     70\u001b[0m \u001b[38;5;28;01mdef\u001b[39;00m \u001b[38;5;21mintersects_location\u001b[39m(\u001b[38;5;28mself\u001b[39m, ray_origins, ray_directions, \u001b[38;5;241m*\u001b[39m\u001b[38;5;241m*\u001b[39mkwargs):\n\u001b[1;32m     71\u001b[0m \u001b[38;5;250m    \u001b[39m\u001b[38;5;124;03m\"\"\"\u001b[39;00m\n\u001b[1;32m     72\u001b[0m \u001b[38;5;124;03m    Return unique cartesian locations where rays hit the mesh.\u001b[39;00m\n\u001b[1;32m     73\u001b[0m \u001b[38;5;124;03m    If you are counting the number of hits a ray had, this method\u001b[39;00m\n\u001b[0;32m   (...)\u001b[0m\n\u001b[1;32m     91\u001b[0m \u001b[38;5;124;03m      Array of triangle (face) indexes\u001b[39;00m\n\u001b[1;32m     92\u001b[0m \u001b[38;5;124;03m    \"\"\"\u001b[39;00m\n\u001b[0;32m---> 93\u001b[0m     (index_tri, index_ray, locations) \u001b[38;5;241m=\u001b[39m \u001b[38;5;28;43mself\u001b[39;49m\u001b[38;5;241;43m.\u001b[39;49m\u001b[43mintersects_id\u001b[49m\u001b[43m(\u001b[49m\n\u001b[1;32m     94\u001b[0m \u001b[43m        \u001b[49m\u001b[43mray_origins\u001b[49m\u001b[38;5;241;43m=\u001b[39;49m\u001b[43mray_origins\u001b[49m\u001b[43m,\u001b[49m\n\u001b[1;32m     95\u001b[0m \u001b[43m        \u001b[49m\u001b[43mray_directions\u001b[49m\u001b[38;5;241;43m=\u001b[39;49m\u001b[43mray_directions\u001b[49m\u001b[43m,\u001b[49m\n\u001b[1;32m     96\u001b[0m \u001b[43m        \u001b[49m\u001b[43mreturn_locations\u001b[49m\u001b[38;5;241;43m=\u001b[39;49m\u001b[38;5;28;43;01mTrue\u001b[39;49;00m\u001b[43m,\u001b[49m\n\u001b[1;32m     97\u001b[0m \u001b[43m        \u001b[49m\u001b[38;5;241;43m*\u001b[39;49m\u001b[38;5;241;43m*\u001b[39;49m\u001b[43mkwargs\u001b[49m\u001b[43m,\u001b[49m\n\u001b[1;32m     98\u001b[0m \u001b[43m    \u001b[49m\u001b[43m)\u001b[49m\n\u001b[1;32m     99\u001b[0m     \u001b[38;5;28;01mreturn\u001b[39;00m locations, index_ray, index_tri\n",
      "File \u001b[0;32m~/miniforge3/envs/image_env/lib/python3.9/site-packages/trimesh/ray/ray_triangle.py:55\u001b[0m, in \u001b[0;36mRayMeshIntersector.intersects_id\u001b[0;34m(self, ray_origins, ray_directions, return_locations, multiple_hits, **kwargs)\u001b[0m\n\u001b[1;32m     23\u001b[0m \u001b[38;5;28;01mdef\u001b[39;00m \u001b[38;5;21mintersects_id\u001b[39m(\n\u001b[1;32m     24\u001b[0m     \u001b[38;5;28mself\u001b[39m,\n\u001b[1;32m     25\u001b[0m     ray_origins,\n\u001b[0;32m   (...)\u001b[0m\n\u001b[1;32m     29\u001b[0m     \u001b[38;5;241m*\u001b[39m\u001b[38;5;241m*\u001b[39mkwargs,\n\u001b[1;32m     30\u001b[0m ):\n\u001b[1;32m     31\u001b[0m \u001b[38;5;250m    \u001b[39m\u001b[38;5;124;03m\"\"\"\u001b[39;00m\n\u001b[1;32m     32\u001b[0m \u001b[38;5;124;03m    Find the intersections between the current mesh and an\u001b[39;00m\n\u001b[1;32m     33\u001b[0m \u001b[38;5;124;03m    array of rays.\u001b[39;00m\n\u001b[0;32m   (...)\u001b[0m\n\u001b[1;32m     53\u001b[0m \u001b[38;5;124;03m      [optional] Position of intersection in space\u001b[39;00m\n\u001b[1;32m     54\u001b[0m \u001b[38;5;124;03m    \"\"\"\u001b[39;00m\n\u001b[0;32m---> 55\u001b[0m     (index_tri, index_ray, locations) \u001b[38;5;241m=\u001b[39m \u001b[43mray_triangle_id\u001b[49m\u001b[43m(\u001b[49m\n\u001b[1;32m     56\u001b[0m \u001b[43m        \u001b[49m\u001b[43mtriangles\u001b[49m\u001b[38;5;241;43m=\u001b[39;49m\u001b[38;5;28;43mself\u001b[39;49m\u001b[38;5;241;43m.\u001b[39;49m\u001b[43mmesh\u001b[49m\u001b[38;5;241;43m.\u001b[39;49m\u001b[43mtriangles\u001b[49m\u001b[43m,\u001b[49m\n\u001b[1;32m     57\u001b[0m \u001b[43m        \u001b[49m\u001b[43mray_origins\u001b[49m\u001b[38;5;241;43m=\u001b[39;49m\u001b[43mray_origins\u001b[49m\u001b[43m,\u001b[49m\n\u001b[1;32m     58\u001b[0m \u001b[43m        \u001b[49m\u001b[43mray_directions\u001b[49m\u001b[38;5;241;43m=\u001b[39;49m\u001b[43mray_directions\u001b[49m\u001b[43m,\u001b[49m\n\u001b[1;32m     59\u001b[0m \u001b[43m        \u001b[49m\u001b[43mtree\u001b[49m\u001b[38;5;241;43m=\u001b[39;49m\u001b[38;5;28;43mself\u001b[39;49m\u001b[38;5;241;43m.\u001b[39;49m\u001b[43mmesh\u001b[49m\u001b[38;5;241;43m.\u001b[39;49m\u001b[43mtriangles_tree\u001b[49m\u001b[43m,\u001b[49m\n\u001b[1;32m     60\u001b[0m \u001b[43m        \u001b[49m\u001b[43mmultiple_hits\u001b[49m\u001b[38;5;241;43m=\u001b[39;49m\u001b[43mmultiple_hits\u001b[49m\u001b[43m,\u001b[49m\n\u001b[1;32m     61\u001b[0m \u001b[43m        \u001b[49m\u001b[43mtriangles_normal\u001b[49m\u001b[38;5;241;43m=\u001b[39;49m\u001b[38;5;28;43mself\u001b[39;49m\u001b[38;5;241;43m.\u001b[39;49m\u001b[43mmesh\u001b[49m\u001b[38;5;241;43m.\u001b[39;49m\u001b[43mface_normals\u001b[49m\u001b[43m,\u001b[49m\n\u001b[1;32m     62\u001b[0m \u001b[43m    \u001b[49m\u001b[43m)\u001b[49m\n\u001b[1;32m     63\u001b[0m     \u001b[38;5;28;01mif\u001b[39;00m return_locations:\n\u001b[1;32m     64\u001b[0m         \u001b[38;5;28;01mif\u001b[39;00m \u001b[38;5;28mlen\u001b[39m(index_tri) \u001b[38;5;241m==\u001b[39m \u001b[38;5;241m0\u001b[39m:\n",
      "File \u001b[0;32m~/miniforge3/envs/image_env/lib/python3.9/site-packages/trimesh/ray/ray_triangle.py:259\u001b[0m, in \u001b[0;36mray_triangle_id\u001b[0;34m(triangles, ray_origins, ray_directions, triangles_normal, tree, multiple_hits)\u001b[0m\n\u001b[1;32m    251\u001b[0m     \u001b[38;5;28;01mreturn\u001b[39;00m (\n\u001b[1;32m    252\u001b[0m         np\u001b[38;5;241m.\u001b[39marray([], dtype\u001b[38;5;241m=\u001b[39mnp\u001b[38;5;241m.\u001b[39mint64),\n\u001b[1;32m    253\u001b[0m         np\u001b[38;5;241m.\u001b[39marray([], dtype\u001b[38;5;241m=\u001b[39mnp\u001b[38;5;241m.\u001b[39mint64),\n\u001b[1;32m    254\u001b[0m         np\u001b[38;5;241m.\u001b[39marray([], dtype\u001b[38;5;241m=\u001b[39mnp\u001b[38;5;241m.\u001b[39mfloat64),\n\u001b[1;32m    255\u001b[0m     )\n\u001b[1;32m    257\u001b[0m \u001b[38;5;66;03m# find the barycentric coordinates of each plane intersection on the\u001b[39;00m\n\u001b[1;32m    258\u001b[0m \u001b[38;5;66;03m# triangle candidates\u001b[39;00m\n\u001b[0;32m--> 259\u001b[0m barycentric \u001b[38;5;241m=\u001b[39m \u001b[43mtriangles_mod\u001b[49m\u001b[38;5;241;43m.\u001b[39;49m\u001b[43mpoints_to_barycentric\u001b[49m\u001b[43m(\u001b[49m\n\u001b[1;32m    260\u001b[0m \u001b[43m    \u001b[49m\u001b[43mtriangle_candidates\u001b[49m\u001b[43m[\u001b[49m\u001b[43mvalid\u001b[49m\u001b[43m]\u001b[49m\u001b[43m,\u001b[49m\u001b[43m \u001b[49m\u001b[43mlocation\u001b[49m\n\u001b[1;32m    261\u001b[0m \u001b[43m\u001b[49m\u001b[43m)\u001b[49m\n\u001b[1;32m    263\u001b[0m \u001b[38;5;66;03m# the plane intersection is inside the triangle if all barycentric\u001b[39;00m\n\u001b[1;32m    264\u001b[0m \u001b[38;5;66;03m# coordinates are between 0.0 and 1.0\u001b[39;00m\n\u001b[1;32m    265\u001b[0m hit \u001b[38;5;241m=\u001b[39m np\u001b[38;5;241m.\u001b[39mlogical_and(\n\u001b[1;32m    266\u001b[0m     (barycentric \u001b[38;5;241m>\u001b[39m \u001b[38;5;241m-\u001b[39mtol\u001b[38;5;241m.\u001b[39mzero)\u001b[38;5;241m.\u001b[39mall(axis\u001b[38;5;241m=\u001b[39m\u001b[38;5;241m1\u001b[39m), (barycentric \u001b[38;5;241m<\u001b[39m (\u001b[38;5;241m1\u001b[39m \u001b[38;5;241m+\u001b[39m tol\u001b[38;5;241m.\u001b[39mzero))\u001b[38;5;241m.\u001b[39mall(axis\u001b[38;5;241m=\u001b[39m\u001b[38;5;241m1\u001b[39m)\n\u001b[1;32m    267\u001b[0m )\n",
      "File \u001b[0;32m~/miniforge3/envs/image_env/lib/python3.9/site-packages/trimesh/triangles.py:571\u001b[0m, in \u001b[0;36mpoints_to_barycentric\u001b[0;34m(triangles, points, method)\u001b[0m\n\u001b[1;32m    569\u001b[0m \u001b[38;5;28;01mif\u001b[39;00m method \u001b[38;5;241m==\u001b[39m \u001b[38;5;124m\"\u001b[39m\u001b[38;5;124mcross\u001b[39m\u001b[38;5;124m\"\u001b[39m:\n\u001b[1;32m    570\u001b[0m     \u001b[38;5;28;01mreturn\u001b[39;00m method_cross()\n\u001b[0;32m--> 571\u001b[0m \u001b[38;5;28;01mreturn\u001b[39;00m \u001b[43mmethod_cramer\u001b[49m\u001b[43m(\u001b[49m\u001b[43m)\u001b[49m\n",
      "File \u001b[0;32m~/miniforge3/envs/image_env/lib/python3.9/site-packages/trimesh/triangles.py:535\u001b[0m, in \u001b[0;36mpoints_to_barycentric.<locals>.method_cramer\u001b[0;34m()\u001b[0m\n\u001b[1;32m    534\u001b[0m \u001b[38;5;28;01mdef\u001b[39;00m \u001b[38;5;21mmethod_cramer\u001b[39m():\n\u001b[0;32m--> 535\u001b[0m     dot00 \u001b[38;5;241m=\u001b[39m \u001b[43mdiagonal_dot\u001b[49m\u001b[43m(\u001b[49m\u001b[43medge_vectors\u001b[49m\u001b[43m[\u001b[49m\u001b[43m:\u001b[49m\u001b[43m,\u001b[49m\u001b[43m \u001b[49m\u001b[38;5;241;43m0\u001b[39;49m\u001b[43m]\u001b[49m\u001b[43m,\u001b[49m\u001b[43m \u001b[49m\u001b[43medge_vectors\u001b[49m\u001b[43m[\u001b[49m\u001b[43m:\u001b[49m\u001b[43m,\u001b[49m\u001b[43m \u001b[49m\u001b[38;5;241;43m0\u001b[39;49m\u001b[43m]\u001b[49m\u001b[43m)\u001b[49m\n\u001b[1;32m    536\u001b[0m     dot01 \u001b[38;5;241m=\u001b[39m diagonal_dot(edge_vectors[:, \u001b[38;5;241m0\u001b[39m], edge_vectors[:, \u001b[38;5;241m1\u001b[39m])\n\u001b[1;32m    537\u001b[0m     dot02 \u001b[38;5;241m=\u001b[39m diagonal_dot(edge_vectors[:, \u001b[38;5;241m0\u001b[39m], w)\n",
      "File \u001b[0;32m~/miniforge3/envs/image_env/lib/python3.9/site-packages/trimesh/util.py:580\u001b[0m, in \u001b[0;36mdiagonal_dot\u001b[0;34m(a, b)\u001b[0m\n\u001b[1;32m    577\u001b[0m a \u001b[38;5;241m=\u001b[39m np\u001b[38;5;241m.\u001b[39masanyarray(a)\n\u001b[1;32m    578\u001b[0m \u001b[38;5;66;03m# 3x faster than (a * b).sum(axis=1)\u001b[39;00m\n\u001b[1;32m    579\u001b[0m \u001b[38;5;66;03m# avoiding np.ones saves 5-10% sometimes\u001b[39;00m\n\u001b[0;32m--> 580\u001b[0m \u001b[38;5;28;01mreturn\u001b[39;00m np\u001b[38;5;241m.\u001b[39mdot(\u001b[43ma\u001b[49m\u001b[43m \u001b[49m\u001b[38;5;241;43m*\u001b[39;49m\u001b[43m \u001b[49m\u001b[43mb\u001b[49m, [\u001b[38;5;241m1.0\u001b[39m] \u001b[38;5;241m*\u001b[39m a\u001b[38;5;241m.\u001b[39mshape[\u001b[38;5;241m1\u001b[39m])\n",
      "\u001b[0;31mKeyboardInterrupt\u001b[0m: "
     ]
    }
   ],
   "source": [
    "process_all_meshes(input_path, output_path, lmax, rmax, N)"
   ]
  },
  {
   "cell_type": "code",
   "execution_count": null,
   "id": "fdf2df3f-95df-4c1f-b141-cb59d59f7b45",
   "metadata": {},
   "outputs": [],
   "source": []
  }
 ],
 "metadata": {
  "kernelspec": {
   "display_name": "image_env",
   "language": "python",
   "name": "image_env"
  },
  "language_info": {
   "codemirror_mode": {
    "name": "ipython",
    "version": 3
   },
   "file_extension": ".py",
   "mimetype": "text/x-python",
   "name": "python",
   "nbconvert_exporter": "python",
   "pygments_lexer": "ipython3",
   "version": "3.9.18"
  }
 },
 "nbformat": 4,
 "nbformat_minor": 5
}
