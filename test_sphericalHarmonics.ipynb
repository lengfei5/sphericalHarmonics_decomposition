{
 "cells": [
  {
   "cell_type": "code",
   "execution_count": null,
   "id": "34dcb650-04cc-49c6-8075-195996c00be9",
   "metadata": {
    "tags": []
   },
   "outputs": [],
   "source": [
    "##########################################\n",
    "###\n",
    "### test the python code in https://github.com/gioda/FeARLesS/tree/main\n",
    "###\n",
    "##########################################"
   ]
  },
  {
   "cell_type": "code",
   "execution_count": 1,
   "id": "9e21a17d-cc95-4a90-b19d-4cce4d3bf32a",
   "metadata": {
    "tags": []
   },
   "outputs": [],
   "source": [
    "from skimage import measure\n",
    "import pandas as pd\n",
    "from skimage.filters import threshold_otsu, rank\n",
    "from mpl_toolkits.mplot3d.art3d import Poly3DCollection"
   ]
  },
  {
   "cell_type": "code",
   "execution_count": 2,
   "id": "d1cf8e88-d5f1-4f71-8bec-f9eaf7ef2399",
   "metadata": {
    "tags": []
   },
   "outputs": [],
   "source": [
    "import matplotlib.pyplot as plt\n",
    "import numpy as np\n",
    "import pyshtools as pysh\n",
    "from skimage.io import imread\n",
    "from skimage.io import imsave\n",
    "from skimage import filters\n",
    "from skimage import morphology\n",
    "from pyclesperanto_prototype import imshow\n",
    "import pyclesperanto_prototype as cle\n",
    "import matplotlib.pyplot as plt"
   ]
  },
  {
   "cell_type": "code",
   "execution_count": 3,
   "id": "757818e0-f06a-48d7-b960-2316f7b2fb74",
   "metadata": {
    "tags": []
   },
   "outputs": [],
   "source": [
    "import napari\n",
    "from napari.utils import nbscreenshot"
   ]
  },
  {
   "cell_type": "code",
   "execution_count": 4,
   "id": "913cf093-43d3-48d7-ab78-4029815db7bd",
   "metadata": {
    "tags": []
   },
   "outputs": [
    {
     "data": {
      "text/plain": [
       "['Apple M1 Max']"
      ]
     },
     "execution_count": 4,
     "metadata": {},
     "output_type": "execute_result"
    }
   ],
   "source": [
    "cle.available_device_names()"
   ]
  },
  {
   "cell_type": "code",
   "execution_count": 5,
   "id": "970bcdd1-b239-4004-a0a7-a9b9867a4240",
   "metadata": {
    "tags": []
   },
   "outputs": [
    {
     "name": "stderr",
     "output_type": "stream",
     "text": [
      "/Users/jingkui.wang/miniforge3/envs/image_env/lib/python3.9/site-packages/pyclesperanto_prototype/_tier0/_device.py:77: UserWarning: No OpenCL device found with TX in their name. Using Apple M1 Max instead.\n",
      "  warnings.warn(f\"No OpenCL device found with {name} in their name. Using {device.name} instead.\")\n"
     ]
    },
    {
     "data": {
      "text/plain": [
       "<Apple M1 Max on Platform: Apple (2 refs)>"
      ]
     },
     "execution_count": 5,
     "metadata": {},
     "output_type": "execute_result"
    }
   ],
   "source": [
    "# For 3D processing, powerful graphics\n",
    "# processing units might be necessary\n",
    "cle.select_device('TX')"
   ]
  },
  {
   "cell_type": "code",
   "execution_count": 6,
   "id": "aebe11b3-dad5-4afb-a6e0-3d5dce154109",
   "metadata": {
    "tags": []
   },
   "outputs": [],
   "source": [
    "### import function https://github.com/gioda/FeARLesS/blob/main/Fearless/utils.py\n",
    "import pyshtools\n",
    "import gc\n",
    "import numpy as np\n",
    "import os\n",
    "from vedo import printc, spher2cart, probePoints\n",
    "#from vedo import Points\n",
    "import shutil\n",
    "from sys import exit"
   ]
  },
  {
   "cell_type": "code",
   "execution_count": 7,
   "id": "f816ca66-6f47-4824-9cfa-eee759086a26",
   "metadata": {
    "tags": []
   },
   "outputs": [],
   "source": [
    "from vedo import spher2cart\n",
    "from vedo import printc, spher2cart, probePoints"
   ]
  },
  {
   "cell_type": "code",
   "execution_count": null,
   "id": "92234e98-9e8e-41c2-8cb4-6ef3958fab86",
   "metadata": {},
   "outputs": [],
   "source": []
  },
  {
   "cell_type": "code",
   "execution_count": 8,
   "id": "7effe1ba-a0b8-4275-bd3c-51ea43881c65",
   "metadata": {
    "tags": []
   },
   "outputs": [],
   "source": [
    "def samplePoints(vol, expo, N, radiusDiscretisation):\n",
    "    \"\"\"Compute sample points.\"\"\"\n",
    "    pos = vol.center()\n",
    "    rmax = vol.diagonalSize()/2\n",
    "\n",
    "    samplePoints = []\n",
    "    for th in np.linspace(0, np.pi, N, endpoint=False):\n",
    "        for ph in np.linspace(0, 2*np.pi, N, endpoint=False):\n",
    "\n",
    "            # compute sample points\n",
    "            p = spher2cart(rmax, th, ph)\n",
    "            # making discretization more dense away from the center\n",
    "            p_tmp = p / (radiusDiscretisation-1)**expo\n",
    "            for j in range(radiusDiscretisation):\n",
    "                SP = pos + p_tmp * (j**expo)\n",
    "                samplePoints.append(SP)\n",
    "\n",
    "    del vol\n",
    "    return np.array(samplePoints)"
   ]
  },
  {
   "cell_type": "code",
   "execution_count": 9,
   "id": "4f33b6ac-acb6-4dc6-998b-7d7852f9318f",
   "metadata": {
    "tags": []
   },
   "outputs": [],
   "source": [
    "def confirm(message):\n",
    "    \"\"\"\n",
    "    Ask user to enter Y or N (case-insensitive).\n",
    "\n",
    "    :return: True if the answer is Y.\n",
    "    :rtype: bool\n",
    "    \"\"\"\n",
    "    answer = \"\"\n",
    "    while answer not in [\"y\", \"n\"]:\n",
    "        answer = input(message).lower()\n",
    "    return answer == \"y\"\n",
    "\n",
    "\n",
    "def pathExists(path):\n",
    "    if not os.path.exists(path):\n",
    "        os.makedirs(path, exist_ok=True)\n",
    "        printc(\"Directory \", path, \" Created \", c='green')\n",
    "    else:\n",
    "        printc(\"Directory \", path, \" already exists\", c='red')\n",
    "        if confirm(\"Should I delete the folder and create a new one [Y/N]? \"):\n",
    "            shutil.rmtree(path)\n",
    "            os.makedirs(path, exist_ok=True)\n",
    "            printc(\"Directory \", path, \" Created \", c='green')\n",
    "        else:\n",
    "            exit()\n",
    "\n",
    "\n",
    "def voxelIntensity(vol, expo, N, radiusDiscretisation):\n",
    "    \"\"\"Compute voxel intensities.\"\"\"\n",
    "    pos = vol.center()\n",
    "    rmax = vol.diagonalSize()/2\n",
    "\n",
    "    scalars = []\n",
    "\n",
    "    for th in np.linspace(0, np.pi, N, endpoint=False):\n",
    "        for ph in np.linspace(0, 2*np.pi, N, endpoint=False):\n",
    "\n",
    "            # compute sample points\n",
    "            p = spher2cart(rmax, th, ph)\n",
    "            samplePointsTmp = []\n",
    "            \n",
    "            # making discretization more dense away from the center\n",
    "            p_tmp = p / (radiusDiscretisation-1)**expo\n",
    "            for j in range(radiusDiscretisation):\n",
    "                SP = pos + p_tmp * (j**expo)\n",
    "                samplePointsTmp.append(SP)\n",
    "\n",
    "            # compute intensities\n",
    "            pb = probePoints(vol, samplePointsTmp)\n",
    "\n",
    "            del samplePointsTmp\n",
    "\n",
    "            # making the intensities growing outside the volume according to the gradient\n",
    "            scalarsTmp = pb.getPointArray()\n",
    "            nonz = np.nonzero(scalarsTmp)[0]\n",
    "            if len(nonz) > 2:\n",
    "                lastNoZeroId = nonz[-1]  # find the last value != 0\n",
    "                secondlastNoZeroId = nonz[-2]\n",
    "                # find the last value != 0\n",
    "                lastNoZero = scalarsTmp[lastNoZeroId]\n",
    "                secondlastNoZero = scalarsTmp[secondlastNoZeroId]\n",
    "                dx = lastNoZero - secondlastNoZero\n",
    "\n",
    "            for i in range(lastNoZeroId+1, len(scalarsTmp)):\n",
    "                scalarsTmp[i] = scalarsTmp[i-1] + dx\n",
    "            scalars.append(scalarsTmp.tolist())\n",
    "\n",
    "            del pb, scalarsTmp\n",
    "\n",
    "    del vol\n",
    "    gc.collect()\n",
    "\n",
    "    # return allIntensitiesMatrix\n",
    "    return np.array(scalars).reshape((N * N, radiusDiscretisation))\n",
    "\n",
    "\n",
    "def forwardTransformation(matrixOfIntensities, N, lmax):\n",
    "\n",
    "    ##############################################\n",
    "\n",
    "    coeff = matrixOfIntensities\n",
    "\n",
    "    ##############################################\n",
    "    # SPHARNM\n",
    "    allClm = np.zeros((matrixOfIntensities.shape[1], 2, lmax, lmax))\n",
    "    for j in range(allClm.shape[0]):\n",
    "        formattedcoeff = np.reshape(coeff[:, j], (N, N))\n",
    "        SH = pyshtools.SHGrid.from_array(formattedcoeff)\n",
    "        clm = SH.expand()\n",
    "\n",
    "        allClm[j, :, :, :] = clm.to_array(lmax=lmax - 1)\n",
    "\n",
    "    del formattedcoeff, clm, matrixOfIntensities\n",
    "\n",
    "    return allClm\n",
    "\n",
    "\n",
    "def inverseTransformations(allClm, allIntensitiesShape, N, lmax):\n",
    "    \"\"\"Make inverse SPHARM.\"\"\"\n",
    "    from scipy.interpolate import griddata\n",
    "\n",
    "    aSH_recoMatrix = np.zeros((allIntensitiesShape[0], allIntensitiesShape[1]))\n",
    "\n",
    "    for j in range(allClm.shape[0]):\n",
    "        # inverse SPHARM coefficients\n",
    "        clmCoeffs = pyshtools.SHCoeffs.from_array(allClm[j, :, :, :])\n",
    "        SH_reco = clmCoeffs.expand(lmax=lmax - 1)\n",
    "        # grid_reco.plot()\n",
    "        aSH_reco = SH_reco.to_array()\n",
    "\n",
    "        ##############################\n",
    "        pts1 = []\n",
    "        ll = []\n",
    "        for ii, long in enumerate(np.linspace(0, 360, num=aSH_reco.shape[1], endpoint=True)):\n",
    "            for jj, lat in enumerate(np.linspace(90, -90, num=aSH_reco.shape[0], endpoint=True)):\n",
    "                th = np.deg2rad(90 - lat)\n",
    "                ph = np.deg2rad(long)\n",
    "                p = spher2cart(aSH_reco[jj][ii], th, ph)\n",
    "                pts1.append(p)\n",
    "                ll.append((lat, long))\n",
    "\n",
    "        radii = aSH_reco.T.ravel()\n",
    "\n",
    "        # make a finer grid\n",
    "        n = N * 1j\n",
    "        l_min, l_max = np.array(ll).min(axis=0), np.array(ll).max(axis=0)\n",
    "        grid = np.mgrid[l_max[0]:l_min[0]:n, l_min[1]:l_max[1]:n]\n",
    "        grid_x, grid_y = grid\n",
    "        agrid_reco_finer = griddata(ll, radii, (grid_x, grid_y), method='cubic')\n",
    "        ##############################\n",
    "\n",
    "        formatted_aSH_reco = np.reshape(agrid_reco_finer, (N * N))\n",
    "\n",
    "        aSH_recoMatrix[:, j] = formatted_aSH_reco\n",
    "\n",
    "    del formatted_aSH_reco, agrid_reco_finer, grid_x, grid_y, grid\n",
    "\n",
    "    return aSH_recoMatrix\n",
    "\n",
    "\n"
   ]
  },
  {
   "cell_type": "code",
   "execution_count": null,
   "id": "0890d78c-c4ee-4e64-8c80-420d78b9375a",
   "metadata": {},
   "outputs": [],
   "source": []
  },
  {
   "cell_type": "code",
   "execution_count": null,
   "id": "80060714-9e1f-47d0-a9b6-7e2c86f25df7",
   "metadata": {},
   "outputs": [],
   "source": [
    "###########################################################################\n",
    "## STEP 1: \n",
    "## run the script from https://github.com/gioda/FeARLesS/blob/main/Fearless/pureSPharm.py\n",
    "## for limb_noFlank meshes\n",
    "###########################################################################"
   ]
  },
  {
   "cell_type": "code",
   "execution_count": 31,
   "id": "522c8644-00ca-452d-bc09-f7f849757121",
   "metadata": {
    "tags": []
   },
   "outputs": [],
   "source": [
    "\n",
    "from sys import argv, exit\n",
    "from scipy.interpolate import griddata\n",
    "import numpy as np\n",
    "\n",
    "from vedo import printc, load, spher2cart, mag, ProgressBar, Points, write\n",
    "from vedo import recoSurface\n",
    "from vedo import *\n",
    "#from utils import pathExists\n",
    "\n",
    "import pyshtools\n",
    "#############################################################"
   ]
  },
  {
   "cell_type": "code",
   "execution_count": 11,
   "id": "d66b94ae-899f-426e-b8eb-560b3587c201",
   "metadata": {
    "tags": []
   },
   "outputs": [],
   "source": [
    "def computeCLM(mesh, rmax, N, x0):\n",
    "    \"\"\"Compute CLM.\"\"\"\n",
    "    # cast rays from the center and find intersections\n",
    "    agrid, pts = [], []\n",
    "    for th in np.linspace(0, np.pi, N, endpoint=False):\n",
    "        lats = []\n",
    "        for ph in np.linspace(0, 2*np.pi, N, endpoint=False):\n",
    "            p = spher2cart(rmax, th, ph)\n",
    "            intersections = mesh.intersectWithLine(x0, x0 + p)\n",
    "            if len(intersections):\n",
    "                value = mag(intersections[0]-x0)\n",
    "                lats.append(value)\n",
    "                pts.append(intersections[0])\n",
    "            else:\n",
    "                lats.append(rmax)\n",
    "                # lats.append(0)\n",
    "                pts.append(p)\n",
    "        agrid.append(lats)\n",
    "    agrid = np.array(agrid)\n",
    "    \n",
    "    grid = pyshtools.SHGrid.from_array(agrid)\n",
    "    clm = grid.expand()\n",
    "    # grid_reco = clm.expand(lmax=lmax)  # cut \"high frequency\" components\n",
    "\n",
    "    return clm"
   ]
  },
  {
   "cell_type": "code",
   "execution_count": 12,
   "id": "9f902c8f-10d6-4d4d-80e1-015b443ca2ab",
   "metadata": {
    "tags": []
   },
   "outputs": [],
   "source": [
    "lmax = 20\n",
    "N = 500          # number of grid intervals on the unit sphere\n",
    "rmax = 1400\n",
    "x0 = [0, 0, 0]  # set object at this position\n",
    "xLimb = [-200, 0, 200]\n",
    "cutOrigin = [150, 0, 0]\n",
    "deg_fit = 6"
   ]
  },
  {
   "cell_type": "code",
   "execution_count": 13,
   "id": "5c868073-b7c5-4875-8055-9d4e3d3c18a2",
   "metadata": {
    "tags": []
   },
   "outputs": [
    {
     "name": "stdout",
     "output_type": "stream",
     "text": [
      "\u001b[1m\u001b[38;2;255;0;0mDirectory  res/pure_spharm-lmax20-N500-deg_fit6/  already exists\u001b[0m\n"
     ]
    },
    {
     "name": "stdin",
     "output_type": "stream",
     "text": [
      "Should I delete the folder and create a new one [Y/N]?  Y\n"
     ]
    },
    {
     "name": "stdout",
     "output_type": "stream",
     "text": [
      "\u001b[1m\u001b[38;2;0;128;0mDirectory  res/pure_spharm-lmax20-N500-deg_fit6/  Created \u001b[0m\n",
      "\u001b[1m\u001b[33;1mlmax = 20 N = 500 deg_fit = 6\u001b[0m\n"
     ]
    }
   ],
   "source": [
    "DataPath = '/Users/jingkui.wang/workspace/imp/image_analysis/S-BIAD441/limbs/limbs-noFlank/'\n",
    "path_results = 'res/' \\\n",
    "    'pure_spharm' + '-lmax' + str(lmax) + '-N' + \\\n",
    "    str(N) + '-deg_fit' + str(deg_fit) + '/'\n",
    "\n",
    "\n",
    "pathExists(path_results)\n",
    "\n",
    "printc('lmax =', lmax, 'N =', N, 'deg_fit =', deg_fit, c='y')\n"
   ]
  },
  {
   "cell_type": "code",
   "execution_count": 14,
   "id": "12d9cc2f-1c6e-4efd-866d-46f374d51f49",
   "metadata": {
    "tags": []
   },
   "outputs": [
    {
     "data": {
      "text/plain": [
       "'/Users/jingkui.wang/workspace/imp/image_analysis/S-BIAD441/limbs/limbs-noFlank/'"
      ]
     },
     "execution_count": 14,
     "metadata": {},
     "output_type": "execute_result"
    }
   ],
   "source": [
    "DataPath"
   ]
  },
  {
   "cell_type": "code",
   "execution_count": 15,
   "id": "8961b06b-27d3-4c51-b047-227486493e85",
   "metadata": {
    "tags": []
   },
   "outputs": [
    {
     "name": "stdout",
     "output_type": "stream",
     "text": [
      "\u001b[1m\u001b[33;1mloading limbs ...\u001b[0m\n",
      "\u001b[1m\u001b[33;1mtot # limbs -->  69\u001b[0m\n"
     ]
    }
   ],
   "source": [
    "printc(\"loading limbs ...\", c='y')\n",
    "limbs = load(DataPath + '*.vtk')\n",
    "\n",
    "totLimbs = len(limbs)\n",
    "\n",
    "printc('tot # limbs --> ', totLimbs, c='y')"
   ]
  },
  {
   "cell_type": "code",
   "execution_count": 16,
   "id": "6e732c00-19fc-49e9-8a4b-952b1d5d4fa7",
   "metadata": {
    "tags": []
   },
   "outputs": [
    {
     "data": {
      "text/plain": [
       "'/Users/jingkui.wang/workspace/imp/image_analysis/S-BIAD441/limbs/limbs-noFlank/Limb_279.vtk'"
      ]
     },
     "execution_count": 16,
     "metadata": {},
     "output_type": "execute_result"
    }
   ],
   "source": [
    "len(limbs)\n",
    "limbs[58].filename"
   ]
  },
  {
   "cell_type": "code",
   "execution_count": 17,
   "id": "a33215ab-bd5e-46a2-b507-873c349538fe",
   "metadata": {
    "tags": []
   },
   "outputs": [
    {
     "name": "stdout",
     "output_type": "stream",
     "text": [
      "\u001b[1m\u001b[33;1mTall \n",
      " [249. 250. 251. 254. 257. 257. 257. 257. 259. 260. 260. 261. 262. 263.\n",
      " 264. 264. 265. 265. 265. 265. 265. 265. 266. 266. 266. 267. 268. 268.\n",
      " 269. 270. 270. 270. 270. 271. 271. 271. 271. 272. 272. 272. 273. 273.\n",
      " 274. 274. 274. 274. 274. 275. 275. 275. 275. 275. 276. 276. 276. 277.\n",
      " 277. 278. 279. 283. 284. 285. 287. 288. 288. 288. 289. 290. 290.]\u001b[0m\n"
     ]
    }
   ],
   "source": [
    "################################\n",
    "# finding time from limbs' file names\n",
    "Tall = []\n",
    "for j in range(totLimbs):\n",
    "    filename = limbs[j].filename.split('/')[-1].split('.')[0]\n",
    "    if '_' in filename:\n",
    "        number_part = filename.split('_')[1]\n",
    "    else:\n",
    "        number_part = filename.split('.')[0]\n",
    "    try:\n",
    "        Tall.append(float(number_part))\n",
    "    except ValueError:\n",
    "        print(f\"Could not extract a valid number from filename: {filename}\")\n",
    "        continue\n",
    "\n",
    "Tall = np.array(Tall)\n",
    "printc('Tall \\n', Tall, c='y')\n",
    "\n",
    "Treal = np.arange(Tall[0], Tall[-1]+1, dtype=int)\n",
    "\n",
    "NumRecLimbs = len(Treal)\n"
   ]
  },
  {
   "cell_type": "code",
   "execution_count": 18,
   "id": "cd42c77f-99f5-4f97-b489-7631cb95d775",
   "metadata": {
    "tags": []
   },
   "outputs": [
    {
     "data": {
      "text/plain": [
       "array([249., 250., 251., 254., 257., 257., 257., 257., 259., 260., 260.,\n",
       "       261., 262., 263., 264., 264., 265., 265., 265., 265., 265., 265.,\n",
       "       266., 266., 266., 267., 268., 268., 269., 270., 270., 270., 270.,\n",
       "       271., 271., 271., 271., 272., 272., 272., 273., 273., 274., 274.,\n",
       "       274., 274., 274., 275., 275., 275., 275., 275., 276., 276., 276.,\n",
       "       277., 277., 278., 279., 283., 284., 285., 287., 288., 288., 288.,\n",
       "       289., 290., 290.])"
      ]
     },
     "execution_count": 18,
     "metadata": {},
     "output_type": "execute_result"
    }
   ],
   "source": [
    "Tall"
   ]
  },
  {
   "cell_type": "code",
   "execution_count": 19,
   "id": "d7fa0741-20b4-4d40-800e-087982715e02",
   "metadata": {
    "tags": []
   },
   "outputs": [],
   "source": [
    "totLimbs\n",
    "limbs;"
   ]
  },
  {
   "cell_type": "code",
   "execution_count": null,
   "id": "65d7a03a-de2a-4bc9-b029-52eefa0a98d9",
   "metadata": {},
   "outputs": [],
   "source": []
  },
  {
   "cell_type": "code",
   "execution_count": 20,
   "id": "56f4981d-406b-428f-962a-d31031d2342c",
   "metadata": {},
   "outputs": [
    {
     "name": "stdout",
     "output_type": "stream",
     "text": [
      "<vedo.utils.ProgressBar object at 0x331974880>\n"
     ]
    }
   ],
   "source": [
    "Mclm = []\n",
    "pb = ProgressBar(0, totLimbs, c=2)\n",
    "print(pb)"
   ]
  },
  {
   "cell_type": "code",
   "execution_count": 21,
   "id": "3e15b462-902a-4a27-8e71-e4c888887ccc",
   "metadata": {
    "tags": []
   },
   "outputs": [
    {
     "name": "stdout",
     "output_type": "stream",
     "text": [
      "\u001b[0m\u001b[38;2;229;24;49m \u001b[2m─────────────────────── 1% clm...\u001b[1m\u001b[38;2;229;24;49m \u001b[2m────────────────────── 3%     ETA: 11m57s (0.1 it/s) clm...\u001b[1m\u001b[38;2;229;24;49m \u001b[2m────────────────────── 4%                             ETA: 11m47s (0.1 it/s) clm...\u001b[1m\u001b[38;2;229;24;49m \u001b[2m────────────────────── 6%                             ETA: 11m43s (0.1 it/s) clm...\u001b[1m\u001b[38;2;229;24;49m ━\u001b[2m───────────────────── 7%                             ETA: 12m1s (0.1 it/s) clm...\u001b[1m\u001b[38;2;229;24;49m ━\u001b[2m───────────────────── 9%                           ETA: 13m53s (0.1 it/s) clm...\u001b[1m\u001b[38;2;229;24;49m ━\u001b[2m───────────────────── 10%                             ETA: 14m2s (0.1 it/s) clm...\u001b[1m\u001b[38;2;229;24;49m ━━\u001b[2m──────────────────── 12%                           ETA: 13m45s (0.1 it/s) clm...\u001b[1m\u001b[38;2;229;24;49m ━━\u001b[2m──────────────────── 13%                             ETA: 13m55s (0.1 it/s) clm...\u001b[1m\u001b[38;2;229;24;49m ━━\u001b[2m──────────────────── 14%                             ETA: 14m8s (0.1 it/s) clm...\u001b[1m\u001b[38;2;229;24;49m ━━━\u001b[2m─────────────────── 16%                           ETA: 14m14s (0.1 it/s) clm...\u001b[1m\u001b[38;2;229;24;49m ━━━\u001b[2m─────────────────── 17%                             ETA: 14m21s (0.1 it/s) clm...\u001b[1m\u001b[38;2;229;24;49m ━━━\u001b[2m─────────────────── 19%                             ETA: 14m21s (0.1 it/s) clm...\u001b[1m\u001b[38;2;229;24;49m ━━━━\u001b[2m────────────────── 20%                             ETA: 14m8s (0.1 it/s) clm...\u001b[1m\u001b[38;2;229;24;49m ━━━━\u001b[2m────────────────── 22%                           ETA: 13m59s (0.1 it/s) clm...\u001b[1m\u001b[38;2;229;24;49m ━━━━\u001b[2m────────────────── 23%                             ETA: 13m39s (0.1 it/s) clm...\u001b[1m\u001b[38;2;229;24;49m ━━━━━\u001b[2m───────────────── 25%                             ETA: 13m29s (0.1 it/s) clm...\u001b[1m\u001b[38;2;229;24;49m ━━━━━\u001b[2m───────────────── 26%                             ETA: 13m22s (0.1 it/s) clm...\u001b[1m\u001b[38;2;229;24;49m ━━━━━\u001b[2m───────────────── 28%                             ETA: 13m6s (0.1 it/s) clm...\u001b[1m\u001b[38;2;229;24;49m ━━━━━━\u001b[2m──────────────── 29%                           ETA: 12m52s (0.1 it/s) clm...\u001b[1m\u001b[38;2;229;24;49m ━━━━━━\u001b[2m──────────────── 30%                             ETA: 12m38s (0.1 it/s) clm...\u001b[1m\u001b[38;2;229;24;49m ━━━━━━\u001b[2m──────────────── 32%                             ETA: 12m30s (0.1 it/s) clm...\u001b[1m\u001b[38;2;229;24;49m ━━━━━━━\u001b[2m─────────────── 33%                             ETA: 12m18s (0.1 it/s) clm...\u001b[1m\u001b[38;2;229;24;49m ━━━━━━━\u001b[2m─────────────── 35%                             ETA: 12m4s (0.1 it/s) clm...\u001b[1m\u001b[38;2;229;24;49m ━━━━━━━\u001b[2m─────────────── 36%                           ETA: 11m46s (0.1 it/s) clm...\u001b[1m\u001b[38;2;229;24;49m ━━━━━━━━\u001b[2m────────────── 38%                             ETA: 11m38s (0.1 it/s) clm...\u001b[1m\u001b[38;2;229;24;49m ━━━━━━━━\u001b[2m────────────── 39%                             ETA: 11m24s (0.1 it/s) clm...\u001b[1m\u001b[38;2;229;24;49m ━━━━━━━━\u001b[2m────────────── 41%                             ETA: 11m14s (0.1 it/s) clm...\u001b[1m\u001b[38;2;229;24;49m ━━━━━━━━━\u001b[2m───────────── 42%                             ETA: 11m1s (0.1 it/s) clm...\u001b[1m\u001b[38;2;229;24;49m ━━━━━━━━━\u001b[2m───────────── 43%                           ETA: 10m49s (0.1 it/s) clm...\u001b[1m\u001b[38;2;229;24;49m ━━━━━━━━━\u001b[2m───────────── 45%                             ETA: 10m37s (0.1 it/s) clm...\u001b[1m\u001b[38;2;229;24;49m ━━━━━━━━━━\u001b[2m──────────── 46%                             ETA: 10m20s (0.1 it/s) clm...\u001b[1m\u001b[38;2;229;24;49m ━━━━━━━━━━\u001b[2m──────────── 48%                             ETA: 10m4s (0.1 it/s) clm...\u001b[1m\u001b[38;2;229;24;49m ━━━━━━━━━━\u001b[2m──────────── 49%                           ETA: 9m48s (0.1 it/s) clm...\u001b[1m\u001b[38;2;229;24;49m ━━━━━━━━━━━\u001b[2m─────────── 51%                           ETA: 9m31s (0.1 it/s) clm...\u001b[1m\u001b[38;2;229;24;49m ━━━━━━━━━━━\u001b[2m─────────── 52%                           ETA: 9m19s (0.1 it/s) clm...\u001b[1m\u001b[38;2;229;24;49m ━━━━━━━━━━━\u001b[2m─────────── 54%                           ETA: 9m3s (0.1 it/s) clm...\u001b[1m\u001b[38;2;229;24;49m ━━━━━━━━━━━━\u001b[2m────────── 55%                           ETA: 8m48s (0.1 it/s) clm...\u001b[1m\u001b[38;2;229;24;49m ━━━━━━━━━━━━\u001b[2m────────── 57%                           ETA: 8m30s (0.1 it/s) clm...\u001b[1m\u001b[38;2;229;24;49m ━━━━━━━━━━━━\u001b[2m────────── 58%                           ETA: 8m12s (0.1 it/s) clm...\u001b[1m\u001b[38;2;229;24;49m ━━━━━━━━━━━━━\u001b[2m───────── 59%                           ETA: 7m60s (0.1 it/s) clm...\u001b[1m\u001b[38;2;229;24;49m ━━━━━━━━━━━━━\u001b[2m───────── 61%                           ETA: 7m43s (0.1 it/s) clm...\u001b[1m\u001b[38;2;229;24;49m ━━━━━━━━━━━━━\u001b[2m───────── 62%                           ETA: 7m26s (0.1 it/s) clm...\u001b[1m\u001b[38;2;229;24;49m ━━━━━━━━━━━━━━\u001b[2m──────── 64%                           ETA: 7m9s (0.1 it/s) clm...\u001b[1m\u001b[38;2;229;24;49m ━━━━━━━━━━━━━━\u001b[2m──────── 65%                           ETA: 6m52s (0.1 it/s) clm...\u001b[1m\u001b[38;2;229;24;49m ━━━━━━━━━━━━━━\u001b[2m──────── 67%                           ETA: 6m34s (0.1 it/s) clm...\u001b[1m\u001b[38;2;229;24;49m ━━━━━━━━━━━━━━━\u001b[2m─────── 68%                           ETA: 6m17s (0.1 it/s) clm...\u001b[1m\u001b[38;2;229;24;49m ━━━━━━━━━━━━━━━\u001b[2m─────── 70%                           ETA: 5m58s (0.1 it/s) clm...\u001b[1m\u001b[38;2;229;24;49m ━━━━━━━━━━━━━━━\u001b[2m─────── 71%                           ETA: 5m40s (0.1 it/s) clm...\u001b[1m\u001b[38;2;229;24;49m ━━━━━━━━━━━━━━━━\u001b[2m────── 72%                           ETA: 5m23s (0.1 it/s) clm...\u001b[1m\u001b[38;2;229;24;49m ━━━━━━━━━━━━━━━━\u001b[2m────── 74%                           ETA: 5m6s (0.1 it/s) clm...\u001b[1m\u001b[38;2;229;24;49m ━━━━━━━━━━━━━━━━\u001b[2m────── 75%                           ETA: 4m49s (0.1 it/s) clm...\u001b[1m\u001b[38;2;229;24;49m ━━━━━━━━━━━━━━━━━\u001b[2m───── 77%                           ETA: 4m32s (0.1 it/s) clm...\u001b[1m\u001b[38;2;229;24;49m ━━━━━━━━━━━━━━━━━\u001b[2m───── 78%                           ETA: 4m15s (0.1 it/s) clm...\u001b[1m\u001b[38;2;229;24;49m ━━━━━━━━━━━━━━━━━\u001b[2m───── 80%                           ETA: 3m58s (0.1 it/s) clm...\u001b[1m\u001b[38;2;229;24;49m ━━━━━━━━━━━━━━━━━━\u001b[2m──── 81%                           ETA: 3m41s (0.1 it/s) clm...\u001b[1m\u001b[38;2;229;24;49m ━━━━━━━━━━━━━━━━━━\u001b[2m──── 83%                           ETA: 3m24s (0.1 it/s) clm...\u001b[1m\u001b[38;2;229;24;49m ━━━━━━━━━━━━━━━━━━\u001b[2m──── 84%                           ETA: 3m8s (0.1 it/s) clm...\u001b[1m\u001b[38;2;229;24;49m ━━━━━━━━━━━━━━━━━━━\u001b[2m─── 86%                           ETA: 2m51s (0.1 it/s) clm...\u001b[1m\u001b[38;2;229;24;49m ━━━━━━━━━━━━━━━━━━━\u001b[2m─── 87%                           ETA: 2m34s (0.1 it/s) clm...\u001b[1m\u001b[38;2;229;24;49m ━━━━━━━━━━━━━━━━━━━\u001b[2m─── 88%                           ETA: 2m18s (0.1 it/s) clm...\u001b[1m\u001b[38;2;229;24;49m ━━━━━━━━━━━━━━━━━━━━\u001b[2m── 90%                           ETA: 2m1s (0.1 it/s) clm...\u001b[1m\u001b[38;2;229;24;49m ━━━━━━━━━━━━━━━━━━━━\u001b[2m── 91%                           ETA: 1m44s (0.1 it/s) clm...\u001b[1m\u001b[38;2;229;24;49m ━━━━━━━━━━━━━━━━━━━━\u001b[2m── 93%                           ETA: 1m26s (0.1 it/s) clm...\u001b[1m\u001b[38;2;229;24;49m ━━━━━━━━━━━━━━━━━━━━━\u001b[2m─ 94%                           ETA: 1m9s (0.1 it/s) clm...\u001b[1m\u001b[38;2;229;24;49m ━━━━━━━━━━━━━━━━━━━━━\u001b[2m─ 96%                           ETA: 51s (0.1 it/s) clm...\u001b[1m\u001b[38;2;229;24;49m ━━━━━━━━━━━━━━━━━━━━━\u001b[2m─ 97%                         ETA: 34s (0.1 it/s) clm...\u001b[1m\u001b[38;2;229;24;49m ━━━━━━━━━━━━━━━━━━━━━━\u001b[2m 99%                         ETA: 17s (0.1 it/s) clm...\u001b[1m\u001b[38;2;229;24;49m ━━━━━━━━━━━━━━━━━━━━━━\u001b[2m                         elapsed: 19m34s (0.1 it/s)        \n"
     ]
    }
   ],
   "source": [
    "for j in pb.range():\n",
    "    Mtmp = []\n",
    "    clmAllTmp = []\n",
    "    #\n",
    "    filename = limbs[j].filename.split('/')[-1].split('.')[0]\n",
    "    if '_' in filename:\n",
    "        try:\n",
    "            number_part = filename.split('_')[1]\n",
    "        except IndexError:\n",
    "            print(f\"Unexpected filename format with underscore: {filename}\")\n",
    "            continue\n",
    "    else:\n",
    "        number_part = filename.split('.')[0]\n",
    "\n",
    "    try:\n",
    "        Mtmp.append(float(number_part))\n",
    "    except ValueError:\n",
    "        print(f\"Could not extract a valid number from filename: {filename}\")\n",
    "        continue\n",
    "    #\n",
    "\n",
    "    clmTmp = computeCLM(limbs[j].pos(xLimb), rmax, N, x0)\n",
    "\n",
    "    clmAllTmp.append(clmTmp.to_array())\n",
    "    Mtmp.append(np.asarray(clmAllTmp))\n",
    "\n",
    "    Mclm.append(Mtmp)\n",
    "\n",
    "    pb.print('clm...')\n"
   ]
  },
  {
   "cell_type": "code",
   "execution_count": 22,
   "id": "3267c7e5-6b9a-41e3-a164-c9372c2803b4",
   "metadata": {
    "tags": []
   },
   "outputs": [
    {
     "data": {
      "text/plain": [
       "69"
      ]
     },
     "execution_count": 22,
     "metadata": {},
     "output_type": "execute_result"
    }
   ],
   "source": [
    "pb.range();\n",
    "totLimbs"
   ]
  },
  {
   "cell_type": "code",
   "execution_count": 23,
   "id": "f71f14a5-548f-4371-a627-58adc7cb55cb",
   "metadata": {
    "tags": []
   },
   "outputs": [],
   "source": [
    "CLM = sorted(Mclm, key=lambda tup: tup[0])\n",
    "\n",
    "CLMtot = []\n",
    "for j in range(len(CLM)):\n",
    "    CLMtot.append(CLM[j][1])\n"
   ]
  },
  {
   "cell_type": "code",
   "execution_count": 24,
   "id": "4c25384f-f422-48f9-baf3-e20bed7a2c04",
   "metadata": {
    "tags": []
   },
   "outputs": [
    {
     "name": "stdout",
     "output_type": "stream",
     "text": [
      "\u001b[1m\u001b[32;1msaving -->  clm_N500_lmax20.npy\u001b[0m\n"
     ]
    }
   ],
   "source": [
    "CLMtot = np.asarray(CLMtot)\n",
    "CLMtot = np.squeeze(CLMtot, axis=1)\n",
    "\n",
    "filename = 'clm_N' + str(N) + '_lmax'+str(lmax) + '.npy'\n",
    "printc('saving --> ', filename, c='g')\n",
    "np.save(path_results + filename, CLMtot)\n"
   ]
  },
  {
   "cell_type": "code",
   "execution_count": 25,
   "id": "d784f173-7fa7-4000-ba00-911e377cf48c",
   "metadata": {
    "tags": []
   },
   "outputs": [
    {
     "name": "stdout",
     "output_type": "stream",
     "text": [
      "clmSpline.shape (42, 2, 250, 250)\n"
     ]
    }
   ],
   "source": [
    "# CLMtot = np.load(path_results + 'clm_N500_lmax50.npy')\n",
    "\n",
    "clmSpline = np.zeros(\n",
    "    shape=(NumRecLimbs, CLMtot.shape[1], CLMtot.shape[2], CLMtot.shape[3]))\n",
    "print('clmSpline.shape', clmSpline.shape)\n"
   ]
  },
  {
   "cell_type": "code",
   "execution_count": 26,
   "id": "280e9bc3-55b4-488d-828f-e526b0a6c6f1",
   "metadata": {
    "tags": []
   },
   "outputs": [],
   "source": [
    "maxt = np.max(Treal)\n",
    "mint = np.min(Treal)\n",
    "xnew = np.linspace(mint, maxt, NumRecLimbs)\n",
    "range_m = np.linspace(\n",
    "    0, NumRecLimbs, num=clmSpline.shape[0], endpoint=False).astype(int)\n"
   ]
  },
  {
   "cell_type": "code",
   "execution_count": 27,
   "id": "dd62713f-c31c-4ae1-b1ca-477321c5721c",
   "metadata": {
    "tags": []
   },
   "outputs": [
    {
     "name": "stdout",
     "output_type": "stream",
     "text": [
      "\u001b[0m\u001b[38;2;229;24;49m ━━━━━━━━━━━\u001b[2m─────────── 50% splines...\u001b[1m\u001b[38;2;229;24;49m ━━━━━━━━━━━━━━━━━━━━━━\u001b[2m         elapsed: 6s (0.3 it/s)        \n"
     ]
    }
   ],
   "source": [
    "pb = ProgressBar(0, CLMtot.shape[1], c=2)\n",
    "for ll in pb.range():\n",
    "    for k in range(CLMtot.shape[2]):\n",
    "        for j in range(CLMtot.shape[3]):\n",
    "\n",
    "            spl = np.poly1d(np.polyfit(\n",
    "                np.array(Tall), np.array(CLMtot[:,  ll, k, j]), deg_fit))\n",
    "            ynew = spl(xnew)\n",
    "\n",
    "            for m in range(clmSpline.shape[0]):\n",
    "                clmSpline[m, ll, k, j] = ynew[range_m[m]]\n",
    "\n",
    "    pb.print('splines...')"
   ]
  },
  {
   "cell_type": "code",
   "execution_count": 28,
   "id": "ae083190-b223-4f1f-80ff-bacf70f74423",
   "metadata": {
    "tags": []
   },
   "outputs": [],
   "source": [
    "pb = ProgressBar(0, clmSpline.shape[0], c=2)"
   ]
  },
  {
   "cell_type": "code",
   "execution_count": 29,
   "id": "836b9d67-ced3-4e5c-85d6-1158dc5e0005",
   "metadata": {
    "tags": []
   },
   "outputs": [],
   "source": [
    "#from vedo import reconstruct_surface"
   ]
  },
  {
   "cell_type": "code",
   "execution_count": 36,
   "id": "a80324ba-9015-4542-9a67-fd89f2bb3537",
   "metadata": {
    "tags": []
   },
   "outputs": [
    {
     "name": "stdout",
     "output_type": "stream",
     "text": [
      "\u001b[0m\u001b[38;2;229;24;49m \u001b[2m─────────────────────── 2% rec ...\u001b[1m\u001b[38;2;229;24;49m \u001b[2m────────────────────── 5%       ETA: 147m20s (0.0 it/s) rec ...\u001b[1m\u001b[38;2;229;24;49m ━\u001b[2m───────────────────── 7%                               ETA: 97m21s (0.0 it/s) rec ...\u001b[1m\u001b[38;2;229;24;49m ━\u001b[2m───────────────────── 10%                             ETA: 72m16s (0.0 it/s) rec ...\u001b[1m\u001b[38;2;229;24;49m ━━\u001b[2m──────────────────── 12%                             ETA: 57m11s (0.0 it/s) rec ...\u001b[1m\u001b[38;2;229;24;49m ━━\u001b[2m──────────────────── 14%                             ETA: 47m6s (0.0 it/s) rec ...\u001b[1m\u001b[38;2;229;24;49m ━━━\u001b[2m─────────────────── 17%                             ETA: 39m53s (0.0 it/s) rec ...\u001b[1m\u001b[38;2;229;24;49m ━━━\u001b[2m─────────────────── 19%                             ETA: 34m28s (0.0 it/s) rec ...\u001b[1m\u001b[38;2;229;24;49m ━━━━\u001b[2m────────────────── 21%                             ETA: 30m15s (0.0 it/s) rec ...\u001b[1m\u001b[38;2;229;24;49m ━━━━━\u001b[2m───────────────── 24%                             ETA: 26m51s (0.0 it/s) rec ...\u001b[1m\u001b[38;2;229;24;49m ━━━━━\u001b[2m───────────────── 26%                             ETA: 24m4s (0.0 it/s) rec ...\u001b[1m\u001b[38;2;229;24;49m ━━━━━━\u001b[2m──────────────── 29%                             ETA: 21m44s (0.0 it/s) rec ...\u001b[1m\u001b[38;2;229;24;49m ━━━━━━\u001b[2m──────────────── 31%                             ETA: 19m45s (0.0 it/s) rec ...\u001b[1m\u001b[38;2;229;24;49m ━━━━━━━\u001b[2m─────────────── 33%                             ETA: 18m1s (0.0 it/s) rec ...\u001b[1m\u001b[38;2;229;24;49m ━━━━━━━\u001b[2m─────────────── 36%                             ETA: 16m30s (0.0 it/s) rec ...\u001b[1m\u001b[38;2;229;24;49m ━━━━━━━━\u001b[2m────────────── 38%                             ETA: 15m10s (0.0 it/s) rec ...\u001b[1m\u001b[38;2;229;24;49m ━━━━━━━━\u001b[2m────────────── 40%                             ETA: 13m58s (0.0 it/s) rec ...\u001b[1m\u001b[38;2;229;24;49m ━━━━━━━━━\u001b[2m───────────── 43%                             ETA: 12m53s (0.0 it/s) rec ...\u001b[1m\u001b[38;2;229;24;49m ━━━━━━━━━\u001b[2m───────────── 45%                             ETA: 11m54s (0.0 it/s) rec ...\u001b[1m\u001b[38;2;229;24;49m ━━━━━━━━━━\u001b[2m──────────── 48%                             ETA: 11m0s (0.0 it/s) rec ...\u001b[1m\u001b[38;2;229;24;49m ━━━━━━━━━━━\u001b[2m─────────── 50%                             ETA: 10m10s (0.0 it/s) rec ...\u001b[1m\u001b[38;2;229;24;49m ━━━━━━━━━━━\u001b[2m─────────── 52%                             ETA: 9m23s (0.0 it/s) rec ...\u001b[1m\u001b[38;2;229;24;49m ━━━━━━━━━━━━\u001b[2m────────── 55%                             ETA: 8m40s (0.0 it/s) rec ...\u001b[1m\u001b[38;2;229;24;49m ━━━━━━━━━━━━\u001b[2m────────── 57%                             ETA: 7m60s (0.0 it/s) rec ...\u001b[1m\u001b[38;2;229;24;49m ━━━━━━━━━━━━━\u001b[2m───────── 60%                             ETA: 7m22s (0.0 it/s) rec ...\u001b[1m\u001b[38;2;229;24;49m ━━━━━━━━━━━━━\u001b[2m───────── 62%                             ETA: 6m46s (0.0 it/s) rec ...\u001b[1m\u001b[38;2;229;24;49m ━━━━━━━━━━━━━━\u001b[2m──────── 64%                             ETA: 6m12s (0.0 it/s) rec ...\u001b[1m\u001b[38;2;229;24;49m ━━━━━━━━━━━━━━\u001b[2m──────── 67%                             ETA: 5m39s (0.0 it/s) rec ...\u001b[1m\u001b[38;2;229;24;49m ━━━━━━━━━━━━━━━\u001b[2m─────── 69%                             ETA: 5m8s (0.0 it/s) rec ...\u001b[1m\u001b[38;2;229;24;49m ━━━━━━━━━━━━━━━\u001b[2m─────── 71%                           ETA: 4m39s (0.0 it/s) rec ...\u001b[1m\u001b[38;2;229;24;49m ━━━━━━━━━━━━━━━━\u001b[2m────── 74%                             ETA: 4m11s (0.0 it/s) rec ...\u001b[1m\u001b[38;2;229;24;49m ━━━━━━━━━━━━━━━━\u001b[2m────── 76%                             ETA: 3m44s (0.0 it/s) rec ...\u001b[1m\u001b[38;2;229;24;49m ━━━━━━━━━━━━━━━━━\u001b[2m───── 79%                             ETA: 3m18s (0.0 it/s) rec ...\u001b[1m\u001b[38;2;229;24;49m ━━━━━━━━━━━━━━━━━━\u001b[2m──── 81%                             ETA: 2m53s (0.0 it/s) rec ...\u001b[1m\u001b[38;2;229;24;49m ━━━━━━━━━━━━━━━━━━\u001b[2m──── 83%                             ETA: 2m29s (0.0 it/s) rec ...\u001b[1m\u001b[38;2;229;24;49m ━━━━━━━━━━━━━━━━━━━\u001b[2m─── 86%                             ETA: 2m6s (0.0 it/s) rec ...\u001b[1m\u001b[38;2;229;24;49m ━━━━━━━━━━━━━━━━━━━\u001b[2m─── 88%                           ETA: 1m43s (0.0 it/s) rec ...\u001b[1m\u001b[38;2;229;24;49m ━━━━━━━━━━━━━━━━━━━━\u001b[2m── 90%                             ETA: 1m21s (0.0 it/s) rec ...\u001b[1m\u001b[38;2;229;24;49m ━━━━━━━━━━━━━━━━━━━━\u001b[2m── 93%                             ETA: 1m0s (0.0 it/s) rec ...\u001b[1m\u001b[38;2;229;24;49m ━━━━━━━━━━━━━━━━━━━━━\u001b[2m─ 95%                           ETA: 40s (0.1 it/s) rec ...\u001b[1m\u001b[38;2;229;24;49m ━━━━━━━━━━━━━━━━━━━━━━\u001b[2m 98%                           ETA: 20s (0.1 it/s) rec ...\u001b[1m\u001b[38;2;229;24;49m ━━━━━━━━━━━━━━━━━━━━━━\u001b[2m                           elapsed: 13m32s (0.1 it/s)        \n"
     ]
    }
   ],
   "source": [
    "for t in pb.range():\n",
    "\n",
    "    clmCoeffs = pyshtools.SHCoeffs.from_array(clmSpline[t])\n",
    "\n",
    "    grid_reco = clmCoeffs.expand(lmax=lmax)\n",
    "    # grid_reco.plot()\n",
    "\n",
    "    ##############################################\n",
    "    agrid_reco = grid_reco.to_array()\n",
    "\n",
    "    ll = []\n",
    "    for i, long in enumerate(np.linspace(0, 360, num=agrid_reco.shape[1], endpoint=True)):\n",
    "        for j, lat in enumerate(np.linspace(90, -90, num=agrid_reco.shape[0], endpoint=True)):\n",
    "            th = np.deg2rad(90 - lat)\n",
    "            ph = np.deg2rad(long)\n",
    "            p = spher2cart(agrid_reco[j][i], th, ph)\n",
    "            ll.append((lat, long))\n",
    "\n",
    "    radii = agrid_reco.T.ravel()\n",
    "    n = 2*N * 1j\n",
    "    lnmin, lnmax = np.array(ll).min(axis=0), np.array(ll).max(axis=0)\n",
    "    grid = np.mgrid[lnmax[0]:lnmin[0]:n, lnmin[1]:lnmax[1]:n]\n",
    "    grid_x, grid_y = grid\n",
    "    agrid_reco_finer = griddata(ll, radii, (grid_x, grid_y), method='cubic')\n",
    "\n",
    "    pts2 = []\n",
    "    for i, long in enumerate(np.linspace(0, 360, num=agrid_reco_finer.shape[1], endpoint=False)):\n",
    "        for j, lat in enumerate(np.linspace(90, -90, num=agrid_reco_finer.shape[0], endpoint=True)):\n",
    "            th = np.deg2rad(90 - lat)\n",
    "            ph = np.deg2rad(long)\n",
    "            p = spher2cart(agrid_reco_finer[j][i], th, ph)\n",
    "            pts2.append(p)\n",
    "\n",
    "    #mesh2 = Points(pts2, r=20, c=\"r\", alpha=1)\n",
    "    \n",
    "    mesh2 = Points(pts2, r=20, c=\"r\", alpha=1)\n",
    "    \n",
    "    mesh2.clean(0.005)\n",
    "    surfTmp = recoSurface(mesh2.cutWithPlane(origin=[-30, 0, 0]),\n",
    "                          dims=100\n",
    "                          )\n",
    "    #surfTmp = reconstruct_surface(mesh2.cutWithPlane(origin=[-30, 0, 0]),\n",
    "    #                      dims=100\n",
    "    #                      )\n",
    "    \n",
    "    #mesh2.clean()\n",
    "    #surfTmp = Points.reconstruct_surface(mesh2.cut_with_plane(origin=[-30, 0, 0]),\n",
    "    #                      dims=100\n",
    "    #                      )\n",
    "\n",
    "    surf = surfTmp.extractLargestRegion().clone()\n",
    "    surf.smooth()\n",
    "\n",
    "    # #Reconstruction\n",
    "    write(mesh2, path_results + 'Points_Limb-rec_' +\n",
    "          str(Treal[t]) + '.vtk', binary=False)\n",
    "    write(surf, path_results + 'Limb-rec_' +\n",
    "          str(Treal[t]) + '.vtk', binary=False)\n",
    "\n",
    "    pb.print('rec ...')"
   ]
  },
  {
   "cell_type": "code",
   "execution_count": null,
   "id": "75865308-af48-438a-8b7a-8a5a7a2876d0",
   "metadata": {},
   "outputs": [],
   "source": []
  },
  {
   "cell_type": "code",
   "execution_count": 11,
   "id": "dc5629ff-6eb4-4388-b09e-f1932a3ee606",
   "metadata": {
    "tags": []
   },
   "outputs": [],
   "source": [
    "###########################################################################\n",
    "## STEP 2: \n",
    "## python makeVoxel.py\n",
    "## for limbs+flank\n",
    "###########################################################################\n",
    "\"\"\"Convert a vtk mesh from the limb-data files into voxel data.\"\"\""
   ]
  },
  {
   "cell_type": "code",
   "execution_count": 24,
   "id": "610a19ef-bd81-41df-b4c0-9b5a52a0488b",
   "metadata": {
    "tags": []
   },
   "outputs": [],
   "source": [
    "#from utils import pathExists\n",
    "from vedo import ProgressBar, load, printc, volumeFromMesh, write\n",
    "import numpy as np"
   ]
  },
  {
   "cell_type": "code",
   "execution_count": 26,
   "id": "b3dd57be-3289-4334-bded-ae44a44e205d",
   "metadata": {
    "tags": []
   },
   "outputs": [
    {
     "name": "stdout",
     "output_type": "stream",
     "text": [
      "\u001b[7m\u001b[1mlimbs #  69\u001b[0m\n"
     ]
    }
   ],
   "source": [
    "DataPath = 'S-BIAD441/limbs/limbs+flank/'\n",
    "limbs = load(DataPath + '*.vtk')\n",
    "totLimbs = len(limbs)\n",
    "printc(\"limbs # \", totLimbs, invert=1)"
   ]
  },
  {
   "cell_type": "code",
   "execution_count": 27,
   "id": "4d5ce6b7-bd6b-4bde-a4ac-e8334d91d248",
   "metadata": {
    "tags": []
   },
   "outputs": [
    {
     "name": "stdout",
     "output_type": "stream",
     "text": [
      "\u001b[1m\u001b[38;2;255;0;0mDirectory  res/TIF-signedDist_sampleSize100/  already exists\u001b[0m\n"
     ]
    },
    {
     "name": "stdin",
     "output_type": "stream",
     "text": [
      "Should I delete the folder and create a new one [Y/N]?  Y\n"
     ]
    },
    {
     "name": "stdout",
     "output_type": "stream",
     "text": [
      "\u001b[1m\u001b[38;2;0;128;0mDirectory  res/TIF-signedDist_sampleSize100/  Created \u001b[0m\n"
     ]
    }
   ],
   "source": [
    "sampleSize = (100, 100, 100)\n",
    "\n",
    "path_results = 'res/TIF-signedDist_sampleSize' + \\\n",
    "    str(sampleSize[0]) + '/'\n",
    "\n",
    "pathExists(path_results)"
   ]
  },
  {
   "cell_type": "code",
   "execution_count": 28,
   "id": "79e0060f-328c-45a9-b8da-f5ff92cc3ebb",
   "metadata": {
    "tags": []
   },
   "outputs": [
    {
     "name": "stdout",
     "output_type": "stream",
     "text": [
      "\u001b[0m\u001b[38;2;244;129;47m \u001b[2m─────────────────────── 1% all bounds ...\u001b[1m\u001b[38;2;244;129;47m \u001b[2m────────────────────── 3%             elapsed: 0s (613.1 it/s)        \u001b[1m\u001b[38;2;244;129;47m \u001b[2m────────────────────── 4%                               elapsed: 0s (618.3 it/s)        \u001b[1m\u001b[38;2;244;129;47m \u001b[2m────────────────────── 6%                               elapsed: 0s (535.3 it/s)        \u001b[1m\u001b[38;2;244;129;47m ━\u001b[2m───────────────────── 7%                               elapsed: 0s (541.9 it/s)        \u001b[1m\u001b[38;2;244;129;47m ━\u001b[2m───────────────────── 9%                               elapsed: 0s (399.8 it/s)        \u001b[1m\u001b[38;2;244;129;47m ━\u001b[2m───────────────────── 10%                               elapsed: 0s (408.8 it/s)        \u001b[1m\u001b[38;2;244;129;47m ━━\u001b[2m──────────────────── 12%                               elapsed: 0s (446.5 it/s)        \u001b[1m\u001b[38;2;244;129;47m ━━\u001b[2m──────────────────── 13%                               elapsed: 0s (481.6 it/s)        \u001b[1m\u001b[38;2;244;129;47m ━━\u001b[2m──────────────────── 14%                               elapsed: 0s (517.1 it/s)        \u001b[1m\u001b[38;2;244;129;47m ━━━\u001b[2m─────────────────── 16%                               elapsed: 0s (549.2 it/s)        \u001b[1m\u001b[38;2;244;129;47m ━━━\u001b[2m─────────────────── 17%                               elapsed: 0s (581.9 it/s)        \u001b[1m\u001b[38;2;244;129;47m ━━━\u001b[2m─────────────────── 19%                               elapsed: 0s (612.7 it/s)        \u001b[1m\u001b[38;2;244;129;47m ━━━━\u001b[2m────────────────── 20%                               elapsed: 0s (638.9 it/s)        \u001b[1m\u001b[38;2;244;129;47m ━━━━\u001b[2m────────────────── 22%                               elapsed: 0s (667.3 it/s)        \u001b[1m\u001b[38;2;244;129;47m ━━━━\u001b[2m────────────────── 23%                               elapsed: 0s (692.4 it/s)        \u001b[1m\u001b[38;2;244;129;47m ━━━━━\u001b[2m───────────────── 25%                               elapsed: 0s (719.1 it/s)        \u001b[1m\u001b[38;2;244;129;47m ━━━━━\u001b[2m───────────────── 26%                               elapsed: 0s (736.8 it/s)        \u001b[1m\u001b[38;2;244;129;47m ━━━━━\u001b[2m───────────────── 28%                               elapsed: 0s (760.2 it/s)        \u001b[1m\u001b[38;2;244;129;47m ━━━━━━\u001b[2m──────────────── 29%                               elapsed: 0s (781.9 it/s)        \u001b[1m\u001b[38;2;244;129;47m ━━━━━━\u001b[2m──────────────── 30%                               elapsed: 0s (799.3 it/s)        \u001b[1m\u001b[38;2;244;129;47m ━━━━━━\u001b[2m──────────────── 32%                               elapsed: 0s (816.5 it/s)        \u001b[1m\u001b[38;2;244;129;47m ━━━━━━━\u001b[2m─────────────── 33%                               elapsed: 0s (836.4 it/s)        \u001b[1m\u001b[38;2;244;129;47m ━━━━━━━\u001b[2m─────────────── 35%                               elapsed: 0s (856.0 it/s)        \u001b[1m\u001b[38;2;244;129;47m ━━━━━━━\u001b[2m─────────────── 36%                               elapsed: 0s (870.2 it/s)        \u001b[1m\u001b[38;2;244;129;47m ━━━━━━━━\u001b[2m────────────── 38%                               elapsed: 0s (884.1 it/s)        \u001b[1m\u001b[38;2;244;129;47m ━━━━━━━━\u001b[2m────────────── 39%                               elapsed: 0s (900.5 it/s)        \u001b[1m\u001b[38;2;244;129;47m ━━━━━━━━\u001b[2m────────────── 41%                               elapsed: 0s (910.2 it/s)        \u001b[1m\u001b[38;2;244;129;47m ━━━━━━━━━\u001b[2m───────────── 42%                               elapsed: 0s (916.9 it/s)        \u001b[1m\u001b[38;2;244;129;47m ━━━━━━━━━\u001b[2m───────────── 43%                               elapsed: 0s (930.5 it/s)        \u001b[1m\u001b[38;2;244;129;47m ━━━━━━━━━\u001b[2m───────────── 45%                               elapsed: 0s (936.4 it/s)        \u001b[1m\u001b[38;2;244;129;47m ━━━━━━━━━━\u001b[2m──────────── 46%                               elapsed: 0s (939.6 it/s)        \u001b[1m\u001b[38;2;244;129;47m ━━━━━━━━━━\u001b[2m──────────── 48%                               elapsed: 0s (943.2 it/s)        \u001b[1m\u001b[38;2;244;129;47m ━━━━━━━━━━\u001b[2m──────────── 49%                               elapsed: 0s (953.7 it/s)        \u001b[1m\u001b[38;2;244;129;47m ━━━━━━━━━━━\u001b[2m─────────── 51%                               elapsed: 0s (964.5 it/s)        \u001b[1m\u001b[38;2;244;129;47m ━━━━━━━━━━━\u001b[2m─────────── 52%                               elapsed: 0s (975.9 it/s)        \u001b[1m\u001b[38;2;244;129;47m ━━━━━━━━━━━\u001b[2m─────────── 54%                               elapsed: 0s (986.8 it/s)        \u001b[1m\u001b[38;2;244;129;47m ━━━━━━━━━━━━\u001b[2m────────── 55%                               elapsed: 0s (997.6 it/s)        \u001b[1m\u001b[38;2;244;129;47m ━━━━━━━━━━━━\u001b[2m────────── 57%                               elapsed: 0s (1007.4 it/s)        \u001b[1m\u001b[38;2;244;129;47m ━━━━━━━━━━━━\u001b[2m────────── 58%                                 elapsed: 0s (1015.0 it/s)        \u001b[1m\u001b[38;2;244;129;47m ━━━━━━━━━━━━━\u001b[2m───────── 59%                                 elapsed: 0s (1020.4 it/s)        \u001b[1m\u001b[38;2;244;129;47m ━━━━━━━━━━━━━\u001b[2m───────── 61%                                 elapsed: 0s (1026.6 it/s)        \u001b[1m\u001b[38;2;244;129;47m ━━━━━━━━━━━━━\u001b[2m───────── 62%                                 elapsed: 0s (1035.9 it/s)        \u001b[1m\u001b[38;2;244;129;47m ━━━━━━━━━━━━━━\u001b[2m──────── 64%                                 elapsed: 0s (1040.0 it/s)        \u001b[1m\u001b[38;2;244;129;47m ━━━━━━━━━━━━━━\u001b[2m──────── 65%                                 elapsed: 0s (1048.9 it/s)        \u001b[1m\u001b[38;2;244;129;47m ━━━━━━━━━━━━━━\u001b[2m──────── 67%                                 elapsed: 0s (1057.4 it/s)        \u001b[1m\u001b[38;2;244;129;47m ━━━━━━━━━━━━━━━\u001b[2m─────── 68%                                 elapsed: 0s (1063.3 it/s)        \u001b[1m\u001b[38;2;244;129;47m ━━━━━━━━━━━━━━━\u001b[2m─────── 70%                                 elapsed: 0s (1073.6 it/s)        \u001b[1m\u001b[38;2;244;129;47m ━━━━━━━━━━━━━━━\u001b[2m─────── 71%                                 elapsed: 0s (1079.6 it/s)        \u001b[1m\u001b[38;2;244;129;47m ━━━━━━━━━━━━━━━━\u001b[2m────── 72%                                 elapsed: 0s (1081.7 it/s)        \u001b[1m\u001b[38;2;244;129;47m ━━━━━━━━━━━━━━━━\u001b[2m────── 74%                                 elapsed: 0s (1085.2 it/s)        \u001b[1m\u001b[38;2;244;129;47m ━━━━━━━━━━━━━━━━\u001b[2m────── 75%                                 elapsed: 0s (1088.4 it/s)        \u001b[1m\u001b[38;2;244;129;47m ━━━━━━━━━━━━━━━━━\u001b[2m───── 77%                                 elapsed: 0s (1094.0 it/s)        \u001b[1m\u001b[38;2;244;129;47m ━━━━━━━━━━━━━━━━━\u001b[2m───── 78%                                 elapsed: 0s (1100.0 it/s)        \u001b[1m\u001b[38;2;244;129;47m ━━━━━━━━━━━━━━━━━\u001b[2m───── 80%                                 elapsed: 0s (1101.2 it/s)        \u001b[1m\u001b[38;2;244;129;47m ━━━━━━━━━━━━━━━━━━\u001b[2m──── 81%                                 elapsed: 0s (1099.1 it/s)        \u001b[1m\u001b[38;2;244;129;47m ━━━━━━━━━━━━━━━━━━\u001b[2m──── 83%                                 elapsed: 0s (1100.8 it/s)        \u001b[1m\u001b[38;2;244;129;47m ━━━━━━━━━━━━━━━━━━\u001b[2m──── 84%                                 elapsed: 0s (1106.6 it/s)        \u001b[1m\u001b[38;2;244;129;47m ━━━━━━━━━━━━━━━━━━━\u001b[2m─── 86%                                 elapsed: 0s (1111.4 it/s)        \u001b[1m\u001b[38;2;244;129;47m ━━━━━━━━━━━━━━━━━━━\u001b[2m─── 87%                                 elapsed: 0s (1116.2 it/s)        \u001b[1m\u001b[38;2;244;129;47m ━━━━━━━━━━━━━━━━━━━\u001b[2m─── 88%                                 elapsed: 0s (1115.8 it/s)        \u001b[1m\u001b[38;2;244;129;47m ━━━━━━━━━━━━━━━━━━━━\u001b[2m── 90%                                 elapsed: 0s (1115.1 it/s)        \u001b[1m\u001b[38;2;244;129;47m ━━━━━━━━━━━━━━━━━━━━\u001b[2m── 91%                                 elapsed: 0s (1122.4 it/s)        \u001b[1m\u001b[38;2;244;129;47m ━━━━━━━━━━━━━━━━━━━━\u001b[2m── 93%                                 elapsed: 0s (1126.0 it/s)        \u001b[1m\u001b[38;2;244;129;47m ━━━━━━━━━━━━━━━━━━━━━\u001b[2m─ 94%                                 elapsed: 0s (1130.5 it/s)        \u001b[1m\u001b[38;2;244;129;47m ━━━━━━━━━━━━━━━━━━━━━\u001b[2m─ 96%                                 elapsed: 0s (1129.2 it/s)        \u001b[1m\u001b[38;2;244;129;47m ━━━━━━━━━━━━━━━━━━━━━\u001b[2m─ 97%                                 elapsed: 0s (1134.5 it/s)        \u001b[1m\u001b[38;2;244;129;47m ━━━━━━━━━━━━━━━━━━━━━━\u001b[2m 99%                                 elapsed: 0s (1135.0 it/s)        \u001b[1m\u001b[38;2;244;129;47m ━━━━━━━━━━━━━━━━━━━━━━\u001b[2m                                 elapsed: 0s (1141.5 it/s)        \n",
      "\u001b[0m\u001b[38;2;244;129;47m ━━━\u001b[2m─────────────────── 17% allBoundsTmp ... \u001b[1m\u001b[38;2;244;129;47m ━━━━━━━\u001b[2m─────────────── 33%                 elapsed: 0s (4673.3 it/s)        \u001b[1m\u001b[38;2;244;129;47m ━━━━━━━━━━━\u001b[2m─────────── 50%                                 elapsed: 0s (3995.8 it/s)        \u001b[1m\u001b[38;2;244;129;47m ━━━━━━━━━━━━━━\u001b[2m──────── 67%                                 elapsed: 0s (3734.9 it/s)        \u001b[1m\u001b[38;2;244;129;47m ━━━━━━━━━━━━━━━━━━\u001b[2m──── 83%                                 elapsed: 0s (3649.8 it/s)        \u001b[1m\u001b[38;2;244;129;47m ━━━━━━━━━━━━━━━━━━━━━━\u001b[2m                                 elapsed: 0s (3275.1 it/s)        \n"
     ]
    }
   ],
   "source": [
    "# needed to have all the normals pointing in the same direction\n",
    "noMirror = [4, 5, 6, 8, 9, 13, 14, 16, 17, 18, 19, 20, 22, 23, 25, 26, 27, 29, 30, 31, 33, 34,\n",
    "            35, 37, 38, 40, 41, 42, 43, 44, 45, 47, 48, 49, 50, 52, 53, 55, 56, 59, 63, 64, 67, 68]\n",
    "\n",
    "# collecting imgBounds of all limbs\n",
    "allBounds = np.empty(shape=(6, totLimbs))\n",
    "pb = ProgressBar(0, totLimbs, c=1)\n",
    "for j in pb.range():\n",
    "    allBounds[:, j] = limbs[j].GetBounds()\n",
    "    pb.print('all bounds ...')\n",
    "\n",
    "# finding max imgBounds\n",
    "allBoundsTmp = []\n",
    "pb = ProgressBar(0, allBounds.shape[0], c=1)\n",
    "for j in pb.range():\n",
    "    if allBounds[j, 0] > 0:\n",
    "        allBoundsTmp.append(np.max(allBounds[j, :]))\n",
    "    else:\n",
    "        allBoundsTmp.append(np.min(allBounds[j, :]))\n",
    "    pb.print('allBoundsTmp ... ')\n",
    "\n",
    "# making imgBounds a bit bigger, just in case\n",
    "imgBOunds = [x * 1.2 for x in allBoundsTmp]"
   ]
  },
  {
   "cell_type": "code",
   "execution_count": 29,
   "id": "342c0e32-212c-40b9-92a5-0aecfad73105",
   "metadata": {
    "tags": []
   },
   "outputs": [
    {
     "data": {
      "text/plain": [
       "array([ 0,  1,  2,  3,  4,  5,  6,  7,  8,  9, 10, 11, 12, 13, 14, 15, 16,\n",
       "       17, 18, 19, 20, 21, 22, 23, 24, 25, 26, 27, 28, 29, 30, 31, 32, 33,\n",
       "       34, 35, 36, 37, 38, 39, 40, 41, 42, 43, 44, 45, 46, 47, 48, 49, 50,\n",
       "       51, 52, 53, 54, 55, 56, 57, 58, 59, 60, 61, 62, 63, 64, 65, 66, 67,\n",
       "       68])"
      ]
     },
     "execution_count": 29,
     "metadata": {},
     "output_type": "execute_result"
    }
   ],
   "source": [
    "pb = ProgressBar(0, totLimbs, c=1)\n",
    "pb.range()"
   ]
  },
  {
   "cell_type": "code",
   "execution_count": 30,
   "id": "293bbee8-41c4-4918-bf43-25377c4addef",
   "metadata": {
    "tags": []
   },
   "outputs": [
    {
     "data": {
      "text/plain": [
       "'S-BIAD441/limbs/limbs+flank/Limb_249'"
      ]
     },
     "execution_count": 30,
     "metadata": {},
     "output_type": "execute_result"
    }
   ],
   "source": [
    "j = 0\n",
    "#time = limbs[j].filename.split('.')[0].split('/')[-1].split('_')[1]\n",
    "limbs[j].filename.split('.')[0]"
   ]
  },
  {
   "cell_type": "code",
   "execution_count": 31,
   "id": "ec4f0702-8c18-4611-ae16-fcaba7ca2242",
   "metadata": {
    "tags": []
   },
   "outputs": [
    {
     "name": "stdout",
     "output_type": "stream",
     "text": [
      "\u001b[0m\u001b[38;2;244;129;47m \u001b[2m─────────────────────── 1% making voxel data ...\u001b[1m\u001b[38;2;244;129;47m \u001b[2m────────────────────── 3%                     ETA: 27m38s (0.0 it/s) making voxel data ...\u001b[1m\u001b[38;2;244;129;47m \u001b[2m────────────────────── 4%                                           ETA: 26m47s (0.0 it/s) making voxel data ...\u001b[1m\u001b[38;2;244;129;47m \u001b[2m────────────────────── 6%                                           ETA: 25m2s (0.0 it/s) making voxel data ...\u001b[1m\u001b[38;2;244;129;47m ━\u001b[2m───────────────────── 7%                                           ETA: 23m25s (0.0 it/s) making voxel data ...\u001b[1m\u001b[38;2;244;129;47m ━\u001b[2m───────────────────── 9%                                           ETA: 22m42s (0.0 it/s) making voxel data ...\u001b[1m\u001b[38;2;244;129;47m ━\u001b[2m───────────────────── 10%                                           ETA: 23m10s (0.0 it/s) making voxel data ...\u001b[1m\u001b[38;2;244;129;47m ━━\u001b[2m──────────────────── 12%                                           ETA: 21m47s (0.0 it/s) making voxel data ...\u001b[1m\u001b[38;2;244;129;47m ━━\u001b[2m──────────────────── 13%                                           ETA: 21m16s (0.0 it/s) making voxel data ...\u001b[1m\u001b[38;2;244;129;47m ━━\u001b[2m──────────────────── 14%                                           ETA: 20m48s (0.0 it/s) making voxel data ...\u001b[1m\u001b[38;2;244;129;47m ━━━\u001b[2m─────────────────── 16%                                           ETA: 20m17s (0.0 it/s) making voxel data ...\u001b[1m\u001b[38;2;244;129;47m ━━━\u001b[2m─────────────────── 17%                                           ETA: 19m52s (0.0 it/s) making voxel data ...\u001b[1m\u001b[38;2;244;129;47m ━━━\u001b[2m─────────────────── 19%                                           ETA: 19m19s (0.0 it/s) making voxel data ...\u001b[1m\u001b[38;2;244;129;47m ━━━━\u001b[2m────────────────── 20%                                           ETA: 18m52s (0.0 it/s) making voxel data ...\u001b[1m\u001b[38;2;244;129;47m ━━━━\u001b[2m────────────────── 22%                                           ETA: 18m17s (0.0 it/s) making voxel data ...\u001b[1m\u001b[38;2;244;129;47m ━━━━\u001b[2m────────────────── 23%                                           ETA: 17m50s (0.0 it/s) making voxel data ...\u001b[1m\u001b[38;2;244;129;47m ━━━━━\u001b[2m───────────────── 25%                                           ETA: 17m23s (0.0 it/s) making voxel data ...\u001b[1m\u001b[38;2;244;129;47m ━━━━━\u001b[2m───────────────── 26%                                           ETA: 17m3s (0.0 it/s) making voxel data ...\u001b[1m\u001b[38;2;244;129;47m ━━━━━\u001b[2m───────────────── 28%                                           ETA: 16m40s (0.0 it/s) making voxel data ...\u001b[1m\u001b[38;2;244;129;47m ━━━━━━\u001b[2m──────────────── 29%                                           ETA: 16m40s (0.0 it/s) making voxel data ...\u001b[1m\u001b[38;2;244;129;47m ━━━━━━\u001b[2m──────────────── 30%                                           ETA: 16m38s (0.0 it/s) making voxel data ...\u001b[1m\u001b[38;2;244;129;47m ━━━━━━\u001b[2m──────────────── 32%                                           ETA: 16m37s (0.0 it/s) making voxel data ...\u001b[1m\u001b[38;2;244;129;47m ━━━━━━━\u001b[2m─────────────── 33%                                           ETA: 16m10s (0.0 it/s) making voxel data ...\u001b[1m\u001b[38;2;244;129;47m ━━━━━━━\u001b[2m─────────────── 35%                                           ETA: 15m42s (0.0 it/s) making voxel data ...\u001b[1m\u001b[38;2;244;129;47m ━━━━━━━\u001b[2m─────────────── 36%                                           ETA: 15m12s (0.0 it/s) making voxel data ...\u001b[1m\u001b[38;2;244;129;47m ━━━━━━━━\u001b[2m────────────── 38%                                           ETA: 14m48s (0.0 it/s) making voxel data ...\u001b[1m\u001b[38;2;244;129;47m ━━━━━━━━\u001b[2m────────────── 39%                                           ETA: 14m28s (0.0 it/s) making voxel data ...\u001b[1m\u001b[38;2;244;129;47m ━━━━━━━━\u001b[2m────────────── 41%                                           ETA: 14m17s (0.0 it/s) making voxel data ...\u001b[1m\u001b[38;2;244;129;47m ━━━━━━━━━\u001b[2m───────────── 42%                                           ETA: 13m55s (0.0 it/s) making voxel data ...\u001b[1m\u001b[38;2;244;129;47m ━━━━━━━━━\u001b[2m───────────── 43%                                           ETA: 13m33s (0.0 it/s) making voxel data ...\u001b[1m\u001b[38;2;244;129;47m ━━━━━━━━━\u001b[2m───────────── 45%                                           ETA: 13m20s (0.0 it/s) making voxel data ...\u001b[1m\u001b[38;2;244;129;47m ━━━━━━━━━━\u001b[2m──────────── 46%                                           ETA: 13m4s (0.0 it/s) making voxel data ...\u001b[1m\u001b[38;2;244;129;47m ━━━━━━━━━━\u001b[2m──────────── 48%                                           ETA: 12m41s (0.0 it/s) making voxel data ...\u001b[1m\u001b[38;2;244;129;47m ━━━━━━━━━━\u001b[2m──────────── 49%                                           ETA: 12m18s (0.0 it/s) making voxel data ...\u001b[1m\u001b[38;2;244;129;47m ━━━━━━━━━━━\u001b[2m─────────── 51%                                           ETA: 11m54s (0.0 it/s) making voxel data ...\u001b[1m\u001b[38;2;244;129;47m ━━━━━━━━━━━\u001b[2m─────────── 52%                                           ETA: 11m32s (0.0 it/s) making voxel data ...\u001b[1m\u001b[38;2;244;129;47m ━━━━━━━━━━━\u001b[2m─────────── 54%                                           ETA: 11m11s (0.0 it/s) making voxel data ...\u001b[1m\u001b[38;2;244;129;47m ━━━━━━━━━━━━\u001b[2m────────── 55%                                           ETA: 10m51s (0.0 it/s) making voxel data ...\u001b[1m\u001b[38;2;244;129;47m ━━━━━━━━━━━━\u001b[2m────────── 57%                                           ETA: 10m26s (0.0 it/s) making voxel data ...\u001b[1m\u001b[38;2;244;129;47m ━━━━━━━━━━━━\u001b[2m────────── 58%                                           ETA: 10m8s (0.0 it/s) making voxel data ...\u001b[1m\u001b[38;2;244;129;47m ━━━━━━━━━━━━━\u001b[2m───────── 59%                                           ETA: 9m51s (0.0 it/s) making voxel data ...\u001b[1m\u001b[38;2;244;129;47m ━━━━━━━━━━━━━\u001b[2m───────── 61%                                           ETA: 9m28s (0.0 it/s) making voxel data ...\u001b[1m\u001b[38;2;244;129;47m ━━━━━━━━━━━━━\u001b[2m───────── 62%                                           ETA: 9m6s (0.0 it/s) making voxel data ...\u001b[1m\u001b[38;2;244;129;47m ━━━━━━━━━━━━━━\u001b[2m──────── 64%                                         ETA: 8m48s (0.0 it/s) making voxel data ...\u001b[1m\u001b[38;2;244;129;47m ━━━━━━━━━━━━━━\u001b[2m──────── 65%                                           ETA: 8m29s (0.0 it/s) making voxel data ...\u001b[1m\u001b[38;2;244;129;47m ━━━━━━━━━━━━━━\u001b[2m──────── 67%                                           ETA: 8m8s (0.0 it/s) making voxel data ...\u001b[1m\u001b[38;2;244;129;47m ━━━━━━━━━━━━━━━\u001b[2m─────── 68%                                         ETA: 7m45s (0.0 it/s) making voxel data ...\u001b[1m\u001b[38;2;244;129;47m ━━━━━━━━━━━━━━━\u001b[2m─────── 70%                                           ETA: 7m22s (0.0 it/s) making voxel data ...\u001b[1m\u001b[38;2;244;129;47m ━━━━━━━━━━━━━━━\u001b[2m─────── 71%                                           ETA: 7m1s (0.0 it/s) making voxel data ...\u001b[1m\u001b[38;2;244;129;47m ━━━━━━━━━━━━━━━━\u001b[2m────── 72%                                         ETA: 6m42s (0.0 it/s) making voxel data ...\u001b[1m\u001b[38;2;244;129;47m ━━━━━━━━━━━━━━━━\u001b[2m────── 74%                                           ETA: 6m22s (0.0 it/s) making voxel data ...\u001b[1m\u001b[38;2;244;129;47m ━━━━━━━━━━━━━━━━\u001b[2m────── 75%                                           ETA: 5m60s (0.0 it/s) making voxel data ...\u001b[1m\u001b[38;2;244;129;47m ━━━━━━━━━━━━━━━━━\u001b[2m───── 77%                                           ETA: 5m37s (0.0 it/s) making voxel data ...\u001b[1m\u001b[38;2;244;129;47m ━━━━━━━━━━━━━━━━━\u001b[2m───── 78%                                           ETA: 5m16s (0.0 it/s) making voxel data ...\u001b[1m\u001b[38;2;244;129;47m ━━━━━━━━━━━━━━━━━\u001b[2m───── 80%                                           ETA: 4m55s (0.0 it/s) making voxel data ...\u001b[1m\u001b[38;2;244;129;47m ━━━━━━━━━━━━━━━━━━\u001b[2m──── 81%                                           ETA: 4m35s (0.0 it/s) making voxel data ...\u001b[1m\u001b[38;2;244;129;47m ━━━━━━━━━━━━━━━━━━\u001b[2m──── 83%                                           ETA: 4m14s (0.0 it/s) making voxel data ...\u001b[1m\u001b[38;2;244;129;47m ━━━━━━━━━━━━━━━━━━\u001b[2m──── 84%                                           ETA: 3m53s (0.0 it/s) making voxel data ...\u001b[1m\u001b[38;2;244;129;47m ━━━━━━━━━━━━━━━━━━━\u001b[2m─── 86%                                           ETA: 3m31s (0.0 it/s) making voxel data ...\u001b[1m\u001b[38;2;244;129;47m ━━━━━━━━━━━━━━━━━━━\u001b[2m─── 87%                                           ETA: 3m10s (0.0 it/s) making voxel data ...\u001b[1m\u001b[38;2;244;129;47m ━━━━━━━━━━━━━━━━━━━\u001b[2m─── 88%                                           ETA: 2m49s (0.0 it/s) making voxel data ...\u001b[1m\u001b[38;2;244;129;47m ━━━━━━━━━━━━━━━━━━━━\u001b[2m── 90%                                           ETA: 2m29s (0.0 it/s) making voxel data ...\u001b[1m\u001b[38;2;244;129;47m ━━━━━━━━━━━━━━━━━━━━\u001b[2m── 91%                                           ETA: 2m7s (0.0 it/s) making voxel data ...\u001b[1m\u001b[38;2;244;129;47m ━━━━━━━━━━━━━━━━━━━━\u001b[2m── 93%                                         ETA: 1m46s (0.0 it/s) making voxel data ...\u001b[1m\u001b[38;2;244;129;47m ━━━━━━━━━━━━━━━━━━━━━\u001b[2m─ 94%                                           ETA: 1m24s (0.0 it/s) making voxel data ...\u001b[1m\u001b[38;2;244;129;47m ━━━━━━━━━━━━━━━━━━━━━\u001b[2m─ 96%                                           ETA: 1m3s (0.0 it/s) making voxel data ...\u001b[1m\u001b[38;2;244;129;47m ━━━━━━━━━━━━━━━━━━━━━\u001b[2m─ 97%                                         ETA: 42s (0.0 it/s) making voxel data ...\u001b[1m\u001b[38;2;244;129;47m ━━━━━━━━━━━━━━━━━━━━━━\u001b[2m 99%                                         ETA: 21s (0.0 it/s) making voxel data ...\u001b[1m\u001b[38;2;244;129;47m ━━━━━━━━━━━━━━━━━━━━━━\u001b[2m                                         elapsed: 24m2s (0.0 it/s)        \n"
     ]
    }
   ],
   "source": [
    "for j in pb.range():\n",
    "\n",
    "    time = limbs[j].filename.split('.')[0].split('/')[-1].split('_')[1]\n",
    "\n",
    "    if limbs[j].filename.split('.')[0].split('/')[-1].split('_')[-1] == 'clean-newAlignement':\n",
    "        outputName = path_results + 'ReferenceShape_' + time + '_0.vti'\n",
    "    else:\n",
    "        outputName = path_results + 'ReferenceShape_' + time + '_' + \\\n",
    "            limbs[j].filename.split('.')[0].split(\n",
    "                '/')[-1].split('_')[-1] + '.vti'\n",
    "\n",
    "    if j in noMirror:\n",
    "        vol = volumeFromMesh(limbs[j],\n",
    "                             dims=sampleSize,\n",
    "                             bounds=imgBOunds,\n",
    "                             signed=True,\n",
    "                             negate=True,  # invert sign\n",
    "                             )\n",
    "        write(vol, outputName)\n",
    "    else:\n",
    "        vol = volumeFromMesh(limbs[j],\n",
    "                             dims=sampleSize,\n",
    "                             bounds=imgBOunds,\n",
    "                             signed=True,\n",
    "                             negate=False,  # invert sign\n",
    "                             )\n",
    "        write(vol, outputName)\n",
    "\n",
    "    pb.print('making voxel data ...')"
   ]
  },
  {
   "cell_type": "code",
   "execution_count": null,
   "id": "e7cbcd2f-285b-46fb-aead-9d80c01cf570",
   "metadata": {},
   "outputs": [],
   "source": []
  },
  {
   "cell_type": "code",
   "execution_count": null,
   "id": "6c376e74-f5a1-4c80-b2a1-5c9aaeb9d019",
   "metadata": {},
   "outputs": [],
   "source": []
  },
  {
   "cell_type": "code",
   "execution_count": null,
   "id": "c154a003-4b74-4a0b-8f4a-64024cb33c6d",
   "metadata": {},
   "outputs": [],
   "source": [
    "##########################################################################\n",
    "# STEP 3:\n",
    "# run the computeAllIntesities.py with heart volumetric data for limb data\n",
    "##########################################################################"
   ]
  },
  {
   "cell_type": "code",
   "execution_count": 32,
   "id": "b352072f-515b-4c1a-baea-08dd5b0abfc7",
   "metadata": {
    "tags": []
   },
   "outputs": [],
   "source": [
    "from vedo import printc, load, ProgressBar\n",
    "#from utils import pathExists, voxelIntensity\n",
    "import numpy as np"
   ]
  },
  {
   "cell_type": "code",
   "execution_count": 33,
   "id": "8f69f19d-eab9-4e22-a7de-e055f2ea9bca",
   "metadata": {
    "tags": []
   },
   "outputs": [],
   "source": [
    "radiusDiscretisation = 50\n",
    "N = 250\n",
    "FFTexpansion = radiusDiscretisation\n",
    "expo = 1.0"
   ]
  },
  {
   "cell_type": "code",
   "execution_count": 34,
   "id": "a68b9380-2631-4974-ae9c-95107e490081",
   "metadata": {
    "tags": []
   },
   "outputs": [
    {
     "name": "stdout",
     "output_type": "stream",
     "text": [
      "\u001b[1m\u001b[38;2;0;128;0mDirectory  res/allIntensities-sampleSize100-radiusDiscretisation-50-N-250/  Created \u001b[0m\n"
     ]
    }
   ],
   "source": [
    "DataPath = 'res/TIF-signedDist_sampleSize100/'\n",
    "path_results = 'res/' \\\n",
    "    'allIntensities-sampleSize100-' + \\\n",
    "    'radiusDiscretisation-' + \\\n",
    "    str(radiusDiscretisation) + '-N-' + str(N) + '/'\n",
    "\n",
    "pathExists(path_results)"
   ]
  },
  {
   "cell_type": "code",
   "execution_count": 35,
   "id": "f6dffdb7-b864-44b7-8216-fc1c60406c73",
   "metadata": {
    "tags": []
   },
   "outputs": [
    {
     "name": "stdout",
     "output_type": "stream",
     "text": [
      "69 limbs!! \n",
      "\n"
     ]
    }
   ],
   "source": [
    "limbs = [2490, 2500, 2510, 2540, 2570, 2571, 2573, 2574, 2590, 2600, 2601, 2610, 2620, 2631, 2640, 2642, 2650, 2651, 2652, 2653, 2654, 2655, 2660,\n",
    "         2662, 2663, 2671, 2681, 2682, 2690, 2700, 2701, 2703, 2704, 2710, 2711, 2712, 2714, 2720, 2721, 2722, 2731, 2732, 2740, 2741, 2742, 2745,\n",
    "         2746, 2750, 2751, 2752, 2754, 2755, 2760, 2761, 2762, 2771, 2772, 2780, 2790, 2831, 2840, 2850, 2870, 2880, 2881, 2882, 2890, 2901, 2902]\n",
    "t = [249, 250, 251, 254, 257, 257, 257, 257, 259, 260, 260, 261, 262, 263, 264, 264, 265, 265, 265, 265, 265, 265, 266, 266, 266, 267,\n",
    "     268, 268, 269, 270, 270, 270, 270, 271, 271, 271, 271, 272, 272, 272, 273, 273, 274, 274, 274, 274, 274, 275, 275, 275, 275, 275, 276, 276, 276,\n",
    "     277, 277, 278, 279, 283, 284, 285, 287, 288, 288, 288, 289, 290, 290]\n",
    "\n",
    "Treal = np.arange(t[0], t[-1]+1, dtype=int)\n",
    "newTotLimbs = len(Treal)\n",
    "\n",
    "totlimbs = len(limbs)\n",
    "print(totlimbs, 'limbs!! \\n')\n"
   ]
  },
  {
   "cell_type": "code",
   "execution_count": 42,
   "id": "502e4ae9-0e4d-4550-8f88-d70ac4a2f40e",
   "metadata": {
    "tags": []
   },
   "outputs": [
    {
     "data": {
      "text/plain": [
       "array([249, 250, 251, 252, 253, 254, 255, 256, 257, 258, 259, 260, 261,\n",
       "       262, 263, 264, 265, 266, 267, 268, 269, 270, 271, 272, 273, 274,\n",
       "       275, 276, 277, 278, 279, 280, 281, 282, 283, 284, 285, 286, 287,\n",
       "       288, 289, 290])"
      ]
     },
     "execution_count": 42,
     "metadata": {},
     "output_type": "execute_result"
    }
   ],
   "source": [
    "Treal"
   ]
  },
  {
   "cell_type": "code",
   "execution_count": 44,
   "id": "4daa41f6-32d2-4b8e-a59f-8efcd4a880a1",
   "metadata": {
    "tags": []
   },
   "outputs": [],
   "source": [
    "limbs = load(DataPath + '*.vti')"
   ]
  },
  {
   "cell_type": "code",
   "execution_count": 45,
   "id": "4a018349-94dc-49b1-8443-020f103b8191",
   "metadata": {
    "tags": []
   },
   "outputs": [
    {
     "data": {
      "text/plain": [
       "'ReferenceShape_249_249.vti'"
      ]
     },
     "execution_count": 45,
     "metadata": {},
     "output_type": "execute_result"
    }
   ],
   "source": [
    "j = 0\n",
    "#DataPath + 'ReferenceShape_' + str(limbs[j])[0:-1] + '_' + str(limbs[j])[-1] + '.vti'\n",
    "time = limbs[j].filename.split('.')[0].split('/')[-1].split('_')[1]\n",
    "'ReferenceShape_' + time + '_' + \\\n",
    "            limbs[j].filename.split('.')[0].split(\n",
    "                '/')[-1].split('_')[-1] + '.vti'"
   ]
  },
  {
   "cell_type": "code",
   "execution_count": 46,
   "id": "f1c2dc7d-b255-48eb-a72b-fecaa88201fa",
   "metadata": {
    "tags": []
   },
   "outputs": [
    {
     "data": {
      "text/plain": [
       "'249'"
      ]
     },
     "execution_count": 46,
     "metadata": {},
     "output_type": "execute_result"
    }
   ],
   "source": [
    "time"
   ]
  },
  {
   "cell_type": "code",
   "execution_count": 41,
   "id": "1a9a9e73-f6f0-429c-b687-c2528b4ac4c2",
   "metadata": {
    "tags": []
   },
   "outputs": [
    {
     "data": {
      "text/plain": [
       "'0'"
      ]
     },
     "execution_count": 41,
     "metadata": {},
     "output_type": "execute_result"
    }
   ],
   "source": [
    "str(limbs[j])[-1]"
   ]
  },
  {
   "cell_type": "code",
   "execution_count": 49,
   "id": "89b0636f-f3eb-4323-84d8-076c94a7557f",
   "metadata": {
    "tags": []
   },
   "outputs": [
    {
     "data": {
      "text/plain": [
       "'249'"
      ]
     },
     "execution_count": 49,
     "metadata": {},
     "output_type": "execute_result"
    }
   ],
   "source": [
    "limbs[j].filename.split('.')[0].split('/')[-1].split('_')[-1]\n",
    "time"
   ]
  },
  {
   "cell_type": "code",
   "execution_count": 50,
   "id": "556625ac-7d5f-4c8f-92ff-99481e89d4bd",
   "metadata": {
    "tags": []
   },
   "outputs": [
    {
     "name": "stdout",
     "output_type": "stream",
     "text": [
      "\u001b[1m\u001b[32;1mallIntensities allIntensities_ReferenceShape_249_249 saved!\u001b[0m\n",
      "\u001b[0m\u001b[38;2;69;239;239m \u001b[2m─────────────────────── 1% \u001b[1m\u001b[32;1mallIntensities allIntensities_ReferenceShape_250_250 saved!\u001b[0m\n",
      "\u001b[0m\u001b[38;2;69;239;239m \u001b[2m────────────────────── 3% ETA: 18m40s (0.1 it/s) \u001b[1m\u001b[32;1mallIntensities allIntensities_ReferenceShape_251_251 saved!\u001b[0m\n",
      "\u001b[0m\u001b[38;2;69;239;239m \u001b[2m────────────────────── 4%                       ETA: 18m31s (0.1 it/s) \u001b[1m\u001b[32;1mallIntensities allIntensities_ReferenceShape_254_254 saved!\u001b[0m\n",
      "\u001b[0m\u001b[38;2;69;239;239m \u001b[2m────────────────────── 6%                       ETA: 18m15s (0.1 it/s) \u001b[1m\u001b[32;1mallIntensities allIntensities_ReferenceShape_257_1 saved!\u001b[0m\n",
      "\u001b[0m\u001b[38;2;69;239;239m ━\u001b[2m───────────────────── 7%                       ETA: 17m59s (0.1 it/s) \u001b[1m\u001b[32;1mallIntensities allIntensities_ReferenceShape_257_257 saved!\u001b[0m\n",
      "\u001b[0m\u001b[38;2;69;239;239m ━\u001b[2m───────────────────── 9%                       ETA: 17m44s (0.1 it/s) \u001b[1m\u001b[32;1mallIntensities allIntensities_ReferenceShape_257_3 saved!\u001b[0m\n",
      "\u001b[0m\u001b[38;2;69;239;239m ━\u001b[2m───────────────────── 10%                       ETA: 17m28s (0.1 it/s) \u001b[1m\u001b[32;1mallIntensities allIntensities_ReferenceShape_257_4 saved!\u001b[0m\n",
      "\u001b[0m\u001b[38;2;69;239;239m ━━\u001b[2m──────────────────── 12%                       ETA: 17m14s (0.1 it/s) \u001b[1m\u001b[32;1mallIntensities allIntensities_ReferenceShape_259_259 saved!\u001b[0m\n",
      "\u001b[0m\u001b[38;2;69;239;239m ━━\u001b[2m──────────────────── 13%                       ETA: 16m59s (0.1 it/s) \u001b[1m\u001b[32;1mallIntensities allIntensities_ReferenceShape_260_1 saved!\u001b[0m\n",
      "\u001b[0m\u001b[38;2;69;239;239m ━━\u001b[2m──────────────────── 14%                       ETA: 16m45s (0.1 it/s) \u001b[1m\u001b[32;1mallIntensities allIntensities_ReferenceShape_260_260 saved!\u001b[0m\n",
      "\u001b[0m\u001b[38;2;69;239;239m ━━━\u001b[2m─────────────────── 16%                       ETA: 16m30s (0.1 it/s) \u001b[1m\u001b[32;1mallIntensities allIntensities_ReferenceShape_261_261 saved!\u001b[0m\n",
      "\u001b[0m\u001b[38;2;69;239;239m ━━━\u001b[2m─────────────────── 17%                       ETA: 16m16s (0.1 it/s) \u001b[1m\u001b[32;1mallIntensities allIntensities_ReferenceShape_262_262 saved!\u001b[0m\n",
      "\u001b[0m\u001b[38;2;69;239;239m ━━━\u001b[2m─────────────────── 19%                       ETA: 16m1s (0.1 it/s) \u001b[1m\u001b[32;1mallIntensities allIntensities_ReferenceShape_263_1 saved!\u001b[0m\n",
      "\u001b[0m\u001b[38;2;69;239;239m ━━━━\u001b[2m────────────────── 20%                     ETA: 15m47s (0.1 it/s) \u001b[1m\u001b[32;1mallIntensities allIntensities_ReferenceShape_264_2 saved!\u001b[0m\n",
      "\u001b[0m\u001b[38;2;69;239;239m ━━━━\u001b[2m────────────────── 22%                       ETA: 15m32s (0.1 it/s) \u001b[1m\u001b[32;1mallIntensities allIntensities_ReferenceShape_264_264 saved!\u001b[0m\n",
      "\u001b[0m\u001b[38;2;69;239;239m ━━━━\u001b[2m────────────────── 23%                       ETA: 15m18s (0.1 it/s) \u001b[1m\u001b[32;1mallIntensities allIntensities_ReferenceShape_265_1 saved!\u001b[0m\n",
      "\u001b[0m\u001b[38;2;69;239;239m ━━━━━\u001b[2m───────────────── 25%                       ETA: 15m3s (0.1 it/s) \u001b[1m\u001b[32;1mallIntensities allIntensities_ReferenceShape_265_2 saved!\u001b[0m\n",
      "\u001b[0m\u001b[38;2;69;239;239m ━━━━━\u001b[2m───────────────── 26%                     ETA: 14m48s (0.1 it/s) \u001b[1m\u001b[32;1mallIntensities allIntensities_ReferenceShape_265_265 saved!\u001b[0m\n",
      "\u001b[0m\u001b[38;2;69;239;239m ━━━━━\u001b[2m───────────────── 28%                       ETA: 14m33s (0.1 it/s) \u001b[1m\u001b[32;1mallIntensities allIntensities_ReferenceShape_265_3 saved!\u001b[0m\n",
      "\u001b[0m\u001b[38;2;69;239;239m ━━━━━━\u001b[2m──────────────── 29%                       ETA: 14m18s (0.1 it/s) \u001b[1m\u001b[32;1mallIntensities allIntensities_ReferenceShape_265_4 saved!\u001b[0m\n",
      "\u001b[0m\u001b[38;2;69;239;239m ━━━━━━\u001b[2m──────────────── 30%                       ETA: 14m3s (0.1 it/s) \u001b[1m\u001b[32;1mallIntensities allIntensities_ReferenceShape_265_5 saved!\u001b[0m\n",
      "\u001b[0m\u001b[38;2;69;239;239m ━━━━━━\u001b[2m──────────────── 32%                     ETA: 13m48s (0.1 it/s) \u001b[1m\u001b[32;1mallIntensities allIntensities_ReferenceShape_266_2 saved!\u001b[0m\n",
      "\u001b[0m\u001b[38;2;69;239;239m ━━━━━━━\u001b[2m─────────────── 33%                       ETA: 13m32s (0.1 it/s) \u001b[1m\u001b[32;1mallIntensities allIntensities_ReferenceShape_266_266 saved!\u001b[0m\n",
      "\u001b[0m\u001b[38;2;69;239;239m ━━━━━━━\u001b[2m─────────────── 35%                       ETA: 13m17s (0.1 it/s) \u001b[1m\u001b[32;1mallIntensities allIntensities_ReferenceShape_266_3 saved!\u001b[0m\n",
      "\u001b[0m\u001b[38;2;69;239;239m ━━━━━━━\u001b[2m─────────────── 36%                       ETA: 13m3s (0.1 it/s) \u001b[1m\u001b[32;1mallIntensities allIntensities_ReferenceShape_267_1 saved!\u001b[0m\n",
      "\u001b[0m\u001b[38;2;69;239;239m ━━━━━━━━\u001b[2m────────────── 38%                     ETA: 12m49s (0.1 it/s) \u001b[1m\u001b[32;1mallIntensities allIntensities_ReferenceShape_268_1 saved!\u001b[0m\n",
      "\u001b[0m\u001b[38;2;69;239;239m ━━━━━━━━\u001b[2m────────────── 39%                       ETA: 12m34s (0.1 it/s) \u001b[1m\u001b[32;1mallIntensities allIntensities_ReferenceShape_268_2 saved!\u001b[0m\n",
      "\u001b[0m\u001b[38;2;69;239;239m ━━━━━━━━\u001b[2m────────────── 41%                       ETA: 12m19s (0.1 it/s) \u001b[1m\u001b[32;1mallIntensities allIntensities_ReferenceShape_269_269 saved!\u001b[0m\n",
      "\u001b[0m\u001b[38;2;69;239;239m ━━━━━━━━━\u001b[2m───────────── 42%                       ETA: 12m3s (0.1 it/s) \u001b[1m\u001b[32;1mallIntensities allIntensities_ReferenceShape_270_1 saved!\u001b[0m\n",
      "\u001b[0m\u001b[38;2;69;239;239m ━━━━━━━━━\u001b[2m───────────── 43%                     ETA: 12m9s (0.1 it/s) \u001b[1m\u001b[32;1mallIntensities allIntensities_ReferenceShape_270_270 saved!\u001b[0m\n",
      "\u001b[0m\u001b[38;2;69;239;239m ━━━━━━━━━\u001b[2m───────────── 45%                     ETA: 11m53s (0.1 it/s) \u001b[1m\u001b[32;1mallIntensities allIntensities_ReferenceShape_270_3 saved!\u001b[0m\n",
      "\u001b[0m\u001b[38;2;69;239;239m ━━━━━━━━━━\u001b[2m──────────── 46%                       ETA: 11m37s (0.1 it/s) \u001b[1m\u001b[32;1mallIntensities allIntensities_ReferenceShape_270_4 saved!\u001b[0m\n",
      "\u001b[0m\u001b[38;2;69;239;239m ━━━━━━━━━━\u001b[2m──────────── 48%                       ETA: 11m21s (0.1 it/s) \u001b[1m\u001b[32;1mallIntensities allIntensities_ReferenceShape_271_1 saved!\u001b[0m\n",
      "\u001b[0m\u001b[38;2;69;239;239m ━━━━━━━━━━\u001b[2m──────────── 49%                       ETA: 11m8s (0.1 it/s) \u001b[1m\u001b[32;1mallIntensities allIntensities_ReferenceShape_271_2 saved!\u001b[0m\n",
      "\u001b[0m\u001b[38;2;69;239;239m ━━━━━━━━━━━\u001b[2m─────────── 51%                     ETA: 10m52s (0.1 it/s) \u001b[1m\u001b[32;1mallIntensities allIntensities_ReferenceShape_271_271 saved!\u001b[0m\n",
      "\u001b[0m\u001b[38;2;69;239;239m ━━━━━━━━━━━\u001b[2m─────────── 52%                       ETA: 10m36s (0.1 it/s) \u001b[1m\u001b[32;1mallIntensities allIntensities_ReferenceShape_271_4 saved!\u001b[0m\n",
      "\u001b[0m\u001b[38;2;69;239;239m ━━━━━━━━━━━\u001b[2m─────────── 54%                       ETA: 10m20s (0.1 it/s) \u001b[1m\u001b[32;1mallIntensities allIntensities_ReferenceShape_272_1 saved!\u001b[0m\n",
      "\u001b[0m\u001b[38;2;69;239;239m ━━━━━━━━━━━━\u001b[2m────────── 55%                       ETA: 10m3s (0.1 it/s) \u001b[1m\u001b[32;1mallIntensities allIntensities_ReferenceShape_272_2 saved!\u001b[0m\n",
      "\u001b[0m\u001b[38;2;69;239;239m ━━━━━━━━━━━━\u001b[2m────────── 57%                     ETA: 9m49s (0.1 it/s) \u001b[1m\u001b[32;1mallIntensities allIntensities_ReferenceShape_272_272 saved!\u001b[0m\n",
      "\u001b[0m\u001b[38;2;69;239;239m ━━━━━━━━━━━━\u001b[2m────────── 58%                     ETA: 9m34s (0.1 it/s) \u001b[1m\u001b[32;1mallIntensities allIntensities_ReferenceShape_273_1 saved!\u001b[0m\n",
      "\u001b[0m\u001b[38;2;69;239;239m ━━━━━━━━━━━━━\u001b[2m───────── 59%                     ETA: 9m32s (0.0 it/s) \u001b[1m\u001b[32;1mallIntensities allIntensities_ReferenceShape_273_2 saved!\u001b[0m\n",
      "\u001b[0m\u001b[38;2;69;239;239m ━━━━━━━━━━━━━\u001b[2m───────── 61%                     ETA: 9m29s (0.0 it/s) \u001b[1m\u001b[32;1mallIntensities allIntensities_ReferenceShape_274_1 saved!\u001b[0m\n",
      "\u001b[0m\u001b[38;2;69;239;239m ━━━━━━━━━━━━━\u001b[2m───────── 62%                     ETA: 9m26s (0.0 it/s) \u001b[1m\u001b[32;1mallIntensities allIntensities_ReferenceShape_274_2 saved!\u001b[0m\n",
      "\u001b[0m\u001b[38;2;69;239;239m ━━━━━━━━━━━━━━\u001b[2m──────── 64%                     ETA: 9m21s (0.0 it/s) \u001b[1m\u001b[32;1mallIntensities allIntensities_ReferenceShape_274_274 saved!\u001b[0m\n",
      "\u001b[0m\u001b[38;2;69;239;239m ━━━━━━━━━━━━━━\u001b[2m──────── 65%                     ETA: 9m14s (0.0 it/s) \u001b[1m\u001b[32;1mallIntensities allIntensities_ReferenceShape_274_5 saved!\u001b[0m\n",
      "\u001b[0m\u001b[38;2;69;239;239m ━━━━━━━━━━━━━━\u001b[2m──────── 67%                     ETA: 9m5s (0.0 it/s) \u001b[1m\u001b[32;1mallIntensities allIntensities_ReferenceShape_274_6 saved!\u001b[0m\n",
      "\u001b[0m\u001b[38;2;69;239;239m ━━━━━━━━━━━━━━━\u001b[2m─────── 68%                     ETA: 8m55s (0.0 it/s) \u001b[1m\u001b[32;1mallIntensities allIntensities_ReferenceShape_275_1 saved!\u001b[0m\n",
      "\u001b[0m\u001b[38;2;69;239;239m ━━━━━━━━━━━━━━━\u001b[2m─────── 70%                     ETA: 8m44s (0.0 it/s) \u001b[1m\u001b[32;1mallIntensities allIntensities_ReferenceShape_275_2 saved!\u001b[0m\n",
      "\u001b[0m\u001b[38;2;69;239;239m ━━━━━━━━━━━━━━━\u001b[2m─────── 71%                     ETA: 8m31s (0.0 it/s) \u001b[1m\u001b[32;1mallIntensities allIntensities_ReferenceShape_275_275 saved!\u001b[0m\n",
      "\u001b[0m\u001b[38;2;69;239;239m ━━━━━━━━━━━━━━━━\u001b[2m────── 72%                     ETA: 8m17s (0.0 it/s) \u001b[1m\u001b[32;1mallIntensities allIntensities_ReferenceShape_275_4 saved!\u001b[0m\n",
      "\u001b[0m\u001b[38;2;69;239;239m ━━━━━━━━━━━━━━━━\u001b[2m────── 74%                     ETA: 8m2s (0.0 it/s) \u001b[1m\u001b[32;1mallIntensities allIntensities_ReferenceShape_275_5 saved!\u001b[0m\n",
      "\u001b[0m\u001b[38;2;69;239;239m ━━━━━━━━━━━━━━━━\u001b[2m────── 75%                     ETA: 7m45s (0.0 it/s) \u001b[1m\u001b[32;1mallIntensities allIntensities_ReferenceShape_276_1 saved!\u001b[0m\n",
      "\u001b[0m\u001b[38;2;69;239;239m ━━━━━━━━━━━━━━━━━\u001b[2m───── 77%                     ETA: 7m27s (0.0 it/s) \u001b[1m\u001b[32;1mallIntensities allIntensities_ReferenceShape_276_2 saved!\u001b[0m\n",
      "\u001b[0m\u001b[38;2;69;239;239m ━━━━━━━━━━━━━━━━━\u001b[2m───── 78%                     ETA: 7m7s (0.0 it/s) \u001b[1m\u001b[32;1mallIntensities allIntensities_ReferenceShape_276_276 saved!\u001b[0m\n",
      "\u001b[0m\u001b[38;2;69;239;239m ━━━━━━━━━━━━━━━━━\u001b[2m───── 80%                     ETA: 6m47s (0.0 it/s) \u001b[1m\u001b[32;1mallIntensities allIntensities_ReferenceShape_277_1 saved!\u001b[0m\n",
      "\u001b[0m\u001b[38;2;69;239;239m ━━━━━━━━━━━━━━━━━━\u001b[2m──── 81%                     ETA: 6m25s (0.0 it/s) \u001b[1m\u001b[32;1mallIntensities allIntensities_ReferenceShape_277_2 saved!\u001b[0m\n",
      "\u001b[0m\u001b[38;2;69;239;239m ━━━━━━━━━━━━━━━━━━\u001b[2m──── 83%                     ETA: 6m2s (0.0 it/s) \u001b[1m\u001b[32;1mallIntensities allIntensities_ReferenceShape_278_278 saved!\u001b[0m\n",
      "\u001b[0m\u001b[38;2;69;239;239m ━━━━━━━━━━━━━━━━━━\u001b[2m──── 84%                     ETA: 5m38s (0.0 it/s) \u001b[1m\u001b[32;1mallIntensities allIntensities_ReferenceShape_279_279 saved!\u001b[0m\n",
      "\u001b[0m\u001b[38;2;69;239;239m ━━━━━━━━━━━━━━━━━━━\u001b[2m─── 86%                     ETA: 5m13s (0.0 it/s) \u001b[1m\u001b[32;1mallIntensities allIntensities_ReferenceShape_283_1 saved!\u001b[0m\n",
      "\u001b[0m\u001b[38;2;69;239;239m ━━━━━━━━━━━━━━━━━━━\u001b[2m─── 87%                     ETA: 4m46s (0.0 it/s) \u001b[1m\u001b[32;1mallIntensities allIntensities_ReferenceShape_284_284 saved!\u001b[0m\n",
      "\u001b[0m\u001b[38;2;69;239;239m ━━━━━━━━━━━━━━━━━━━\u001b[2m─── 88%                     ETA: 4m19s (0.0 it/s) \u001b[1m\u001b[32;1mallIntensities allIntensities_ReferenceShape_285_285 saved!\u001b[0m\n",
      "\u001b[0m\u001b[38;2;69;239;239m ━━━━━━━━━━━━━━━━━━━━\u001b[2m── 90%                     ETA: 3m50s (0.0 it/s) \u001b[1m\u001b[32;1mallIntensities allIntensities_ReferenceShape_287_287 saved!\u001b[0m\n",
      "\u001b[0m\u001b[38;2;69;239;239m ━━━━━━━━━━━━━━━━━━━━\u001b[2m── 91%                     ETA: 3m20s (0.0 it/s) \u001b[1m\u001b[32;1mallIntensities allIntensities_ReferenceShape_288_1 saved!\u001b[0m\n",
      "\u001b[0m\u001b[38;2;69;239;239m ━━━━━━━━━━━━━━━━━━━━\u001b[2m── 93%                     ETA: 2m50s (0.0 it/s) \u001b[1m\u001b[32;1mallIntensities allIntensities_ReferenceShape_288_2 saved!\u001b[0m\n",
      "\u001b[0m\u001b[38;2;69;239;239m ━━━━━━━━━━━━━━━━━━━━━\u001b[2m─ 94%                     ETA: 2m18s (0.0 it/s) \u001b[1m\u001b[32;1mallIntensities allIntensities_ReferenceShape_288_288 saved!\u001b[0m\n",
      "\u001b[0m\u001b[38;2;69;239;239m ━━━━━━━━━━━━━━━━━━━━━\u001b[2m─ 96%                     ETA: 1m45s (0.0 it/s) \u001b[1m\u001b[32;1mallIntensities allIntensities_ReferenceShape_289_289 saved!\u001b[0m\n",
      "\u001b[0m\u001b[38;2;69;239;239m ━━━━━━━━━━━━━━━━━━━━━\u001b[2m─ 97%                     ETA: 1m11s (0.0 it/s) \u001b[1m\u001b[32;1mallIntensities allIntensities_ReferenceShape_290_1 saved!\u001b[0m\n",
      "\u001b[0m\u001b[38;2;69;239;239m ━━━━━━━━━━━━━━━━━━━━━━\u001b[2m 99%                     ETA: 36s (0.0 it/s) \u001b[1m\u001b[32;1mallIntensities allIntensities_ReferenceShape_290_2 saved!\u001b[0m\n",
      "\u001b[0m\u001b[38;2;69;239;239m ━━━━━━━━━━━━━━━━━━━━━━\u001b[2m                   elapsed: 42m34s (0.0 it/s)        \n"
     ]
    }
   ],
   "source": [
    "pb = ProgressBar(0, totlimbs, c=5)\n",
    "for j in pb.range():\n",
    "\n",
    "    ##############################################\n",
    "    # loading files\n",
    "    time = limbs[j].filename.split('.')[0].split('/')[-1].split('_')[1]\n",
    "    \n",
    "    \n",
    "    vol = load(DataPath + 'ReferenceShape_' + time + '_' + limbs[j].filename.split('.')[0].split('/')[-1].split('_')[-1] + '.vti')\n",
    "    \n",
    "    ##############################################\n",
    "    # computing voxel intensities\n",
    "    allIntensities = voxelIntensity(vol, expo, N, radiusDiscretisation)\n",
    "\n",
    "    name = 'allIntensities_' + 'ReferenceShape_' + time + '_' + limbs[j].filename.split('.')[0].split('/')[-1].split('_')[-1]\n",
    "    \n",
    "    np.save(path_results + name, allIntensities)\n",
    "    printc('allIntensities', name, 'saved!', c='g')\n",
    "\n",
    "    allIntensitiesShape = allIntensities.shape\n",
    "    np.save(path_results + 'allIntensitiesShape', allIntensitiesShape)\n",
    "\n",
    "    pb.print()\n",
    "    "
   ]
  },
  {
   "cell_type": "code",
   "execution_count": null,
   "id": "0ce17311-344a-48f7-9526-e41a3930ce74",
   "metadata": {},
   "outputs": [],
   "source": []
  },
  {
   "cell_type": "code",
   "execution_count": null,
   "id": "ee6afb54-44e7-4dbc-a551-ebc83495cad3",
   "metadata": {},
   "outputs": [],
   "source": []
  },
  {
   "cell_type": "code",
   "execution_count": null,
   "id": "9a90d01d-5154-4cd0-9909-a04308af6e5e",
   "metadata": {},
   "outputs": [],
   "source": [
    "#### run the computaeAllINtensities.py with heart volumetric data\n",
    "input_path = '/Users/jingkui.wang/workspace/imp/image_analysis/S-BIAD441/hearts/'\n",
    "output_path = \"/Users/jingkui.wang/workspace/imp/image_analysis/S-BIAD441/hearts/output/reconstructed_shapes/\"\n",
    "intensity_path = \"/Users/jingkui.wang/workspace/imp/image_analysis/S-BIAD441/hearts/output/voxel_intensities/\"\n",
    "os.makedirs(output_path, exist_ok=True)\n",
    "os.makedirs(intensity_path, exist_ok=True)"
   ]
  },
  {
   "cell_type": "code",
   "execution_count": null,
   "id": "a24b0c2f-56f0-40ce-8c28-b39878f5c161",
   "metadata": {},
   "outputs": [],
   "source": [
    "volume_files = [f for f in os.listdir(input_path) if f.endswith('.vti')]"
   ]
  },
  {
   "cell_type": "code",
   "execution_count": null,
   "id": "daba4bd7-4cd9-4748-82da-61ec5573494c",
   "metadata": {},
   "outputs": [],
   "source": [
    "len(volume_files)"
   ]
  },
  {
   "cell_type": "code",
   "execution_count": null,
   "id": "f63cbc5a-2aab-4572-ad84-403c67173c7b",
   "metadata": {},
   "outputs": [],
   "source": [
    "vol_file = os.path.join(input_path, volume_files[20])\n",
    "vol = load(vol_file)\n",
    "vol\n",
    "allIntensities = voxelIntensity(vol, expo, N, radiusDiscretisation)\n",
    "allIntensities\n",
    "allIntensities[:1]\n",
    "# Forward Transformations (Splines and SPHARM)\n",
    "Clm = forwardTransformation(allIntensities, N, lmax = 20)\n",
    "Clm.shape\n",
    "allIntensities.shape\n",
    "coeff = allIntensities\n",
    "lmax = 20\n",
    "# SPHARNM\n",
    "allClm = np.zeros((allIntensities.shape[1], 2, lmax, lmax))\n",
    "allClm.shape\n",
    "range(allClm.shape[0])\n",
    "formattedcoeff = np.reshape(coeff[:, 1], (N, N))\n",
    "formattedcoeff.shape\n",
    "SH = pyshtools.SHGrid.from_array(formattedcoeff)\n",
    "SH\n",
    "#xx = pyshtools.expand.SHExpandDH(formattedcoeff, sampling=2)\n",
    "clm = SH.expand()\n",
    "clm\n",
    "clm.plot_spectrum(show=False)\n",
    "\n",
    "#power_per_l = pyshtools.spectralanalysis.spectrum(clm)\n",
    "#degrees = np.arange(SH.shape[1])\n",
    "\n",
    "fig, ax = plt.subplots(1, 1)\n",
    "ax.plot(degrees, power_per_l)\n",
    "ax.set(yscale='log', xscale='log', xlabel='Spherical harmonic degree', ylabel='Power')\n",
    "ax.grid()\n"
   ]
  },
  {
   "cell_type": "code",
   "execution_count": null,
   "id": "0b18a27d-d7b3-4283-acf3-287b65127360",
   "metadata": {},
   "outputs": [],
   "source": [
    "volume_files = [f for f in os.listdir(input_path) if f.endswith('.vti')]\n",
    "len(volume_files)\n",
    "\n",
    "totVols = len(volume_files)\n",
    "pb = ProgressBar(0, totVols, c=5)\n",
    "pb.range()\n",
    "\n",
    "for j in pb.range():\n",
    "\n",
    "    ##############################################\n",
    "    # loading files\n",
    "    volume_file = volume_files[j]\n",
    "    vol_file = os.path.join(input_path, vol_file)\n",
    "    vol = load(vol_file)\n",
    "    ##############################################\n",
    "    # computing voxel intensities\n",
    "    allIntensities = voxelIntensity(vol, expo, N, radiusDiscretisation)\n",
    "\n",
    "    allIntensitiesShape = allIntensities.shape\n",
    "    \n",
    "    name = f\"intensities_{os.path.splitext(volume_file)[0]}.npy\"\n",
    "    np.save(os.path.join(intensity_path, name), allIntensities)\n",
    "    print(f\"Voxel intensities saved: {name}\")\n",
    "\n",
    "    shape_file = f\"shape_{os.path.splitext(volume_file)[0]}.npy\"\n",
    "    np.save(os.path.join(intensity_path, shape_file), allIntensities.shape)\n",
    "    print(f\"Voxel intensity shape saved: {shape_file}\")\n",
    "        \n",
    "    pb.print()\n",
    "    \n",
    "    "
   ]
  },
  {
   "cell_type": "code",
   "execution_count": null,
   "id": "c51f6c7d-634a-4b8a-8a90-1a02099b2e48",
   "metadata": {},
   "outputs": [],
   "source": []
  },
  {
   "cell_type": "code",
   "execution_count": null,
   "id": "dcd2de07-abb7-4c17-804a-21af57d904e8",
   "metadata": {},
   "outputs": [],
   "source": []
  },
  {
   "cell_type": "code",
   "execution_count": 51,
   "id": "5dd0db1b-afaf-4b90-a829-201b77341aa0",
   "metadata": {
    "tags": []
   },
   "outputs": [
    {
     "data": {
      "text/plain": [
       "'Convert a vtk mesh from the limb-data files into voxel data.'"
      ]
     },
     "execution_count": 51,
     "metadata": {},
     "output_type": "execute_result"
    }
   ],
   "source": [
    "###########################################################################\n",
    "## STEP 4: \n",
    "## python morphing.py\n",
    "## for limbs+flank\n",
    "###########################################################################\n",
    "\"\"\"Convert a vtk mesh from the limb-data files into voxel data.\"\"\""
   ]
  },
  {
   "cell_type": "code",
   "execution_count": 52,
   "id": "e5b99820-eecc-4b2e-b7e5-56e8c3f57518",
   "metadata": {
    "tags": []
   },
   "outputs": [],
   "source": [
    "import numpy as np\n",
    "from vedo import printc, ProgressBar, load, Points, write, interpolateToVolume\n",
    "#from utils import pathExists, forwardTransformation, samplePoints, inverseTransformations\n"
   ]
  },
  {
   "cell_type": "code",
   "execution_count": 88,
   "id": "75bdf53b-2334-46b3-8c21-27b526191e28",
   "metadata": {
    "tags": []
   },
   "outputs": [
    {
     "name": "stdout",
     "output_type": "stream",
     "text": [
      "\u001b[1m\u001b[38;2;0;128;0m\n",
      " sampleSize 100 - radiusDiscretisation 50 - N 250 - lmax 50\u001b[0m\n"
     ]
    }
   ],
   "source": [
    "# PARAMETERS\n",
    "sampleSize = 100\n",
    "radiusDiscretisation = 50\n",
    "N = 250\n",
    "lmax = 50\n",
    "expo = 1.0\n",
    "deg_fit = 6\n",
    "\n",
    "printc('\\n sampleSize', sampleSize, '- radiusDiscretisation',\n",
    "       radiusDiscretisation, '- N', N, '- lmax', lmax,\n",
    "       c='green')"
   ]
  },
  {
   "cell_type": "code",
   "execution_count": 89,
   "id": "f425aa7b-2719-4e73-a006-e564e831b43c",
   "metadata": {
    "tags": []
   },
   "outputs": [
    {
     "name": "stdout",
     "output_type": "stream",
     "text": [
      "\u001b[1m\u001b[38;2;255;0;0mDirectory  res//CLM/morphing_sampleSize100-radDisc50-N250-degFit6-lmax50/  already exists\u001b[0m\n"
     ]
    },
    {
     "name": "stdin",
     "output_type": "stream",
     "text": [
      "Should I delete the folder and create a new one [Y/N]?  Y\n"
     ]
    },
    {
     "name": "stdout",
     "output_type": "stream",
     "text": [
      "\u001b[1m\u001b[38;2;0;128;0mDirectory  res//CLM/morphing_sampleSize100-radDisc50-N250-degFit6-lmax50/  Created \u001b[0m\n",
      "\u001b[1m\u001b[38;2;255;0;0mDirectory  res/morphing_sampleSize100-radDisc50-N250-degFit6-lmax50/  already exists\u001b[0m\n"
     ]
    },
    {
     "name": "stdin",
     "output_type": "stream",
     "text": [
      "Should I delete the folder and create a new one [Y/N]?  Y\n"
     ]
    },
    {
     "name": "stdout",
     "output_type": "stream",
     "text": [
      "\u001b[1m\u001b[38;2;0;128;0mDirectory  res/morphing_sampleSize100-radDisc50-N250-degFit6-lmax50/  Created \u001b[0m\n"
     ]
    }
   ],
   "source": [
    "path = 'res/' \\\n",
    "    'allIntensities-sampleSize100-' + \\\n",
    "    'radiusDiscretisation-' + \\\n",
    "    str(radiusDiscretisation) + '-N-' + str(N) + '/'\n",
    "path_resultsCLM = 'res/' \\\n",
    "    '/CLM/'\\\n",
    "    'morphing_sampleSize' + str(sampleSize) + \\\n",
    "    '-radDisc' + str(radiusDiscretisation) + '-N' + str(N) + '-degFit' + \\\n",
    "    str(deg_fit) + '-lmax'+str(lmax) + '/'\n",
    "path_results = 'res/' \\\n",
    "    'morphing_sampleSize' \\\n",
    "    + str(sampleSize) + \\\n",
    "    '-radDisc' + str(radiusDiscretisation) + '-N' + str(N) + '-degFit' + \\\n",
    "    str(deg_fit) + '-lmax'+str(lmax) + '/'\n",
    "\n",
    "pathExists(path_resultsCLM)\n",
    "pathExists(path_results)"
   ]
  },
  {
   "cell_type": "code",
   "execution_count": 90,
   "id": "ab8fb6c2-b361-4bd3-a8f3-10928fe0d0e5",
   "metadata": {
    "tags": []
   },
   "outputs": [
    {
     "name": "stdout",
     "output_type": "stream",
     "text": [
      "69 limbs!! \n",
      "\n"
     ]
    }
   ],
   "source": [
    "limbs = [2490, 2500, 2510, 2540, 2570, 2571, 2573, 2574, 2590, 2600, 2601, 2610, 2620, 2631, 2640, 2642, 2650, 2651, 2652, 2653, 2654, 2655, 2660,\n",
    "         2662, 2663, 2671, 2681, 2682, 2690, 2700, 2701, 2703, 2704, 2710, 2711, 2712, 2714, 2720, 2721, 2722, 2731, 2732, 2740, 2741, 2742, 2745,\n",
    "         2746, 2750, 2751, 2752, 2754, 2755, 2760, 2761, 2762, 2771, 2772, 2780, 2790, 2831, 2840, 2850, 2870, 2880, 2881, 2882, 2890, 2901, 2902]\n",
    "t = [249, 250, 251, 254, 257, 257, 257, 257, 259, 260, 260, 261, 262, 263, 264, 264, 265, 265, 265, 265, 265, 265, 266, 266, 266, 267,\n",
    "     268, 268, 269, 270, 270, 270, 270, 271, 271, 271, 271, 272, 272, 272, 273, 273, 274, 274, 274, 274, 274, 275, 275, 275, 275, 275, 276, 276, 276,\n",
    "     277, 277, 278, 279, 283, 284, 285, 287, 288, 288, 288, 289, 290, 290]\n",
    "\n",
    "Treal = np.arange(t[0], t[-1]+1, dtype=int)\n",
    "newTotLimbs = len(Treal)\n",
    "\n",
    "totlimbs = len(limbs)\n",
    "print(totlimbs, 'limbs!! \\n')\n",
    "\n",
    "\n",
    "# matrix with all Clm of all limbs\n",
    "allClmMatrix = np.zeros((totlimbs, radiusDiscretisation, 2, lmax, lmax), dtype=np.float32, order='C')"
   ]
  },
  {
   "cell_type": "code",
   "execution_count": 91,
   "id": "f4139a59-b968-400f-8a07-179a62f03abf",
   "metadata": {
    "tags": []
   },
   "outputs": [],
   "source": [
    "pb = ProgressBar(0, totlimbs, c=5)  # it should loop over totLimbs!!\n",
    "limbs = [f for f in os.listdir(path) if f.endswith('.npy')]\n",
    "limbs;"
   ]
  },
  {
   "cell_type": "code",
   "execution_count": 92,
   "id": "6c1cdb93-cc07-46bf-b787-44a48cdb5878",
   "metadata": {
    "tags": []
   },
   "outputs": [
    {
     "data": {
      "text/plain": [
       "'res/allIntensities-sampleSize100-radiusDiscretisation-50-N-250/'"
      ]
     },
     "execution_count": 92,
     "metadata": {},
     "output_type": "execute_result"
    }
   ],
   "source": [
    "path"
   ]
  },
  {
   "cell_type": "code",
   "execution_count": 93,
   "id": "6129a5ca-a12e-4d5d-a421-68565f72e046",
   "metadata": {
    "tags": []
   },
   "outputs": [
    {
     "data": {
      "text/plain": [
       "'allIntensities_ReferenceShape_277_1.npy'"
      ]
     },
     "execution_count": 93,
     "metadata": {},
     "output_type": "execute_result"
    }
   ],
   "source": [
    "limbs[0]"
   ]
  },
  {
   "cell_type": "code",
   "execution_count": 94,
   "id": "de62298f-4950-496f-9c92-6ffcfbe67607",
   "metadata": {
    "tags": []
   },
   "outputs": [
    {
     "name": "stdout",
     "output_type": "stream",
     "text": [
      "\u001b[7m\u001b[1m\n",
      " starting...\u001b[0m\n",
      "\u001b[0m\u001b[38;2;69;239;239m \u001b[2m─────────────────────── 1% Forward Transformations (splines and SPHARM) ...\u001b[1m\u001b[38;2;69;239;239m \u001b[2m────────────────────── 3%                                               ETA: 22m10s (0.1 it/s) Forward Transformations (splines and SPHARM) ...\u001b[1m\u001b[38;2;69;239;239m \u001b[2m────────────────────── 4%                                                                       ETA: 14m35s (0.1 it/s) Forward Transformations (splines and SPHARM) ...\u001b[1m\u001b[38;2;69;239;239m \u001b[2m────────────────────── 6%                                                                       ETA: 10m48s (0.1 it/s) Forward Transformations (splines and SPHARM) ...\u001b[1m\u001b[38;2;69;239;239m ━\u001b[2m───────────────────── 7%                                                                       ETA: 8m31s (0.1 it/s) Forward Transformations (splines and SPHARM) ...\u001b[1m\u001b[38;2;69;239;239m ━\u001b[2m───────────────────── 9%                                                                     ETA: 7m0s (0.1 it/s) Forward Transformations (splines and SPHARM) ...\u001b[1m\u001b[38;2;69;239;239m ━\u001b[2m───────────────────── 10%                                                                     ETA: 5m55s (0.2 it/s) Forward Transformations (splines and SPHARM) ...\u001b[1m\u001b[38;2;69;239;239m ━━\u001b[2m──────────────────── 12%                                                                     ETA: 5m6s (0.2 it/s) Forward Transformations (splines and SPHARM) ...\u001b[1m\u001b[38;2;69;239;239m ━━\u001b[2m──────────────────── 13%                                                                     ETA: 4m28s (0.2 it/s) Forward Transformations (splines and SPHARM) ...\u001b[1m\u001b[38;2;69;239;239m ━━\u001b[2m──────────────────── 14%                                                                     ETA: 3m58s (0.2 it/s) Forward Transformations (splines and SPHARM) ...\u001b[1m\u001b[38;2;69;239;239m ━━━\u001b[2m─────────────────── 16%                                                                     ETA: 3m33s (0.3 it/s) Forward Transformations (splines and SPHARM) ...\u001b[1m\u001b[38;2;69;239;239m ━━━\u001b[2m─────────────────── 17%                                                                     ETA: 3m12s (0.3 it/s) Forward Transformations (splines and SPHARM) ...\u001b[1m\u001b[38;2;69;239;239m ━━━\u001b[2m─────────────────── 19%                                                                     ETA: 2m55s (0.3 it/s) Forward Transformations (splines and SPHARM) ...\u001b[1m\u001b[38;2;69;239;239m ━━━━\u001b[2m────────────────── 20%                                                                     ETA: 2m40s (0.3 it/s) Forward Transformations (splines and SPHARM) ...\u001b[1m\u001b[38;2;69;239;239m ━━━━\u001b[2m────────────────── 22%                                                                     ETA: 2m26s (0.4 it/s) Forward Transformations (splines and SPHARM) ...\u001b[1m\u001b[38;2;69;239;239m ━━━━\u001b[2m────────────────── 23%                                                                     ETA: 2m15s (0.4 it/s) Forward Transformations (splines and SPHARM) ...\u001b[1m\u001b[38;2;69;239;239m ━━━━━\u001b[2m───────────────── 25%                                                                     ETA: 2m5s (0.4 it/s) Forward Transformations (splines and SPHARM) ...\u001b[1m\u001b[38;2;69;239;239m ━━━━━\u001b[2m───────────────── 26%                                                                     ETA: 1m56s (0.4 it/s) Forward Transformations (splines and SPHARM) ...\u001b[1m\u001b[38;2;69;239;239m ━━━━━\u001b[2m───────────────── 28%                                                                     ETA: 1m48s (0.5 it/s) Forward Transformations (splines and SPHARM) ...\u001b[1m\u001b[38;2;69;239;239m ━━━━━━\u001b[2m──────────────── 29%                                                                     ETA: 1m41s (0.5 it/s) Forward Transformations (splines and SPHARM) ...\u001b[1m\u001b[38;2;69;239;239m ━━━━━━\u001b[2m──────────────── 30%                                                                     ETA: 1m34s (0.5 it/s) Forward Transformations (splines and SPHARM) ...\u001b[1m\u001b[38;2;69;239;239m ━━━━━━\u001b[2m──────────────── 32%                                                                     ETA: 1m28s (0.5 it/s) Forward Transformations (splines and SPHARM) ...\u001b[1m\u001b[38;2;69;239;239m ━━━━━━━\u001b[2m─────────────── 33%                                                                     ETA: 1m23s (0.6 it/s) Forward Transformations (splines and SPHARM) ...\u001b[1m\u001b[38;2;69;239;239m ━━━━━━━\u001b[2m─────────────── 35%                                                                     ETA: 1m18s (0.6 it/s) Forward Transformations (splines and SPHARM) ...\u001b[1m\u001b[38;2;69;239;239m ━━━━━━━\u001b[2m─────────────── 36%                                                                     ETA: 1m13s (0.6 it/s) Forward Transformations (splines and SPHARM) ...\u001b[1m\u001b[38;2;69;239;239m ━━━━━━━━\u001b[2m────────────── 38%                                                                     ETA: 1m9s (0.6 it/s) Forward Transformations (splines and SPHARM) ...\u001b[1m\u001b[38;2;69;239;239m ━━━━━━━━\u001b[2m────────────── 39%                                                                     ETA: 1m5s (0.6 it/s) Forward Transformations (splines and SPHARM) ...\u001b[1m\u001b[38;2;69;239;239m ━━━━━━━━\u001b[2m────────────── 41%                                                                     ETA: 1m1s (0.7 it/s) Forward Transformations (splines and SPHARM) ...\u001b[1m\u001b[38;2;69;239;239m ━━━━━━━━━\u001b[2m───────────── 42%                                                                     ETA: 58s (0.7 it/s) Forward Transformations (splines and SPHARM) ...\u001b[1m\u001b[38;2;69;239;239m ━━━━━━━━━\u001b[2m───────────── 43%                                                                   ETA: 54s (0.7 it/s) Forward Transformations (splines and SPHARM) ...\u001b[1m\u001b[38;2;69;239;239m ━━━━━━━━━\u001b[2m───────────── 45%                                                                   ETA: 51s (0.7 it/s) Forward Transformations (splines and SPHARM) ...\u001b[1m\u001b[38;2;69;239;239m ━━━━━━━━━━\u001b[2m──────────── 46%                                                                   ETA: 49s (0.8 it/s) Forward Transformations (splines and SPHARM) ...\u001b[1m\u001b[38;2;69;239;239m ━━━━━━━━━━\u001b[2m──────────── 48%                                                                   ETA: 46s (0.8 it/s) Forward Transformations (splines and SPHARM) ...\u001b[1m\u001b[38;2;69;239;239m ━━━━━━━━━━\u001b[2m──────────── 49%                                                                   ETA: 43s (0.8 it/s) Forward Transformations (splines and SPHARM) ...\u001b[1m\u001b[38;2;69;239;239m ━━━━━━━━━━━\u001b[2m─────────── 51%                                                                   ETA: 41s (0.8 it/s) Forward Transformations (splines and SPHARM) ...\u001b[1m\u001b[38;2;69;239;239m ━━━━━━━━━━━\u001b[2m─────────── 52%                                                                   ETA: 39s (0.9 it/s) Forward Transformations (splines and SPHARM) ...\u001b[1m\u001b[38;2;69;239;239m ━━━━━━━━━━━\u001b[2m─────────── 54%                                                                   ETA: 37s (0.9 it/s) Forward Transformations (splines and SPHARM) ...\u001b[1m\u001b[38;2;69;239;239m ━━━━━━━━━━━━\u001b[2m────────── 55%                                                                   ETA: 35s (0.9 it/s) Forward Transformations (splines and SPHARM) ...\u001b[1m\u001b[38;2;69;239;239m ━━━━━━━━━━━━\u001b[2m────────── 57%                                                                   ETA: 33s (0.9 it/s) Forward Transformations (splines and SPHARM) ...\u001b[1m\u001b[38;2;69;239;239m ━━━━━━━━━━━━\u001b[2m────────── 58%                                                                   ETA: 31s (0.9 it/s) Forward Transformations (splines and SPHARM) ...\u001b[1m\u001b[38;2;69;239;239m ━━━━━━━━━━━━━\u001b[2m───────── 59%                                                                   ETA: 29s (1.0 it/s) Forward Transformations (splines and SPHARM) ...\u001b[1m\u001b[38;2;69;239;239m ━━━━━━━━━━━━━\u001b[2m───────── 61%                                                                   ETA: 27s (1.0 it/s) Forward Transformations (splines and SPHARM) ...\u001b[1m\u001b[38;2;69;239;239m ━━━━━━━━━━━━━\u001b[2m───────── 62%                                                                   ETA: 26s (1.0 it/s) Forward Transformations (splines and SPHARM) ...\u001b[1m\u001b[38;2;69;239;239m ━━━━━━━━━━━━━━\u001b[2m──────── 64%                                                                   ETA: 24s (1.0 it/s) Forward Transformations (splines and SPHARM) ...\u001b[1m\u001b[38;2;69;239;239m ━━━━━━━━━━━━━━\u001b[2m──────── 65%                                                                   ETA: 23s (1.0 it/s) Forward Transformations (splines and SPHARM) ...\u001b[1m\u001b[38;2;69;239;239m ━━━━━━━━━━━━━━\u001b[2m──────── 67%                                                                   ETA: 21s (1.1 it/s) Forward Transformations (splines and SPHARM) ...\u001b[1m\u001b[38;2;69;239;239m ━━━━━━━━━━━━━━━\u001b[2m─────── 68%                                                                   ETA: 20s (1.1 it/s) Forward Transformations (splines and SPHARM) ...\u001b[1m\u001b[38;2;69;239;239m ━━━━━━━━━━━━━━━\u001b[2m─────── 70%                                                                   ETA: 19s (1.1 it/s) Forward Transformations (splines and SPHARM) ...\u001b[1m\u001b[38;2;69;239;239m ━━━━━━━━━━━━━━━\u001b[2m─────── 71%                                                                   ETA: 18s (1.1 it/s) Forward Transformations (splines and SPHARM) ...\u001b[1m\u001b[38;2;69;239;239m ━━━━━━━━━━━━━━━━\u001b[2m────── 72%                                                                   ETA: 16s (1.2 it/s) Forward Transformations (splines and SPHARM) ...\u001b[1m\u001b[38;2;69;239;239m ━━━━━━━━━━━━━━━━\u001b[2m────── 74%                                                                   ETA: 15s (1.2 it/s) Forward Transformations (splines and SPHARM) ...\u001b[1m\u001b[38;2;69;239;239m ━━━━━━━━━━━━━━━━\u001b[2m────── 75%                                                                   ETA: 14s (1.2 it/s) Forward Transformations (splines and SPHARM) ...\u001b[1m\u001b[38;2;69;239;239m ━━━━━━━━━━━━━━━━━\u001b[2m───── 77%                                                                   ETA: 13s (1.2 it/s) Forward Transformations (splines and SPHARM) ...\u001b[1m\u001b[38;2;69;239;239m ━━━━━━━━━━━━━━━━━\u001b[2m───── 78%                                                                   ETA: 12s (1.2 it/s) Forward Transformations (splines and SPHARM) ...\u001b[1m\u001b[38;2;69;239;239m ━━━━━━━━━━━━━━━━━\u001b[2m───── 80%                                                                   ETA: 11s (1.3 it/s) Forward Transformations (splines and SPHARM) ...\u001b[1m\u001b[38;2;69;239;239m ━━━━━━━━━━━━━━━━━━\u001b[2m──── 81%                                                                   ETA: 10s (1.3 it/s) Forward Transformations (splines and SPHARM) ...\u001b[1m\u001b[38;2;69;239;239m ━━━━━━━━━━━━━━━━━━\u001b[2m──── 83%                                                                   ETA: 9s (1.3 it/s) Forward Transformations (splines and SPHARM) ...\u001b[1m\u001b[38;2;69;239;239m ━━━━━━━━━━━━━━━━━━\u001b[2m──── 84%                                                                   ETA: 8s (1.3 it/s) Forward Transformations (splines and SPHARM) ...\u001b[1m\u001b[38;2;69;239;239m ━━━━━━━━━━━━━━━━━━━\u001b[2m─── 86%                                                                   ETA: 7s (1.3 it/s) Forward Transformations (splines and SPHARM) ...\u001b[1m\u001b[38;2;69;239;239m ━━━━━━━━━━━━━━━━━━━\u001b[2m─── 87%                                                                   ETA: 7s (1.4 it/s) Forward Transformations (splines and SPHARM) ...\u001b[1m\u001b[38;2;69;239;239m ━━━━━━━━━━━━━━━━━━━\u001b[2m─── 88%                                                                   ETA: 6s (1.4 it/s) Forward Transformations (splines and SPHARM) ...\u001b[1m\u001b[38;2;69;239;239m ━━━━━━━━━━━━━━━━━━━━\u001b[2m── 90%                                                                   ETA: 5s (1.4 it/s) Forward Transformations (splines and SPHARM) ...\u001b[1m\u001b[38;2;69;239;239m ━━━━━━━━━━━━━━━━━━━━\u001b[2m── 91%                                                                   ETA: 4s (1.4 it/s) Forward Transformations (splines and SPHARM) ...\u001b[1m\u001b[38;2;69;239;239m ━━━━━━━━━━━━━━━━━━━━\u001b[2m── 93%                                                                   ETA: 3s (1.4 it/s) Forward Transformations (splines and SPHARM) ...\u001b[1m\u001b[38;2;69;239;239m ━━━━━━━━━━━━━━━━━━━━━\u001b[2m─ 94%                                                                   ETA: 3s (1.5 it/s) Forward Transformations (splines and SPHARM) ...\u001b[1m\u001b[38;2;69;239;239m ━━━━━━━━━━━━━━━━━━━━━\u001b[2m─ 96%                                                                   ETA: 2s (1.5 it/s) Forward Transformations (splines and SPHARM) ...\u001b[1m\u001b[38;2;69;239;239m ━━━━━━━━━━━━━━━━━━━━━\u001b[2m─ 97%                                                                   ETA: 1s (1.5 it/s) Forward Transformations (splines and SPHARM) ...\u001b[1m\u001b[38;2;69;239;239m ━━━━━━━━━━━━━━━━━━━━━━\u001b[2m 99%                                                                   elapsed: 45s (1.5 it/s)        \u001b[1m\u001b[38;2;69;239;239m ━━━━━━━━━━━━━━━━━━━━━━\u001b[2m                               elapsed: 45s (1.5 it/s)        \n",
      "\u001b[1m\u001b[38;2;0;128;0m\n",
      " allIntensitiesShape.npy  \n",
      "\u001b[0m\n"
     ]
    }
   ],
   "source": [
    "printc('\\n starting...', invert=1)\n",
    "for j in pb.range():\n",
    "    ##############################################\n",
    "    # loading voxel intensities\n",
    "    allIntensities = np.load(path + limbs[j])\n",
    "    \n",
    "    allIntensitiesShape = allIntensities.shape\n",
    "\n",
    "    ##############################################\n",
    "    # Forward Transformations (Splines and SPHARM)\n",
    "    Clm = forwardTransformation(allIntensities, N, lmax)\n",
    "\n",
    "    allClmMatrix[j, :, :, :, :] = Clm\n",
    "\n",
    "    del Clm, allIntensities\n",
    "    pb.print('Forward Transformations (splines and SPHARM) ...')\n",
    "\n",
    "np.save(path_resultsCLM + 'allClmMatrix', allClmMatrix)\n",
    "# np.save(pathOutClm + 'samplePointsCoord', samplePointsCoord)\n",
    "# np.save(pathOutClm + 'allIntensities', allIntensities)\n",
    "np.save(path_resultsCLM+'allIntensitiesShape', allIntensitiesShape)\n",
    "printc('\\n allIntensitiesShape.npy  \\n', c='green')"
   ]
  },
  {
   "cell_type": "code",
   "execution_count": 95,
   "id": "36de3e66-1b11-4deb-888d-25208a018575",
   "metadata": {
    "tags": []
   },
   "outputs": [
    {
     "data": {
      "text/plain": [
       "'277'"
      ]
     },
     "execution_count": 95,
     "metadata": {},
     "output_type": "execute_result"
    }
   ],
   "source": [
    "limbs[0]\n",
    "limbs[0].split('.')[0].split('_')[-2]\n",
    "#time = limbs[0].split('.')[0].split('/')[-1].split('_')[1]\n",
    "#time"
   ]
  },
  {
   "cell_type": "code",
   "execution_count": 97,
   "id": "f66a63c5-705c-4dc8-9fc3-b063a1d2f4e7",
   "metadata": {
    "tags": []
   },
   "outputs": [],
   "source": [
    "allClmMatrix;"
   ]
  },
  {
   "cell_type": "code",
   "execution_count": 100,
   "id": "ad1bfdc7-d55f-485f-a494-d6906d015e44",
   "metadata": {
    "tags": []
   },
   "outputs": [
    {
     "data": {
      "text/plain": [
       "(277, 'allIntensities_ReferenceShape_277_1.npy')"
      ]
     },
     "execution_count": 100,
     "metadata": {},
     "output_type": "execute_result"
    }
   ],
   "source": [
    "t = []\n",
    "nb_t = len(limbs)\n",
    "\n",
    "for j in range(nb_t):\n",
    "    t.append(int(limbs[j].split('.')[0].split('_')[-2]))\n",
    "\n",
    "t[0],limbs[0]"
   ]
  },
  {
   "cell_type": "code",
   "execution_count": 109,
   "id": "bee93c2f-1704-4540-92d4-8ef250eadcc2",
   "metadata": {
    "tags": []
   },
   "outputs": [
    {
     "name": "stdout",
     "output_type": "stream",
     "text": [
      "69 limbs!! \n",
      "\n"
     ]
    },
    {
     "data": {
      "text/plain": [
       "0"
      ]
     },
     "execution_count": 109,
     "metadata": {},
     "output_type": "execute_result"
    }
   ],
   "source": [
    "t;\n",
    "Treal = np.arange(t[0], t[-1]+1, dtype=int)\n",
    "newTotLimbs = len(Treal)\n",
    "\n",
    "totlimbs = len(limbs)\n",
    "print(totlimbs, 'limbs!! \\n')\n",
    "newTotLimbs"
   ]
  },
  {
   "cell_type": "code",
   "execution_count": 111,
   "id": "d770efe9-08f4-41cc-b543-7fd6ab74c5a6",
   "metadata": {
    "tags": []
   },
   "outputs": [
    {
     "data": {
      "text/plain": [
       "42"
      ]
     },
     "execution_count": 111,
     "metadata": {},
     "output_type": "execute_result"
    }
   ],
   "source": [
    "t = [249, 250, 251, 254, 257, 257, 257, 257, 259, 260, 260, 261, 262, 263, 264, 264, 265, 265, 265, 265, 265, 265, 266, 266, 266, 267,\n",
    "     268, 268, 269, 270, 270, 270, 270, 271, 271, 271, 271, 272, 272, 272, 273, 273, 274, 274, 274, 274, 274, 275, 275, 275, 275, 275, 276, 276, 276,\n",
    "     277, 277, 278, 279, 283, 284, 285, 287, 288, 288, 288, 289, 290, 290]\n",
    "\n",
    "Treal = np.arange(t[0], t[-1]+1, dtype=int)\n",
    "newTotLimbs = len(Treal)\n",
    "newTotLimbs"
   ]
  },
  {
   "cell_type": "code",
   "execution_count": 112,
   "id": "6907fff8-add9-4e03-b6d4-2a63fdfe5de9",
   "metadata": {
    "tags": []
   },
   "outputs": [
    {
     "data": {
      "text/plain": [
       "(249, 291)"
      ]
     },
     "execution_count": 112,
     "metadata": {},
     "output_type": "execute_result"
    }
   ],
   "source": [
    "t[0], t[-1]+1"
   ]
  },
  {
   "cell_type": "code",
   "execution_count": 102,
   "id": "8ae7d3ed-7b01-40b7-b49b-0bdf5a5f46be",
   "metadata": {
    "tags": []
   },
   "outputs": [],
   "source": [
    "##########\n",
    "# splining\n",
    "##########\n",
    "maxt = np.max(t)\n",
    "mint = np.min(t)\n",
    "\n",
    "xnew = np.linspace(mint, maxt, newTotLimbs)\n",
    "allClmSpline = np.zeros(shape=(newTotLimbs, radiusDiscretisation,\n",
    "                        2, allClmMatrix.shape[3], allClmMatrix.shape[4]))\n",
    "# new clm from splines\n",
    "range_m = np.linspace(0, newTotLimbs, num=allClmSpline.shape[0], endpoint=False).astype(int)\n"
   ]
  },
  {
   "cell_type": "code",
   "execution_count": 105,
   "id": "b2f5f3d9-d495-45ef-ade8-8c4fda9e8ea7",
   "metadata": {
    "tags": []
   },
   "outputs": [
    {
     "data": {
      "text/plain": [
       "(290, 249, (69, 50, 2, 50, 50))"
      ]
     },
     "execution_count": 105,
     "metadata": {},
     "output_type": "execute_result"
    }
   ],
   "source": [
    "maxt, mint, allClmMatrix.shape"
   ]
  },
  {
   "cell_type": "code",
   "execution_count": 106,
   "id": "ce5e9e40-fd32-4a82-a529-5989f6422cdf",
   "metadata": {
    "tags": []
   },
   "outputs": [
    {
     "name": "stdout",
     "output_type": "stream",
     "text": [
      "\u001b[0m\u001b[38;2;69;239;239m \u001b[2m─────────────────────── 2% splining ...\u001b[1m\u001b[38;2;69;239;239m \u001b[2m────────────────────── 4%           ETA: 10s (4.8 it/s) splining ...\u001b[1m\u001b[38;2;69;239;239m \u001b[2m────────────────────── 6%                               ETA: 10s (4.8 it/s) splining ...\u001b[1m\u001b[38;2;69;239;239m ━\u001b[2m───────────────────── 8%                               ETA: 9s (4.9 it/s) splining ...\u001b[1m\u001b[38;2;69;239;239m ━\u001b[2m───────────────────── 10%                               ETA: 9s (4.9 it/s) splining ...\u001b[1m\u001b[38;2;69;239;239m ━━\u001b[2m──────────────────── 12%                               ETA: 9s (5.0 it/s) splining ...\u001b[1m\u001b[38;2;69;239;239m ━━\u001b[2m──────────────────── 14%                               ETA: 9s (5.0 it/s) splining ...\u001b[1m\u001b[38;2;69;239;239m ━━━\u001b[2m─────────────────── 16%                               ETA: 8s (5.0 it/s) splining ...\u001b[1m\u001b[38;2;69;239;239m ━━━\u001b[2m─────────────────── 18%                               ETA: 8s (5.0 it/s) splining ...\u001b[1m\u001b[38;2;69;239;239m ━━━━\u001b[2m────────────────── 20%                               ETA: 8s (5.0 it/s) splining ...\u001b[1m\u001b[38;2;69;239;239m ━━━━\u001b[2m────────────────── 22%                               ETA: 8s (5.0 it/s) splining ...\u001b[1m\u001b[38;2;69;239;239m ━━━━━\u001b[2m───────────────── 24%                               ETA: 8s (5.0 it/s) splining ...\u001b[1m\u001b[38;2;69;239;239m ━━━━━\u001b[2m───────────────── 26%                               ETA: 7s (5.0 it/s) splining ...\u001b[1m\u001b[38;2;69;239;239m ━━━━━\u001b[2m───────────────── 28%                               ETA: 7s (5.0 it/s) splining ...\u001b[1m\u001b[38;2;69;239;239m ━━━━━━\u001b[2m──────────────── 30%                               ETA: 7s (5.0 it/s) splining ...\u001b[1m\u001b[38;2;69;239;239m ━━━━━━\u001b[2m──────────────── 32%                               ETA: 7s (5.0 it/s) splining ...\u001b[1m\u001b[38;2;69;239;239m ━━━━━━━\u001b[2m─────────────── 34%                               ETA: 7s (5.0 it/s) splining ...\u001b[1m\u001b[38;2;69;239;239m ━━━━━━━\u001b[2m─────────────── 36%                               ETA: 6s (5.0 it/s) splining ...\u001b[1m\u001b[38;2;69;239;239m ━━━━━━━━\u001b[2m────────────── 38%                               ETA: 6s (5.0 it/s) splining ...\u001b[1m\u001b[38;2;69;239;239m ━━━━━━━━\u001b[2m────────────── 40%                               ETA: 6s (5.0 it/s) splining ...\u001b[1m\u001b[38;2;69;239;239m ━━━━━━━━━\u001b[2m───────────── 42%                               ETA: 6s (5.0 it/s) splining ...\u001b[1m\u001b[38;2;69;239;239m ━━━━━━━━━\u001b[2m───────────── 44%                               ETA: 6s (5.0 it/s) splining ...\u001b[1m\u001b[38;2;69;239;239m ━━━━━━━━━━\u001b[2m──────────── 46%                               ETA: 5s (5.0 it/s) splining ...\u001b[1m\u001b[38;2;69;239;239m ━━━━━━━━━━\u001b[2m──────────── 48%                               ETA: 5s (5.0 it/s) splining ...\u001b[1m\u001b[38;2;69;239;239m ━━━━━━━━━━━\u001b[2m─────────── 50%                               ETA: 5s (5.0 it/s) splining ...\u001b[1m\u001b[38;2;69;239;239m ━━━━━━━━━━━\u001b[2m─────────── 52%                               ETA: 5s (5.0 it/s) splining ...\u001b[1m\u001b[38;2;69;239;239m ━━━━━━━━━━━\u001b[2m─────────── 54%                               ETA: 5s (5.0 it/s) splining ...\u001b[1m\u001b[38;2;69;239;239m ━━━━━━━━━━━━\u001b[2m────────── 56%                               ETA: 4s (5.0 it/s) splining ...\u001b[1m\u001b[38;2;69;239;239m ━━━━━━━━━━━━\u001b[2m────────── 58%                               ETA: 4s (5.0 it/s) splining ...\u001b[1m\u001b[38;2;69;239;239m ━━━━━━━━━━━━━\u001b[2m───────── 60%                               ETA: 4s (5.0 it/s) splining ...\u001b[1m\u001b[38;2;69;239;239m ━━━━━━━━━━━━━\u001b[2m───────── 62%                               ETA: 4s (5.0 it/s) splining ...\u001b[1m\u001b[38;2;69;239;239m ━━━━━━━━━━━━━━\u001b[2m──────── 64%                               ETA: 4s (5.0 it/s) splining ...\u001b[1m\u001b[38;2;69;239;239m ━━━━━━━━━━━━━━\u001b[2m──────── 66%                               ETA: 3s (5.0 it/s) splining ...\u001b[1m\u001b[38;2;69;239;239m ━━━━━━━━━━━━━━━\u001b[2m─────── 68%                               ETA: 3s (5.0 it/s) splining ...\u001b[1m\u001b[38;2;69;239;239m ━━━━━━━━━━━━━━━\u001b[2m─────── 70%                               ETA: 3s (5.0 it/s) splining ...\u001b[1m\u001b[38;2;69;239;239m ━━━━━━━━━━━━━━━━\u001b[2m────── 72%                               ETA: 3s (5.0 it/s) splining ...\u001b[1m\u001b[38;2;69;239;239m ━━━━━━━━━━━━━━━━\u001b[2m────── 74%                               ETA: 3s (5.0 it/s) splining ...\u001b[1m\u001b[38;2;69;239;239m ━━━━━━━━━━━━━━━━\u001b[2m────── 76%                               ETA: 2s (5.0 it/s) splining ...\u001b[1m\u001b[38;2;69;239;239m ━━━━━━━━━━━━━━━━━\u001b[2m───── 78%                               ETA: 2s (5.0 it/s) splining ...\u001b[1m\u001b[38;2;69;239;239m ━━━━━━━━━━━━━━━━━\u001b[2m───── 80%                               ETA: 2s (5.0 it/s) splining ...\u001b[1m\u001b[38;2;69;239;239m ━━━━━━━━━━━━━━━━━━\u001b[2m──── 82%                               ETA: 2s (5.0 it/s) splining ...\u001b[1m\u001b[38;2;69;239;239m ━━━━━━━━━━━━━━━━━━\u001b[2m──── 84%                               ETA: 2s (5.0 it/s) splining ...\u001b[1m\u001b[38;2;69;239;239m ━━━━━━━━━━━━━━━━━━━\u001b[2m─── 86%                               ETA: 1s (5.0 it/s) splining ...\u001b[1m\u001b[38;2;69;239;239m ━━━━━━━━━━━━━━━━━━━\u001b[2m─── 88%                               ETA: 1s (5.0 it/s) splining ...\u001b[1m\u001b[38;2;69;239;239m ━━━━━━━━━━━━━━━━━━━━\u001b[2m── 90%                               elapsed: 9s (5.0 it/s)        \u001b[1m\u001b[38;2;69;239;239m ━━━━━━━━━━━━━━━━━━━━\u001b[2m── 92%                             elapsed: 9s (5.0 it/s)        \u001b[1m\u001b[38;2;69;239;239m ━━━━━━━━━━━━━━━━━━━━━\u001b[2m─ 94%                             elapsed: 9s (5.0 it/s)        \u001b[1m\u001b[38;2;69;239;239m ━━━━━━━━━━━━━━━━━━━━━\u001b[2m─ 96%                             elapsed: 10s (5.0 it/s)        \u001b[1m\u001b[38;2;69;239;239m ━━━━━━━━━━━━━━━━━━━━━━\u001b[2m 98%                               elapsed: 10s (5.0 it/s)        \u001b[1m\u001b[38;2;69;239;239m ━━━━━━━━━━━━━━━━━━━━━━\u001b[2m                               elapsed: 10s (5.0 it/s)        \n",
      "allClmSpline.shape (0, 50, 2, 50, 50)\n",
      "\u001b[1m\u001b[38;2;0;128;0m\n",
      " allClmSpline.npy \n",
      "\u001b[0m\n"
     ]
    }
   ],
   "source": [
    "pb = ProgressBar(0, allClmMatrix.shape[1], c=5)\n",
    "for f in pb.range():\n",
    "    for ll in range(allClmMatrix.shape[2]):\n",
    "        for k in range(allClmMatrix.shape[3]):\n",
    "            for j in range(allClmMatrix.shape[4]):\n",
    "                spl = np.poly1d(np.polyfit(np.array(t), np.array(\n",
    "                    allClmMatrix[:, f, ll, k, j]), deg_fit))\n",
    "                ynew = spl(xnew)\n",
    "\n",
    "                for m in range(allClmSpline.shape[0]):\n",
    "                    allClmSpline[m, f, ll, k, j] = ynew[range_m[m]]\n",
    "\n",
    "    pb.print('splining ...')\n",
    "\n",
    "print('allClmSpline.shape', allClmSpline.shape)\n",
    "\n",
    "#del allClmMatrix\n",
    "\n",
    "\n",
    "np.save(path_resultsCLM + 'allClmSpline', allClmSpline)\n",
    "printc('\\n allClmSpline.npy \\n', c='green')"
   ]
  },
  {
   "cell_type": "code",
   "execution_count": 108,
   "id": "f8148c74-4bb4-463c-8274-c1d426159003",
   "metadata": {
    "tags": []
   },
   "outputs": [
    {
     "data": {
      "text/plain": [
       "0"
      ]
     },
     "execution_count": 108,
     "metadata": {},
     "output_type": "execute_result"
    }
   ],
   "source": [
    "allClmSpline.shape[0]"
   ]
  },
  {
   "cell_type": "code",
   "execution_count": 84,
   "id": "0f356b27-ccda-4e03-9ba2-a24d1c9a34e2",
   "metadata": {
    "tags": []
   },
   "outputs": [
    {
     "name": "stdout",
     "output_type": "stream",
     "text": [
      "\u001b[1m\u001b[38;2;0;128;0m\n",
      " volBounds.npy saved\n",
      "\u001b[0m\n"
     ]
    }
   ],
   "source": [
    "##############################################\n",
    "# vol parameters\n",
    "\n",
    "pathTmp = 'res/TIF-signedDist_sampleSize' + str(sampleSize) + '/'\n",
    "\n",
    "\n",
    "volTmp = load(pathTmp + 'ReferenceShape_290_2.vti')\n",
    "pos = volTmp.center()\n",
    "rmax = volTmp.diagonalSize()/2\n",
    "volBounds = np.array(volTmp.GetBounds())\n",
    "np.save(path_resultsCLM + 'volBounds', volBounds)\n",
    "printc('\\n volBounds.npy saved\\n', c='green')\n",
    "\n",
    "samplePoints = samplePoints(volTmp, expo, N, radiusDiscretisation)\n",
    "del volTmp"
   ]
  },
  {
   "cell_type": "code",
   "execution_count": 107,
   "id": "5efa3968-2ecd-4dba-839a-2be95c325b3e",
   "metadata": {
    "tags": []
   },
   "outputs": [
    {
     "data": {
      "text/plain": [
       "array([], shape=(0, 50, 2, 50, 50), dtype=float64)"
      ]
     },
     "execution_count": 107,
     "metadata": {},
     "output_type": "execute_result"
    }
   ],
   "source": [
    "path_results\n",
    "allClmSpline"
   ]
  },
  {
   "cell_type": "code",
   "execution_count": 85,
   "id": "7b7a19fa-6728-4175-8872-eccc6d85e9cb",
   "metadata": {
    "tags": []
   },
   "outputs": [],
   "source": [
    "##############################################\n",
    "# inverse Transformations\n",
    "pb = ProgressBar(0, allClmSpline.shape[0], c=5)\n",
    "\n",
    "for t in pb.range():\n",
    "    ##############################################\n",
    "    # Inverse Transformations\n",
    "    ##############################################\n",
    "    inverse_Matrix = inverseTransformations(allClmSpline[t, :, :, :, :], allIntensitiesShape, N, lmax)\n",
    "\n",
    "    intensitiesreshape = np.reshape(\n",
    "        inverse_Matrix, inverse_Matrix.shape[0] * inverse_Matrix.shape[1])\n",
    "\n",
    "    del inverse_Matrix\n",
    "\n",
    "    # ##############################\n",
    "    # #   interpolateToImageData\n",
    "    voxBin = 100  # * radiusDiscretisation\n",
    "    apts = Points(samplePoints).addPointArray(intensitiesreshape, 'scals')\n",
    "    volume = interpolateToVolume(apts, kernel='shepard', radius=(\n",
    "        rmax / 20), dims=(voxBin, voxBin, voxBin), bounds=volBounds)\n",
    "    # printHistogram(volume, logscale=False, bins=25, c='g', minbin=3)\n",
    "    del apts\n",
    "\n",
    "    ##############################################\n",
    "    # Reconstruction\n",
    "    write(volume, path_results + 'Limb-rec_' +\n",
    "          str(Treal[t]) + '.vti', binary=False)\n",
    "    write(volume.isosurface(threshold=-0.01).smoothWSinc(),\n",
    "          path_results + 'Limb-rec_' + str(Treal[t]) + '.vtk', binary=False)\n",
    "\n",
    "    del volume\n",
    "\n",
    "    pb.print('main reconstruction ... ')\n",
    "\n"
   ]
  },
  {
   "cell_type": "code",
   "execution_count": null,
   "id": "604e9072-caef-44d9-bcc0-c23fb8d67c83",
   "metadata": {},
   "outputs": [],
   "source": []
  }
 ],
 "metadata": {
  "kernelspec": {
   "display_name": "image_env",
   "language": "python",
   "name": "image_env"
  },
  "language_info": {
   "codemirror_mode": {
    "name": "ipython",
    "version": 3
   },
   "file_extension": ".py",
   "mimetype": "text/x-python",
   "name": "python",
   "nbconvert_exporter": "python",
   "pygments_lexer": "ipython3",
   "version": "3.9.18"
  }
 },
 "nbformat": 4,
 "nbformat_minor": 5
}
